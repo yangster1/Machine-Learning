{
 "cells": [
  {
   "cell_type": "code",
   "execution_count": 49,
   "id": "cross-knowing",
   "metadata": {},
   "outputs": [],
   "source": [
    "import numpy as np\n",
    "import pandas as pd\n",
    "import matplotlib.pyplot as plt\n",
    "import matplotlib.cm as cm"
   ]
  },
  {
   "cell_type": "markdown",
   "id": "demographic-marriage",
   "metadata": {},
   "source": [
    "1.1"
   ]
  },
  {
   "cell_type": "code",
   "execution_count": 50,
   "id": "hazardous-canada",
   "metadata": {},
   "outputs": [],
   "source": [
    "df_three = pd.read_csv('three.txt', header = None, sep=\" \")"
   ]
  },
  {
   "cell_type": "code",
   "execution_count": 51,
   "id": "educational-drove",
   "metadata": {},
   "outputs": [],
   "source": [
    "arr_three = np.loadtxt('three.txt')\n",
    "arr_eight = np.loadtxt('eight.txt')"
   ]
  },
  {
   "cell_type": "code",
   "execution_count": 52,
   "id": "metric-interim",
   "metadata": {},
   "outputs": [
    {
     "data": {
      "text/plain": [
       "(200, 256)"
      ]
     },
     "execution_count": 52,
     "metadata": {},
     "output_type": "execute_result"
    }
   ],
   "source": [
    "arr_three.shape"
   ]
  },
  {
   "cell_type": "code",
   "execution_count": 53,
   "id": "damaged-router",
   "metadata": {},
   "outputs": [],
   "source": [
    "three1 = arr_three[0,:].reshape(16, 16).T\n",
    "eight1 = arr_eight[0,:].reshape(16, 16).T"
   ]
  },
  {
   "cell_type": "code",
   "execution_count": 54,
   "id": "sixth-center",
   "metadata": {},
   "outputs": [
    {
     "data": {
      "text/plain": [
       "<matplotlib.image.AxesImage at 0x2a12eed9388>"
      ]
     },
     "execution_count": 54,
     "metadata": {},
     "output_type": "execute_result"
    },
    {
     "data": {
      "image/png": "[encoded data removed]",
      "text/plain": [
       "<Figure size 432x288 with 1 Axes>"
      ]
     },
     "metadata": {
      "needs_background": "light"
     },
     "output_type": "display_data"
    }
   ],
   "source": [
    "plt.imshow(three1, cmap = cm.gray)"
   ]
  },
  {
   "cell_type": "code",
   "execution_count": 55,
   "id": "thrown-assistant",
   "metadata": {},
   "outputs": [
    {
     "data": {
      "text/plain": [
       "<matplotlib.image.AxesImage at 0x2a12eef1088>"
      ]
     },
     "execution_count": 55,
     "metadata": {},
     "output_type": "execute_result"
    },
    {
     "data": {
      "image/png": "[encoded data removed]",
      "text/plain": [
       "<Figure size 432x288 with 1 Axes>"
      ]
     },
     "metadata": {
      "needs_background": "light"
     },
     "output_type": "display_data"
    }
   ],
   "source": [
    "plt.imshow(eight1, cmap = cm.gray)"
   ]
  },
  {
   "cell_type": "markdown",
   "id": "downtown-necklace",
   "metadata": {},
   "source": [
    "1.2"
   ]
  },
  {
   "cell_type": "code",
   "execution_count": 56,
   "id": "fewer-funds",
   "metadata": {},
   "outputs": [],
   "source": [
    "X = np.vstack((arr_three, arr_eight))"
   ]
  },
  {
   "cell_type": "code",
   "execution_count": 57,
   "id": "separated-method",
   "metadata": {},
   "outputs": [
    {
     "data": {
      "text/plain": [
       "(400, 256)"
      ]
     },
     "execution_count": 57,
     "metadata": {},
     "output_type": "execute_result"
    }
   ],
   "source": [
    "X.shape"
   ]
  },
  {
   "cell_type": "code",
   "execution_count": 58,
   "id": "centered-billion",
   "metadata": {},
   "outputs": [],
   "source": [
    "s_mean = np.mean(X, axis = 0)"
   ]
  },
  {
   "cell_type": "code",
   "execution_count": 59,
   "id": "bottom-fundamentals",
   "metadata": {},
   "outputs": [
    {
     "data": {
      "text/plain": [
       "(256,)"
      ]
     },
     "execution_count": 59,
     "metadata": {},
     "output_type": "execute_result"
    }
   ],
   "source": [
    "s_mean.shape"
   ]
  },
  {
   "cell_type": "code",
   "execution_count": 60,
   "id": "metallic-collapse",
   "metadata": {},
   "outputs": [
    {
     "data": {
      "text/plain": [
       "<matplotlib.image.AxesImage at 0x2a13066fec8>"
      ]
     },
     "execution_count": 60,
     "metadata": {},
     "output_type": "execute_result"
    },
    {
     "data": {
      "image/png": "[encoded data removed]",
      "text/plain": [
       "<Figure size 432x288 with 1 Axes>"
      ]
     },
     "metadata": {
      "needs_background": "light"
     },
     "output_type": "display_data"
    }
   ],
   "source": [
    "plt.imshow(s_mean.reshape(16,16).T, cmap = cm.gray)"
   ]
  },
  {
   "cell_type": "markdown",
   "id": "julian-athletics",
   "metadata": {},
   "source": [
    "1.3"
   ]
  },
  {
   "cell_type": "code",
   "execution_count": 61,
   "id": "lightweight-suggestion",
   "metadata": {},
   "outputs": [
    {
     "data": {
      "text/plain": [
       "(256,)"
      ]
     },
     "execution_count": 61,
     "metadata": {},
     "output_type": "execute_result"
    }
   ],
   "source": [
    "s_mean.shape"
   ]
  },
  {
   "cell_type": "code",
   "execution_count": 62,
   "id": "rubber-belarus",
   "metadata": {},
   "outputs": [
    {
     "data": {
      "text/plain": [
       "(400, 256)"
      ]
     },
     "execution_count": 62,
     "metadata": {},
     "output_type": "execute_result"
    }
   ],
   "source": [
    "X.shape"
   ]
  },
  {
   "cell_type": "code",
   "execution_count": 63,
   "id": "controlled-kansas",
   "metadata": {},
   "outputs": [],
   "source": [
    "X_centered = X-s_mean"
   ]
  },
  {
   "cell_type": "code",
   "execution_count": 64,
   "id": "smooth-testament",
   "metadata": {},
   "outputs": [
    {
     "data": {
      "text/plain": [
       "(400, 256)"
      ]
     },
     "execution_count": 64,
     "metadata": {},
     "output_type": "execute_result"
    }
   ],
   "source": [
    "X_centered.shape"
   ]
  },
  {
   "cell_type": "code",
   "execution_count": 65,
   "id": "foreign-sigma",
   "metadata": {},
   "outputs": [],
   "source": [
    "S = np.dot(X_centered.T, X_centered)/(len(X_centered)-1)"
   ]
  },
  {
   "cell_type": "code",
   "execution_count": 66,
   "id": "potential-attention",
   "metadata": {},
   "outputs": [
    {
     "data": {
      "text/plain": [
       "array([[  59.16729323,  142.14943609,   28.68201754,   -7.17857143,\n",
       "         -14.3358396 ],\n",
       "       [ 142.14943609,  878.93879073,  374.13731203,   24.12778195,\n",
       "         -87.12781955],\n",
       "       [  28.68201754,  374.13731203, 1082.9058584 ,  555.2268797 ,\n",
       "          33.72431078],\n",
       "       [  -7.17857143,   24.12778195,  555.2268797 , 1181.24408521,\n",
       "         777.77192982],\n",
       "       [ -14.3358396 ,  -87.12781955,   33.72431078,  777.77192982,\n",
       "        1429.95989975]])"
      ]
     },
     "execution_count": 66,
     "metadata": {},
     "output_type": "execute_result"
    }
   ],
   "source": [
    "S[0:5, 0:5]"
   ]
  },
  {
   "cell_type": "code",
   "execution_count": 67,
   "id": "hourly-mileage",
   "metadata": {},
   "outputs": [],
   "source": [
    "from sklearn.preprocessing import StandardScaler\n",
    "X_scaled = StandardScaler().fit_transform(X)"
   ]
  },
  {
   "cell_type": "code",
   "execution_count": 68,
   "id": "numerical-fishing",
   "metadata": {},
   "outputs": [],
   "source": [
    "w, v = np.linalg.eig(S)"
   ]
  },
  {
   "cell_type": "markdown",
   "id": "premium-jumping",
   "metadata": {},
   "source": [
    "1.4"
   ]
  },
  {
   "cell_type": "code",
   "execution_count": 69,
   "id": "appropriate-auditor",
   "metadata": {},
   "outputs": [
    {
     "data": {
      "text/plain": [
       "array([237155.24629049, 145188.35268683])"
      ]
     },
     "execution_count": 69,
     "metadata": {},
     "output_type": "execute_result"
    }
   ],
   "source": [
    "#top two\n",
    "w[0:2]"
   ]
  },
  {
   "cell_type": "code",
   "execution_count": 70,
   "id": "tested-butterfly",
   "metadata": {},
   "outputs": [
    {
     "data": {
      "text/plain": [
       "array([[ 3.11188937e-03,  3.49231480e-03, -2.48220275e-03,\n",
       "         1.18720285e-03, -1.79489868e-03,  5.06278342e-03,\n",
       "        -3.10991481e-03,  2.55635608e-03,  3.52141380e-04,\n",
       "        -4.97041525e-03,  7.51826548e-04,  1.94857779e-03,\n",
       "         9.52219238e-04, -2.28052155e-03, -2.47191351e-03,\n",
       "         7.46364693e-04,  1.76167433e-03,  1.29245354e-03,\n",
       "        -7.50950985e-04, -9.80739823e-03, -8.20374512e-04,\n",
       "        -3.29228671e-03, -4.15123775e-04, -7.41294705e-03,\n",
       "        -1.67380448e-03,  8.07563050e-03,  4.91251489e-03,\n",
       "        -2.47898899e-03, -4.23760211e-03,  2.79992728e-03,\n",
       "        -4.40951773e-03, -2.65716498e-03, -8.08423595e-03,\n",
       "        -6.90102149e-04, -4.45931089e-04,  6.64752180e-03,\n",
       "         3.80857157e-03,  8.20538494e-04,  6.79968552e-04,\n",
       "        -2.42548834e-03,  7.56206594e-03,  7.98741726e-04,\n",
       "         8.98119480e-03,  1.71108638e-03, -3.23877058e-03,\n",
       "         5.16004220e-03,  3.64322673e-03,  1.93965002e-03,\n",
       "        -1.02883205e-03, -3.39452778e-03, -3.26213116e-04,\n",
       "        -6.36865768e-03,  7.57261568e-03, -1.39114078e-03,\n",
       "        -1.79021162e-03, -1.09820162e-03,  4.08979314e-03,\n",
       "        -2.34642853e-03, -6.89403562e-03, -2.26467140e-04,\n",
       "        -2.66597265e-04, -6.40149537e-03, -7.27210157e-03,\n",
       "         5.52343784e-03,  1.24413910e-02, -4.50606205e-03,\n",
       "        -2.51702050e-03,  3.82534274e-03, -3.80121568e-03,\n",
       "        -1.93331862e-02,  3.16817448e-03,  2.10157535e-02,\n",
       "         1.85267469e-02, -3.94101934e-03,  6.82860879e-03,\n",
       "        -2.08161893e-03,  7.89333949e-03,  1.69491929e-03,\n",
       "         4.45338348e-03, -4.76395552e-03,  1.04108032e-02,\n",
       "         3.22526293e-03,  1.32321767e-03,  5.60981928e-03,\n",
       "        -6.70503633e-03, -7.28871246e-03,  5.78327340e-03,\n",
       "         6.01036778e-03,  4.52279081e-03,  1.71999440e-03,\n",
       "        -1.05811519e-02,  1.15228431e-02,  4.52061609e-03,\n",
       "        -1.95746311e-02, -1.49695013e-02, -1.27468792e-02,\n",
       "         2.42068791e-02, -2.87624774e-03, -4.35022539e-03,\n",
       "         5.15755327e-03, -1.59402958e-02,  4.49425936e-04,\n",
       "        -1.38449991e-02, -1.33195856e-02,  2.21637855e-02,\n",
       "         1.37406246e-02,  8.47797595e-03,  2.85596944e-02,\n",
       "        -1.57168989e-02, -9.21807389e-03,  1.74134498e-02,\n",
       "        -2.65427206e-02, -1.43350097e-02, -6.68023125e-03,\n",
       "         2.04174526e-02,  1.15307296e-02,  1.04223051e-02,\n",
       "        -8.52090997e-03, -3.46118166e-03,  1.24143572e-02,\n",
       "         2.47627196e-02, -4.76885140e-03, -2.74437367e-02,\n",
       "         3.19586136e-02, -3.11495210e-02,  8.31703578e-03,\n",
       "         1.88742617e-02, -1.56915923e-02, -3.45181154e-03,\n",
       "         1.44292795e-02,  6.53417126e-03,  1.48443146e-02,\n",
       "        -1.88242313e-02, -6.01519736e-03, -1.66742979e-02,\n",
       "         1.46642105e-02, -1.71880543e-03, -4.45655258e-03,\n",
       "         1.95404599e-03,  2.03788536e-04, -1.64508043e-02,\n",
       "        -9.49564300e-03,  4.02615369e-02,  2.58534546e-02,\n",
       "         6.33660478e-03, -1.64710645e-02,  1.85162420e-02,\n",
       "         1.05731826e-03,  1.22959424e-02, -9.43019893e-03,\n",
       "        -1.89903404e-02,  2.45705908e-02, -2.91396098e-02,\n",
       "        -1.14615283e-02, -2.32798337e-02,  3.23359503e-02,\n",
       "        -4.93965770e-03,  8.54234485e-04, -2.97735532e-03,\n",
       "        -5.86012490e-02, -1.59785681e-02,  2.51569584e-02,\n",
       "         3.87672799e-02,  7.59864122e-03, -2.17080407e-02,\n",
       "        -5.84717985e-04,  4.77444433e-03,  1.38106874e-02,\n",
       "         5.91897960e-03,  1.87548985e-02, -5.53297241e-02,\n",
       "        -4.58578265e-02, -2.88955500e-03, -1.00855175e-02,\n",
       "         4.68723623e-02, -5.85186171e-04,  5.83083363e-03,\n",
       "        -4.39093465e-02, -6.97992586e-03, -1.96929481e-02,\n",
       "        -4.32721831e-02,  5.18340039e-02,  3.30518099e-02,\n",
       "        -1.27353720e-03,  1.55615343e-02, -4.19341715e-02,\n",
       "         1.73938142e-03,  4.58910969e-02,  7.90996279e-02,\n",
       "        -2.05740209e-02,  2.12670221e-02,  3.00225569e-02,\n",
       "         3.35595927e-02,  5.94233285e-02,  2.59087948e-02,\n",
       "         4.41070081e-05, -3.78223740e-01, -7.73833715e-01,\n",
       "        -2.37020557e-01,  5.16775802e-02, -7.71201444e-02,\n",
       "        -1.45498178e-01, -6.81109097e-03, -2.81507033e-02,\n",
       "        -1.66619322e-02,  5.75306688e-03, -1.21704448e-01,\n",
       "         4.07328289e-02, -6.55937773e-02,  7.29071791e-02,\n",
       "         5.82567438e-02, -8.09640122e-02,  8.26971719e-02,\n",
       "        -3.96154298e-02, -3.06959149e-02,  4.96133568e-02,\n",
       "         1.15205384e-02, -5.74088791e-03, -5.68784787e-02,\n",
       "        -2.26930403e-02, -1.91271341e-02, -3.56113179e-02,\n",
       "        -3.16361158e-02,  8.19259915e-02, -5.53360998e-02,\n",
       "         7.00990587e-02,  1.17518134e-02,  1.97232454e-02,\n",
       "        -2.32227675e-02,  3.11806627e-02,  8.32723799e-03,\n",
       "        -4.03928967e-02, -9.92552761e-03,  9.97731890e-02,\n",
       "         3.23785099e-02, -6.95494744e-02, -7.42207415e-02,\n",
       "        -4.96848659e-02,  5.28688773e-02,  4.78454434e-02,\n",
       "        -4.47621883e-02,  1.59922476e-02,  1.98461879e-03,\n",
       "         1.33585439e-02,  1.15266107e-02,  2.78654915e-02,\n",
       "        -9.23696552e-03,  1.59935322e-02, -4.00157028e-02,\n",
       "         9.26008875e-03, -1.33835509e-03, -3.00407937e-02,\n",
       "         3.06936611e-02,  8.21685265e-03,  7.65153549e-03,\n",
       "         8.34482452e-04],\n",
       "       [ 1.58516918e-02,  2.13942135e-02, -9.01893100e-03,\n",
       "         9.39673610e-03, -1.26698396e-02,  2.11279545e-02,\n",
       "        -2.01475598e-02,  1.51282699e-02, -7.30566514e-03,\n",
       "        -2.45057455e-02, -8.97193999e-03,  4.00055281e-03,\n",
       "         8.75313313e-03, -1.68699223e-02,  6.40051990e-03,\n",
       "         4.64852460e-03, -1.26973497e-02,  1.55153210e-02,\n",
       "        -5.95701279e-03, -3.92829879e-02, -7.91101719e-03,\n",
       "        -3.13826794e-02, -1.58793532e-02, -5.35079212e-02,\n",
       "        -1.04918095e-02,  4.51944793e-02,  2.78760380e-04,\n",
       "        -1.95384016e-02, -2.41762381e-02,  2.05483366e-02,\n",
       "        -4.33702153e-03, -3.69632494e-02, -3.89390073e-02,\n",
       "        -2.49718010e-03, -1.16847688e-02,  1.78639124e-02,\n",
       "         2.96697622e-02,  3.56884362e-02, -1.88821265e-02,\n",
       "         2.01280629e-02,  3.99883906e-02, -1.68690948e-03,\n",
       "         3.19025736e-02,  1.36380824e-02,  2.35219337e-02,\n",
       "         2.57967783e-02, -6.60585939e-04,  2.61924495e-04,\n",
       "         3.33439223e-02, -3.67908817e-02, -1.99601917e-02,\n",
       "         1.74293315e-02,  2.40263316e-02,  9.20497796e-03,\n",
       "        -3.44559933e-02,  1.20563177e-02,  1.43748809e-02,\n",
       "         2.22230505e-02, -2.93872614e-02,  4.83724729e-03,\n",
       "        -2.26854277e-02, -3.93453235e-02, -2.80856126e-02,\n",
       "         1.10835573e-02,  5.50061343e-02, -2.13501735e-02,\n",
       "        -2.59495928e-02,  2.10107846e-02, -1.32602787e-02,\n",
       "        -5.74973732e-02,  5.66441467e-02,  4.90935963e-02,\n",
       "         6.93855343e-02,  7.38453857e-03,  5.13740997e-02,\n",
       "        -3.38106519e-02,  1.01548094e-02, -1.17702752e-02,\n",
       "         2.66884607e-03, -5.00625802e-03,  5.65514601e-02,\n",
       "         3.44787982e-02,  2.87283709e-03,  5.75918887e-03,\n",
       "        -2.28747501e-02,  2.07703810e-02,  3.42232217e-02,\n",
       "         2.61718894e-02,  2.58816554e-02,  2.41210896e-02,\n",
       "        -4.04713087e-02,  6.25281928e-02,  8.71522526e-02,\n",
       "        -2.17658379e-02,  3.12237531e-02,  3.57491243e-03,\n",
       "         2.09242977e-02, -3.58378056e-02, -2.11030386e-02,\n",
       "        -1.33579827e-02, -1.26902587e-02,  9.65280833e-03,\n",
       "        -2.94803157e-02,  2.02138111e-03,  4.53665832e-02,\n",
       "        -1.14426398e-02,  1.25634966e-02,  6.56476551e-02,\n",
       "        -2.33321333e-02, -6.46300388e-02,  7.60881701e-02,\n",
       "        -4.64617807e-02, -5.30391312e-02,  2.43498187e-02,\n",
       "         1.24722823e-01,  2.19133649e-02, -2.92082036e-03,\n",
       "        -6.93124911e-02, -5.99163175e-02,  1.11006171e-02,\n",
       "         8.79691467e-02,  2.10662199e-02, -6.83883482e-02,\n",
       "         7.12341576e-02, -1.04993571e-01, -6.49275615e-03,\n",
       "        -1.67208935e-02, -2.82859334e-02,  9.96924592e-02,\n",
       "         5.40936274e-02, -2.66688398e-02, -2.88727858e-03,\n",
       "         5.87263108e-02, -2.15741872e-02,  2.36985303e-02,\n",
       "         4.97768582e-03, -5.94269795e-02,  2.12288296e-02,\n",
       "         2.72211036e-02,  9.38402160e-03,  9.93407278e-03,\n",
       "         2.41882450e-02,  8.91535333e-02,  6.17533430e-02,\n",
       "         7.02203358e-02, -3.42437518e-02,  1.00190343e-01,\n",
       "         4.83335788e-02,  5.69169149e-02, -9.86534909e-02,\n",
       "        -4.86635552e-02,  1.38020785e-03,  4.61486659e-02,\n",
       "         7.19944850e-03, -8.85444528e-02,  1.25426691e-01,\n",
       "        -5.72004682e-02,  5.47015698e-03,  2.04427467e-02,\n",
       "        -2.38930800e-02, -4.02559816e-02,  6.83943036e-02,\n",
       "         4.19230293e-02, -2.55304957e-02, -2.84752742e-02,\n",
       "         2.97129711e-02, -1.95040189e-03,  6.59264912e-02,\n",
       "         6.38390587e-02,  1.47175085e-01, -3.16164827e-02,\n",
       "         3.89285943e-02, -2.06072897e-02, -1.16406722e-03,\n",
       "         4.55054087e-02,  9.05340309e-02,  1.72554664e-02,\n",
       "        -5.01236082e-02,  6.68948972e-02, -2.09428048e-02,\n",
       "        -2.10111457e-02, -7.00722241e-02,  1.30866621e-02,\n",
       "        -1.26130196e-02,  6.93571477e-02,  3.15626119e-02,\n",
       "         5.22746038e-02,  5.54950380e-02,  3.97832168e-02,\n",
       "         4.98076075e-02, -2.30381561e-02,  5.26119611e-03,\n",
       "         2.55929767e-02, -5.58228975e-02,  9.62736628e-02,\n",
       "        -8.18393231e-05,  3.15075103e-02,  9.15804904e-02,\n",
       "         1.53423613e-02, -2.00429437e-02, -3.74553260e-02,\n",
       "        -9.67022243e-02,  2.00484798e-02, -1.20610618e-01,\n",
       "         1.03822019e-02,  1.72515682e-01,  8.46222942e-02,\n",
       "        -6.10463849e-02, -2.34033491e-02, -3.69208836e-02,\n",
       "         1.41095525e-01,  1.56868209e-01, -1.55815531e-01,\n",
       "        -3.78756121e-02, -5.60754372e-03, -5.84128863e-02,\n",
       "        -3.18708621e-02,  1.26870406e-01, -4.86573652e-02,\n",
       "         6.20049292e-02,  3.02205319e-02, -7.83803394e-02,\n",
       "         1.02902120e-01, -9.28952689e-02, -1.25053300e-01,\n",
       "         6.00508056e-02, -1.64018567e-01, -8.66649955e-02,\n",
       "        -9.85476039e-02,  1.22776628e-01,  2.80872106e-01,\n",
       "        -1.05274754e-01, -1.56777004e-02,  1.10126379e-01,\n",
       "         1.64797031e-01,  7.40379579e-02, -8.33891776e-02,\n",
       "        -3.15584020e-02,  1.43896718e-02, -1.59716175e-01,\n",
       "        -2.10347907e-01,  3.85121834e-02, -6.29211635e-02,\n",
       "         6.90099001e-02, -1.54732869e-01, -3.16247562e-02,\n",
       "         7.89277343e-02,  1.62478120e-01, -5.11858481e-02,\n",
       "         1.74414216e-01,  1.71330156e-02,  7.57717777e-02,\n",
       "         5.85410813e-02, -1.15159924e-01, -1.41290154e-01,\n",
       "        -9.13192498e-02]])"
      ]
     },
     "execution_count": 70,
     "metadata": {},
     "output_type": "execute_result"
    }
   ],
   "source": [
    "v[0:2]"
   ]
  },
  {
   "cell_type": "code",
   "execution_count": 72,
   "id": "quality-credits",
   "metadata": {},
   "outputs": [
    {
     "data": {
      "text/plain": [
       "<matplotlib.colorbar.Colorbar at 0x2a130876148>"
      ]
     },
     "execution_count": 72,
     "metadata": {},
     "output_type": "execute_result"
    },
    {
     "data": {
      "image/png": "[encoded data removed]",
      "text/plain": [
       "<Figure size 432x288 with 2 Axes>"
      ]
     },
     "metadata": {
      "needs_background": "light"
     },
     "output_type": "display_data"
    }
   ],
   "source": [
    "v0=v[:,0]\n",
    "v0_scaled = (255*(v0 - min(v0))/(max(v0)-min(v0)))\n",
    "v0_scaled = v0_scaled.reshape(16,16).T\n",
    "plt.imshow(v0_scaled, cmap=cm.gray)\n",
    "plt.colorbar()"
   ]
  },
  {
   "cell_type": "code",
   "execution_count": 73,
   "id": "returning-yugoslavia",
   "metadata": {},
   "outputs": [
    {
     "data": {
      "text/plain": [
       "<matplotlib.colorbar.Colorbar at 0x2a1309a4788>"
      ]
     },
     "execution_count": 73,
     "metadata": {},
     "output_type": "execute_result"
    },
    {
     "data": {
      "image/png": "[encoded data removed]",
      "text/plain": [
       "<Figure size 432x288 with 2 Axes>"
      ]
     },
     "metadata": {
      "needs_background": "light"
     },
     "output_type": "display_data"
    }
   ],
   "source": [
    "v1=v[:,1]\n",
    "v1_scaled = (255*(v1 - min(v1))/(max(v1)-min(v1)))\n",
    "v1_scaled = v1_scaled.reshape(16,16).T\n",
    "plt.imshow(v1_scaled, cmap=cm.gray)\n",
    "plt.colorbar()"
   ]
  },
  {
   "cell_type": "markdown",
   "id": "lined-nation",
   "metadata": {},
   "source": [
    "1.5"
   ]
  },
  {
   "cell_type": "code",
   "execution_count": 74,
   "id": "precious-mustang",
   "metadata": {},
   "outputs": [],
   "source": [
    "V=v[:,0:2]"
   ]
  },
  {
   "cell_type": "code",
   "execution_count": 75,
   "id": "separate-affair",
   "metadata": {},
   "outputs": [
    {
     "data": {
      "text/plain": [
       "(256, 2)"
      ]
     },
     "execution_count": 75,
     "metadata": {},
     "output_type": "execute_result"
    }
   ],
   "source": [
    "V.shape"
   ]
  },
  {
   "cell_type": "code",
   "execution_count": 76,
   "id": "psychological-anime",
   "metadata": {},
   "outputs": [
    {
     "data": {
      "text/plain": [
       "200"
      ]
     },
     "execution_count": 76,
     "metadata": {},
     "output_type": "execute_result"
    }
   ],
   "source": [
    "len(arr_three)"
   ]
  },
  {
   "cell_type": "code",
   "execution_count": 77,
   "id": "superb-parish",
   "metadata": {},
   "outputs": [],
   "source": [
    "#proj = np.dot(X, V)\n",
    "proj = X_centered.dot(V)"
   ]
  },
  {
   "cell_type": "code",
   "execution_count": 79,
   "id": "flush-retirement",
   "metadata": {},
   "outputs": [
    {
     "data": {
      "text/plain": [
       "(array([ 136.20872784, -242.62848028]), array([-312.68702792,  649.57346086]))"
      ]
     },
     "execution_count": 79,
     "metadata": {},
     "output_type": "execute_result"
    }
   ],
   "source": [
    "proj[0,:], proj[200,:]"
   ]
  },
  {
   "cell_type": "markdown",
   "id": "purple-brick",
   "metadata": {},
   "source": [
    "1.6"
   ]
  },
  {
   "cell_type": "code",
   "execution_count": 177,
   "id": "traditional-domestic",
   "metadata": {},
   "outputs": [
    {
     "data": {
      "text/plain": [
       "<matplotlib.collections.PathCollection at 0x20229c86988>"
      ]
     },
     "execution_count": 177,
     "metadata": {},
     "output_type": "execute_result"
    },
    {
     "data": {
      "image/png": "[encoded data removed]",
      "text/plain": [
       "<Figure size 432x288 with 1 Axes>"
      ]
     },
     "metadata": {
      "needs_background": "light"
     },
     "output_type": "display_data"
    }
   ],
   "source": [
    "plt.scatter(proj[0:200,0], proj[0:200,1], color = 'r', label = 'three')\n",
    "plt.scatter(proj[200:,0], proj[200:,1], color = 'b', label = 'eight')"
   ]
  },
  {
   "cell_type": "markdown",
   "id": "thirty-radius",
   "metadata": {},
   "source": [
    "2.1"
   ]
  },
  {
   "cell_type": "code",
   "execution_count": 7,
   "id": "attached-stanley",
   "metadata": {},
   "outputs": [],
   "source": [
    "alpha = 0.5\n",
    "gamma = 0.8 #discount factor"
   ]
  },
  {
   "cell_type": "markdown",
   "id": "be173b58",
   "metadata": {},
   "source": [
    "Q table setup\n",
    "\n",
    "        Move Stay\n",
    "    A\n",
    "    B"
   ]
  },
  {
   "cell_type": "code",
   "execution_count": 26,
   "id": "sought-sigma",
   "metadata": {},
   "outputs": [],
   "source": [
    "def reward(j):\n",
    "    if j ==1:\n",
    "        return 1\n",
    "    else:\n",
    "        return 0"
   ]
  },
  {
   "cell_type": "code",
   "execution_count": 15,
   "id": "cdea0e8f",
   "metadata": {},
   "outputs": [],
   "source": [
    "dict_action = {(0,0):[(1, 0), (1,1)], (0,1):[(0, 0), (0,1)], (1,0):[(0, 0), (0,1)], (1,1):[(1, 0), (1,1)]}"
   ]
  },
  {
   "cell_type": "code",
   "execution_count": 14,
   "id": "d1e6463e",
   "metadata": {},
   "outputs": [
    {
     "data": {
      "text/plain": [
       "((1, 1), 1)"
      ]
     },
     "execution_count": 14,
     "metadata": {},
     "output_type": "execute_result"
    }
   ],
   "source": [
    "best_action, Q_max"
   ]
  },
  {
   "cell_type": "markdown",
   "id": "d059ca0c",
   "metadata": {},
   "source": [
    "2.1"
   ]
  },
  {
   "cell_type": "code",
   "execution_count": 57,
   "id": "greenhouse-lingerie",
   "metadata": {},
   "outputs": [],
   "source": [
    "Q = np.zeros((2,2)) #initialize Q\n",
    "i = 0 # row index for Q\n",
    "j = 1 # col index for Q\n",
    "\n",
    "for epoch in range(200):\n",
    "   \n",
    "    #print(ind, q)\n",
    "    possible_actions = dict_action[(i,j)]\n",
    "    #print(possible_actions)\n",
    "    if Q[possible_actions[0]]>= Q[possible_actions[1]]: #prefer move if equal\n",
    "        best_action = possible_actions[0]\n",
    "        best_Q = Q[best_action]\n",
    "        #print('move')\n",
    "    else:\n",
    "        best_action = possible_actions[1]\n",
    "        best_Q = Q[best_action]\n",
    "        #print('stay')\n",
    "    #print(best_action, best_Q)\n",
    "\n",
    "    Q[i, j] = (1-alpha) * Q[i, j] + alpha*(reward(j) +   gamma * best_Q)\n",
    "    #print(Q)\n",
    "    i = best_action[0]\n",
    "    j = best_action[1]"
   ]
  },
  {
   "cell_type": "code",
   "execution_count": 58,
   "id": "automatic-requirement",
   "metadata": {},
   "outputs": [
    {
     "data": {
      "text/plain": [
       "array([[0. , 5. ],\n",
       "       [0.2, 0. ]])"
      ]
     },
     "execution_count": 58,
     "metadata": {},
     "output_type": "execute_result"
    }
   ],
   "source": [
    "Q"
   ]
  },
  {
   "cell_type": "markdown",
   "id": "4aaafc33",
   "metadata": {},
   "source": [
    "2.2"
   ]
  },
  {
   "cell_type": "code",
   "execution_count": 49,
   "id": "419ca1ad",
   "metadata": {},
   "outputs": [],
   "source": [
    "import random"
   ]
  },
  {
   "cell_type": "code",
   "execution_count": 50,
   "id": "b17bc015",
   "metadata": {},
   "outputs": [],
   "source": [
    "epsilon = 0.5"
   ]
  },
  {
   "cell_type": "code",
   "execution_count": 76,
   "id": "1425359e",
   "metadata": {},
   "outputs": [],
   "source": [
    "Q = np.zeros((2,2)) #initialize Q\n",
    "i = 0 # row index for Q\n",
    "j = 0 # col index for Q\n",
    "\n",
    "for epoch in range(200):\n",
    "   \n",
    "    #print(ind, q)\n",
    "    possible_actions = dict_action[(i,j)]\n",
    "    #print(possible_actions)\n",
    "    if Q[possible_actions[0]] >= Q[possible_actions[1]]:\n",
    "        next_action = random.choices(possible_actions, weights=(1-epsilon, epsilon), k=1)[0]\n",
    "        next_Q = Q[chosen_action]\n",
    "        #print('move')\n",
    "    else:\n",
    "        next_action = random.choices(possible_actions, weights=(epsilon, 1-epsilon), k=1)[0]\n",
    "        next_Q = Q[chosen_action]\n",
    "        #print(chosen_Q, chosen_action)\n",
    "        #print('stay')\n",
    "    #print(best_action, best_Q)\n",
    "\n",
    "    Q[i, j] = (1-alpha) * Q[i, j] + alpha*(reward(j) +   gamma * next_Q)\n",
    "    #print(Q)\n",
    "    i = next_action[0]\n",
    "    j = next_action[1]"
   ]
  },
  {
   "cell_type": "code",
   "execution_count": 77,
   "id": "7fe13fa7",
   "metadata": {},
   "outputs": [
    {
     "data": {
      "text/plain": [
       "array([[3.99236031, 4.99232348],\n",
       "       [3.99236031, 4.99191345]])"
      ]
     },
     "execution_count": 77,
     "metadata": {},
     "output_type": "execute_result"
    }
   ],
   "source": [
    "Q"
   ]
  },
  {
   "cell_type": "code",
   "execution_count": null,
   "id": "54cf00d8",
   "metadata": {},
   "outputs": [],
   "source": []
  }
 ],
 "metadata": {
  "kernelspec": {
   "display_name": "Python 3",
   "language": "python",
   "name": "python3"
  },
  "language_info": {
   "codemirror_mode": {
    "name": "ipython",
    "version": 3
   },
   "file_extension": ".py",
   "mimetype": "text/x-python",
   "name": "python",
   "nbconvert_exporter": "python",
   "pygments_lexer": "ipython3",
   "version": "3.7.9"
  },
  "toc": {
   "base_numbering": 1,
   "nav_menu": {},
   "number_sections": true,
   "sideBar": true,
   "skip_h1_title": false,
   "title_cell": "Table of Contents",
   "title_sidebar": "Contents",
   "toc_cell": false,
   "toc_position": {},
   "toc_section_display": true,
   "toc_window_display": false
  },
  "varInspector": {
   "cols": {
    "lenName": 16,
    "lenType": 16,
    "lenVar": 40
   },
   "kernels_config": {
    "python": {
     "delete_cmd_postfix": "",
     "delete_cmd_prefix": "del ",
     "library": "var_list.py",
     "varRefreshCmd": "print(var_dic_list())"
    },
    "r": {
     "delete_cmd_postfix": ") ",
     "delete_cmd_prefix": "rm(",
     "library": "var_list.r",
     "varRefreshCmd": "cat(var_dic_list()) "
    }
   },
   "types_to_exclude": [
    "module",
    "function",
    "builtin_function_or_method",
    "instance",
    "_Feature"
   ],
   "window_display": false
  }
 },
 "nbformat": 4,
 "nbformat_minor": 5
}
