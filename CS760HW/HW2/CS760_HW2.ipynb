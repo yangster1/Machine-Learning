{
 "cells": [
  {
   "cell_type": "markdown",
   "metadata": {
    "id": "CgqPOI3bFUJi"
   },
   "source": [
    "https://machinelearningmastery.com/implement-decision-tree-algorithm-scratch-python/"
   ]
  },
  {
   "cell_type": "markdown",
   "metadata": {
    "id": "qa64tC2tJzfm"
   },
   "source": [
    "https://towardsdatascience.com/id3-decision-tree-classifier-from-scratch-in-python-b38ef145fd90"
   ]
  },
  {
   "cell_type": "markdown",
   "metadata": {
    "id": "VDO3JTnCux1I"
   },
   "source": [
    "https://anderfernandez.com/en/blog/code-decision-tree-python-from-scratch/"
   ]
  },
  {
   "cell_type": "markdown",
   "metadata": {
    "id": "tNqBV7rr_f3j"
   },
   "source": [
    "# Question 1"
   ]
  },
  {
   "cell_type": "code",
   "execution_count": 218,
   "metadata": {
    "colab": {
     "base_uri": "https://localhost:8080/"
    },
    "id": "9YIphOUx9XKK",
    "outputId": "29e776c5-a6c2-4ef5-d84a-47c28311a838"
   },
   "outputs": [],
   "source": [
    "import pandas as pd\n",
    "import numpy as np\n",
    "from math import log2\n",
    "from matplotlib import pyplot as plt\n",
    "from tqdm.notebook import tqdm\n",
    "#from google.colab import drive\n",
    "#drive.mount('/content/drive')"
   ]
  },
  {
   "cell_type": "code",
   "execution_count": null,
   "metadata": {},
   "outputs": [],
   "source": []
  },
  {
   "cell_type": "code",
   "execution_count": 2,
   "metadata": {
    "colab": {
     "base_uri": "https://localhost:8080/"
    },
    "id": "o5abmAEcCo47",
    "outputId": "225148c5-0600-4a9c-815d-ef1fe13130ff"
   },
   "outputs": [
    {
     "name": "stdout",
     "output_type": "stream",
     "text": [
      "/content/drive/MyDrive/CS760/HW2/data\n"
     ]
    }
   ],
   "source": [
    "%cd drive/MyDrive/CS760/HW2/data"
   ]
  },
  {
   "cell_type": "code",
   "execution_count": 4,
   "metadata": {
    "id": "03j0uzHqC-ev"
   },
   "outputs": [],
   "source": [
    "D1 = pd.read_csv('data/D1.txt', header = None, sep=\" \")"
   ]
  },
  {
   "cell_type": "code",
   "execution_count": 4,
   "metadata": {
    "colab": {
     "base_uri": "https://localhost:8080/",
     "height": 143
    },
    "id": "wsErFc9sDHjY",
    "outputId": "0164489b-6984-4447-e165-04193fa7bf51"
   },
   "outputs": [
    {
     "data": {
      "text/html": [
       "<div>\n",
       "<style scoped>\n",
       "    .dataframe tbody tr th:only-of-type {\n",
       "        vertical-align: middle;\n",
       "    }\n",
       "\n",
       "    .dataframe tbody tr th {\n",
       "        vertical-align: top;\n",
       "    }\n",
       "\n",
       "    .dataframe thead th {\n",
       "        text-align: right;\n",
       "    }\n",
       "</style>\n",
       "<table border=\"1\" class=\"dataframe\">\n",
       "  <thead>\n",
       "    <tr style=\"text-align: right;\">\n",
       "      <th></th>\n",
       "      <th>0</th>\n",
       "      <th>1</th>\n",
       "      <th>2</th>\n",
       "    </tr>\n",
       "  </thead>\n",
       "  <tbody>\n",
       "    <tr>\n",
       "      <th>0</th>\n",
       "      <td>0.264185</td>\n",
       "      <td>0.178456</td>\n",
       "      <td>0</td>\n",
       "    </tr>\n",
       "    <tr>\n",
       "      <th>1</th>\n",
       "      <td>0.409499</td>\n",
       "      <td>0.213456</td>\n",
       "      <td>1</td>\n",
       "    </tr>\n",
       "    <tr>\n",
       "      <th>2</th>\n",
       "      <td>0.926224</td>\n",
       "      <td>0.540329</td>\n",
       "      <td>1</td>\n",
       "    </tr>\n",
       "  </tbody>\n",
       "</table>\n",
       "</div>"
      ],
      "text/plain": [
       "          0         1  2\n",
       "0  0.264185  0.178456  0\n",
       "1  0.409499  0.213456  1\n",
       "2  0.926224  0.540329  1"
      ]
     },
     "execution_count": 4,
     "metadata": {},
     "output_type": "execute_result"
    }
   ],
   "source": [
    "D1.head(3)"
   ]
  },
  {
   "cell_type": "code",
   "execution_count": 34,
   "metadata": {
    "id": "ESezoxKoDJCI"
   },
   "outputs": [],
   "source": [
    "def get_entropy(class0, class1):\n",
    "    if class0 == 0:\n",
    "        part1 = 0\n",
    "    else:\n",
    "        part1 = class0 * log2(class0)\n",
    "\n",
    "    if class1 == 0:\n",
    "        part2 = 0\n",
    "    else:\n",
    "        part2 = class1 * log2(class1)\n",
    "    return -part1-part2"
   ]
  },
  {
   "cell_type": "code",
   "execution_count": 220,
   "metadata": {
    "id": "GY_y_y2HQnMP"
   },
   "outputs": [],
   "source": [
    "def compute_ig(c,df,col):\n",
    "    left = df[df[col]<c]\n",
    "    right = df[df[col]>=c]\n",
    "\n",
    "    # left split\n",
    "    class0_left=len(left[left[2]==0])/len(left)\n",
    "    class1_left=len(left[left[2]==1])/len(left)\n",
    "\n",
    "    entropy_left = get_entropy(class0_left,class1_left)\n",
    "\n",
    "    # right split\n",
    "    class0_right=len(right[right[2]==0])/len(right)\n",
    "    class1_right=len(right[right[2]==1])/len(right)\n",
    "\n",
    "    entropy_right = get_entropy(class0_right,class1_right)\n",
    "\n",
    "    HY = get_entropy(len(df[df[2]==0])/len(df),len(df[df[2]==1])/len(df))\n",
    "    total_entropy = len(left)/len(df)*entropy_left + len(right)/len(df)*entropy_right\n",
    "    IG = HY - total_entropy\n",
    "\n",
    "    return total_entropy, IG, left, right"
   ]
  },
  {
   "cell_type": "code",
   "execution_count": 232,
   "metadata": {
    "id": "J1Xc-EQNOpO-"
   },
   "outputs": [],
   "source": [
    "def best_split(df, features):\n",
    "    #class_values = list(set(row[-1] for row in df))\n",
    "    left = df.copy()\n",
    "    right = pd.DataFrame(columns = [0, 1, 2])\n",
    "    best_c, best_col, best_ig, best_entropy, best_groups = 0, 0, -1000, 1, [left, right]\n",
    "    #print('new split')\n",
    "    for col in features:\n",
    "        # iterate through indices of current dataframe\n",
    "        c_values = list(df[col].unique())\n",
    "        c_values.sort()\n",
    "        for c in c_values[1:]: # skip last value as that would results in an empty split\n",
    "            total_entropy, ig, left, right = compute_ig(c,df,col)\n",
    "            #print(c, col, total_entropy, ig)\n",
    "            # if any entropy is 0, return best split\n",
    "            if total_entropy == 0:\n",
    "                return {'c': c, 'col': col, 'best_gain': best_ig, 'best_entropy': 0, 'groups': [left, right]}\n",
    "\n",
    "            # if information gain is higher, update best values\n",
    "            if ig > best_ig:\n",
    "                best_c, best_ig, best_col, best_groups = c, ig, col, [left, right]\n",
    "    return {'c': best_c, 'col': best_col, 'best_gain': best_ig, 'best_entropy': best_entropy,\n",
    "          'groups': best_groups}"
   ]
  },
  {
   "cell_type": "code",
   "execution_count": 28,
   "metadata": {
    "id": "VbNo_mLaQMvR"
   },
   "outputs": [],
   "source": [
    "def pred_leaf(group):\n",
    "    mode = group[2].mode()\n",
    "\n",
    "    # if mode is a tie, predict 1\n",
    "    if len(mode) == 2:\n",
    "        pred = 1\n",
    "    # otherwise, predict the most popular (mode) of the group\n",
    "    else:\n",
    "        pred = int(mode)\n",
    "    return pred"
   ]
  },
  {
   "cell_type": "code",
   "execution_count": 57,
   "metadata": {
    "id": "JhqI8aPYc3H9"
   },
   "outputs": [],
   "source": [
    "def split(node):\n",
    "    #print('node', node)\n",
    "    left, right = node['groups']\n",
    "\n",
    "    del(node['groups'])\n",
    "\n",
    "  # if any entropy is 0, make two children and terminate\n",
    "    if node['best_entropy'] == 0:\n",
    "    #print('zero entropy')\n",
    "        if len(right) == 0:\n",
    "            node['pred'] = pred_leaf(left)\n",
    "        else:\n",
    "            # make left and right child nodes\n",
    "            node['left'] = {}\n",
    "            node['right'] = {}\n",
    "            node['left']['pred']= pred_leaf(left)\n",
    "            node['right']['pred'] = pred_leaf(right)\n",
    "            return\n",
    "\n",
    "  # check node is empty\n",
    "    if len(left) == 0 or len(right) == 0:\n",
    "        #print('return one empty')\n",
    "        node['pred'] = pred_leaf(left.append(right))\n",
    "        return\n",
    "\n",
    "  # if all splits have zero gain ratio\n",
    "    if node['best_gain'] == 0:\n",
    "        #print('zero gain')\n",
    "        node['pred'] = pred_leaf(left.append(right))\n",
    "        return\n",
    "  \n",
    "\n",
    "\n",
    "  # left child\n",
    "    if len(left) == 1:\n",
    "        node['left'] = {}\n",
    "        node['left']['pred'] = pred_leaf(left)\n",
    "        return\n",
    "    else:\n",
    "        node['left'] = best_split(left, [0,1])\n",
    "        split(node['left'])\n",
    "\n",
    "  # right child\n",
    "    if len(right) == 1:\n",
    "        node['right'] = {}\n",
    "        node['right']['pred'] = pred_leaf(right)\n",
    "        return\n",
    "    else:\n",
    "        node['right'] = best_split(right, [0,1])\n",
    "        split(node['right'])"
   ]
  },
  {
   "cell_type": "code",
   "execution_count": 32,
   "metadata": {
    "id": "zmBfO_Y5lqcf"
   },
   "outputs": [],
   "source": [
    "def decision_tree(df):\n",
    "    root = best_split(df, [0,1])\n",
    "    split(root)\n",
    "    return root"
   ]
  },
  {
   "cell_type": "code",
   "execution_count": 11,
   "metadata": {
    "colab": {
     "base_uri": "https://localhost:8080/"
    },
    "id": "72jCi49grmbH",
    "outputId": "98535040-686d-4f74-e982-8be44f034a2a"
   },
   "outputs": [],
   "source": [
    "tree = decision_tree(D1)"
   ]
  },
  {
   "cell_type": "code",
   "execution_count": 12,
   "metadata": {
    "colab": {
     "base_uri": "https://localhost:8080/"
    },
    "id": "lzkdIRdiCaC0",
    "outputId": "3e096f98-4744-4d16-e711-34c1541cd410"
   },
   "outputs": [
    {
     "data": {
      "text/plain": [
       "{'c': 0.199558,\n",
       " 'col': 1,\n",
       " 'best_gain': 0.6578840156989677,\n",
       " 'best_entropy': 0,\n",
       " 'left': {'pred': 0},\n",
       " 'right': {'pred': 1}}"
      ]
     },
     "execution_count": 12,
     "metadata": {},
     "output_type": "execute_result"
    }
   ],
   "source": [
    "tree"
   ]
  },
  {
   "cell_type": "code",
   "execution_count": 14,
   "metadata": {
    "id": "G9P37TQQ8xI7"
   },
   "outputs": [],
   "source": [
    "check_left = D1[D1[1]<=0.199725]"
   ]
  },
  {
   "cell_type": "code",
   "execution_count": 15,
   "metadata": {
    "id": "PxpCJzue85RV"
   },
   "outputs": [],
   "source": [
    "check_right = D1[D1[1]>0.199725]"
   ]
  },
  {
   "cell_type": "code",
   "execution_count": 16,
   "metadata": {
    "colab": {
     "base_uri": "https://localhost:8080/"
    },
    "id": "tep1hRwm9AJi",
    "outputId": "46898f82-3e84-498b-a454-1f37b93a381e"
   },
   "outputs": [
    {
     "data": {
      "text/plain": [
       "array([0])"
      ]
     },
     "execution_count": 16,
     "metadata": {},
     "output_type": "execute_result"
    }
   ],
   "source": [
    "check_left[2].unique()"
   ]
  },
  {
   "cell_type": "code",
   "execution_count": 17,
   "metadata": {
    "colab": {
     "base_uri": "https://localhost:8080/"
    },
    "id": "WVVfbVUu9CbT",
    "outputId": "11341daa-a6fc-4f59-a075-000d16fa3a22"
   },
   "outputs": [
    {
     "data": {
      "text/plain": [
       "array([1])"
      ]
     },
     "execution_count": 17,
     "metadata": {},
     "output_type": "execute_result"
    }
   ],
   "source": [
    "check_right[2].unique()"
   ]
  },
  {
   "cell_type": "markdown",
   "metadata": {
    "id": "SqaEw9FEaZ67"
   },
   "source": [
    "# 2 Questions"
   ]
  },
  {
   "cell_type": "markdown",
   "metadata": {},
   "source": [
    "## 2.1"
   ]
  },
  {
   "cell_type": "markdown",
   "metadata": {
    "id": "HGZJWfOGBpdv"
   },
   "source": [
    "## 2.2 Our algorithm is greedy"
   ]
  },
  {
   "cell_type": "code",
   "execution_count": 27,
   "metadata": {
    "id": "HafrijooBoOe"
   },
   "outputs": [],
   "source": [
    "df=pd.DataFrame({'feature':[1,0,0,1], 2 :[0,1,0,1]})"
   ]
  },
  {
   "cell_type": "code",
   "execution_count": 30,
   "metadata": {
    "colab": {
     "base_uri": "https://localhost:8080/",
     "height": 282
    },
    "id": "NMVdIA0oT6SG",
    "outputId": "cb1a3b2c-1450-4061-a779-09804d433346"
   },
   "outputs": [
    {
     "data": {
      "text/plain": [
       "<matplotlib.collections.PathCollection at 0x7f945e129c10>"
      ]
     },
     "execution_count": 30,
     "metadata": {},
     "output_type": "execute_result"
    },
    {
     "data": {
      "image/png": "[encoded data removed]",
      "text/plain": [
       "<Figure size 432x288 with 1 Axes>"
      ]
     },
     "metadata": {
      "needs_background": "light"
     },
     "output_type": "display_data"
    }
   ],
   "source": [
    "plt.scatter(df['feature'], df[2])"
   ]
  },
  {
   "cell_type": "markdown",
   "metadata": {
    "id": "u-nnyeuxVwA-"
   },
   "source": [
    "## 2.3 Gain ratio exercise"
   ]
  },
  {
   "cell_type": "code",
   "execution_count": 66,
   "metadata": {
    "id": "LZKSuzoIVvwu"
   },
   "outputs": [],
   "source": [
    "druns = pd.read_csv('data/Druns.txt', sep=' ', header = None)"
   ]
  },
  {
   "cell_type": "code",
   "execution_count": 219,
   "metadata": {},
   "outputs": [
    {
     "data": {
      "text/plain": [
       "array([0.1, 0. ])"
      ]
     },
     "execution_count": 219,
     "metadata": {},
     "output_type": "execute_result"
    }
   ],
   "source": [
    "druns[0].unique()"
   ]
  },
  {
   "cell_type": "code",
   "execution_count": 223,
   "metadata": {
    "colab": {
     "base_uri": "https://localhost:8080/"
    },
    "id": "py-tAAXKWxsA",
    "outputId": "325ff463-9a7b-49c0-b442-fd8df801d91e"
   },
   "outputs": [
    {
     "name": "stdout",
     "output_type": "stream",
     "text": [
      "0.1 0 0.8011735447551751 0.04417739186726144\n",
      "-1 1 0.8011735447551751 0.04417739186726144\n",
      "0 1 0.807076414416144 0.03827452220629257\n",
      "1 1 0.8404647725305937 0.004886164091842837\n",
      "2 1 0.8442687707093589 0.0010821659130776373\n",
      "3 1 0.8290377707967044 0.016313165825732168\n",
      "4 1 0.7958988638330424 0.04945207278939412\n",
      "5 1 0.7401554045523902 0.1051955320700464\n",
      "6 1 0.6457639134327491 0.19958702318968746\n",
      "7 1 0.807076414416144 0.03827452220629257\n",
      "8 1 0.6562982680794203 0.18905266854301628\n",
      "0.1 0 0.5177136812595365 0.025850761940059863\n",
      "-1 1 0.5177136812595365 0.025850761940059863\n",
      "0 1 0.25 0.2935644431995964\n",
      "1 1 0.3443609377704336 0.19920350542916282\n",
      "2 1 0.4056390622295664 0.13792538097003\n",
      "3 1 0.4512050593046014 0.09235938389499498\n",
      "4 1 0.4875168162362656 0.05604762696333082\n",
      "5 1 0.5177136812595365 0.025850761940059863\n",
      "0.1 0 0.0 1.0\n",
      "1 1 -0.0 0.0\n",
      "7 1 0.6666666666666666 0.2516291673878229\n",
      "8 1 0.6666666666666666 0.2516291673878229\n"
     ]
    }
   ],
   "source": [
    "tree_druns = decision_tree(druns)"
   ]
  },
  {
   "cell_type": "code",
   "execution_count": 68,
   "metadata": {
    "colab": {
     "base_uri": "https://localhost:8080/"
    },
    "id": "72NYXkhOWxug",
    "outputId": "6bc97e3f-9e30-483e-b556-ec92cceca701"
   },
   "outputs": [
    {
     "data": {
      "text/plain": [
       "{'c': 5,\n",
       " 'col': 1,\n",
       " 'best_gain': 0.19958702318968746,\n",
       " 'best_entropy': 1,\n",
       " 'left': {'c': -1,\n",
       "  'col': 1,\n",
       "  'best_gain': 0.2935644431995964,\n",
       "  'best_entropy': 1,\n",
       "  'left': {'c': -2,\n",
       "   'col': 1,\n",
       "   'best_gain': -1000,\n",
       "   'best_entropy': 0,\n",
       "   'left': {'pred': 0},\n",
       "   'right': {'pred': 1}},\n",
       "  'right': {'c': 0,\n",
       "   'col': 1,\n",
       "   'best_gain': -1000,\n",
       "   'best_entropy': 0,\n",
       "   'left': {'pred': 0},\n",
       "   'right': {'pred': 0}}},\n",
       " 'right': {'c': 6,\n",
       "  'col': 1,\n",
       "  'best_gain': 0.2516291673878229,\n",
       "  'best_entropy': 1,\n",
       "  'left': {'pred': 1}}}"
      ]
     },
     "execution_count": 68,
     "metadata": {},
     "output_type": "execute_result"
    }
   ],
   "source": [
    "tree_druns"
   ]
  },
  {
   "cell_type": "markdown",
   "metadata": {
    "id": "U0nNgN2ZbYLg"
   },
   "source": [
    "## 2.4 Interpretability"
   ]
  },
  {
   "cell_type": "code",
   "execution_count": 226,
   "metadata": {
    "id": "OalbS9u5bdah"
   },
   "outputs": [],
   "source": [
    "D3 = pd.read_csv('data/D3leaves.txt', sep=' ', header = None)"
   ]
  },
  {
   "cell_type": "code",
   "execution_count": 227,
   "metadata": {
    "colab": {
     "base_uri": "https://localhost:8080/",
     "height": 205
    },
    "id": "DD9dvTaxb0Xl",
    "outputId": "b09f23e9-ccfc-486a-dbef-0ac748bbff04"
   },
   "outputs": [
    {
     "data": {
      "text/html": [
       "<div>\n",
       "<style scoped>\n",
       "    .dataframe tbody tr th:only-of-type {\n",
       "        vertical-align: middle;\n",
       "    }\n",
       "\n",
       "    .dataframe tbody tr th {\n",
       "        vertical-align: top;\n",
       "    }\n",
       "\n",
       "    .dataframe thead th {\n",
       "        text-align: right;\n",
       "    }\n",
       "</style>\n",
       "<table border=\"1\" class=\"dataframe\">\n",
       "  <thead>\n",
       "    <tr style=\"text-align: right;\">\n",
       "      <th></th>\n",
       "      <th>0</th>\n",
       "      <th>1</th>\n",
       "      <th>2</th>\n",
       "    </tr>\n",
       "  </thead>\n",
       "  <tbody>\n",
       "    <tr>\n",
       "      <th>0</th>\n",
       "      <td>10</td>\n",
       "      <td>1</td>\n",
       "      <td>1</td>\n",
       "    </tr>\n",
       "    <tr>\n",
       "      <th>1</th>\n",
       "      <td>10</td>\n",
       "      <td>2</td>\n",
       "      <td>1</td>\n",
       "    </tr>\n",
       "    <tr>\n",
       "      <th>2</th>\n",
       "      <td>10</td>\n",
       "      <td>3</td>\n",
       "      <td>1</td>\n",
       "    </tr>\n",
       "    <tr>\n",
       "      <th>3</th>\n",
       "      <td>1</td>\n",
       "      <td>1</td>\n",
       "      <td>0</td>\n",
       "    </tr>\n",
       "    <tr>\n",
       "      <th>4</th>\n",
       "      <td>1</td>\n",
       "      <td>3</td>\n",
       "      <td>1</td>\n",
       "    </tr>\n",
       "  </tbody>\n",
       "</table>\n",
       "</div>"
      ],
      "text/plain": [
       "    0  1  2\n",
       "0  10  1  1\n",
       "1  10  2  1\n",
       "2  10  3  1\n",
       "3   1  1  0\n",
       "4   1  3  1"
      ]
     },
     "execution_count": 227,
     "metadata": {},
     "output_type": "execute_result"
    }
   ],
   "source": [
    "D3"
   ]
  },
  {
   "cell_type": "code",
   "execution_count": 228,
   "metadata": {
    "colab": {
     "base_uri": "https://localhost:8080/"
    },
    "id": "zhN4KTvkbdiA",
    "outputId": "f3df7a92-b2d7-42ec-dc77-360abec3f807"
   },
   "outputs": [
    {
     "name": "stdout",
     "output_type": "stream",
     "text": [
      "10 0 0.4 0.3219280948873623\n",
      "2 1 0.4 0.3219280948873623\n",
      "3 1 0.5509775004326937 0.17095059445466865\n",
      "3 1 0.0 1.0\n",
      "2 1 0.0 0.0\n"
     ]
    }
   ],
   "source": [
    "tree_D3 = decision_tree(D3)"
   ]
  },
  {
   "cell_type": "code",
   "execution_count": 229,
   "metadata": {
    "colab": {
     "base_uri": "https://localhost:8080/"
    },
    "id": "5fj9QJjtbw8z",
    "outputId": "411cc61b-3c47-4fe2-d0d5-2747b0bfb709"
   },
   "outputs": [
    {
     "data": {
      "text/plain": [
       "{'c': 10,\n",
       " 'col': 0,\n",
       " 'best_gain': 0.3219280948873623,\n",
       " 'best_entropy': 1,\n",
       " 'left': {'c': 3,\n",
       "  'col': 1,\n",
       "  'best_gain': -1000,\n",
       "  'best_entropy': 0,\n",
       "  'left': {'pred': 0},\n",
       "  'right': {'pred': 1}},\n",
       " 'right': {'c': 2,\n",
       "  'col': 1,\n",
       "  'best_gain': -1000,\n",
       "  'best_entropy': 0,\n",
       "  'left': {'pred': 1},\n",
       "  'right': {'pred': 1}}}"
      ]
     },
     "execution_count": 229,
     "metadata": {},
     "output_type": "execute_result"
    }
   ],
   "source": [
    "tree_D3"
   ]
  },
  {
   "cell_type": "markdown",
   "metadata": {
    "id": "wYF6xL9qiA1U"
   },
   "source": [
    "## 2.5 Or is it"
   ]
  },
  {
   "cell_type": "code",
   "execution_count": 230,
   "metadata": {
    "colab": {
     "base_uri": "https://localhost:8080/"
    },
    "id": "xgIEeNZTiGEn",
    "outputId": "67933b44-8037-453e-ffef-58532a86b340"
   },
   "outputs": [
    {
     "name": "stdout",
     "output_type": "stream",
     "text": [
      "0.001405 0 0.6687381479549965 0.0002776871015610638\n",
      "0.001824 0 0.6684601541489306 0.0005556809076270319\n",
      "0.001943 0 0.6681818529580005 0.0008339820985571178\n",
      "0.003089 0 0.6679032436995733 0.0011125913569842716\n",
      "0.005812 0 0.6676243256887329 0.0013915093678247281\n",
      "0.006173 0 0.6673450982382689 0.001670736818288665\n",
      "0.007471 0 0.6670655606586672 0.001950274397890417\n",
      "0.008663 0 0.6667857122580994 0.002230122798458245\n",
      "0.008861 0 0.6665055523424117 0.002510282714145884\n",
      "0.009175 0 0.6662250802151162 0.002790754841441423\n",
      "0.010672 0 0.6659442951773779 0.003071539879179741\n",
      "0.01079 0 0.6656631965280064 0.003352638528551166\n",
      "0.010938 0 0.6653817835634438 0.003634051493113799\n",
      "0.011643 0 0.6651000555777548 0.003915779478802839\n",
      "0.011844 0 0.6679028148560167 0.0011130202005409373\n",
      "0.012141 0 0.667718486846696 0.001297348209861604\n",
      "0.01228 0 0.667527820080516 0.0014880149760415629\n",
      "0.012936 0 0.6673315238406056 0.001684311215952028\n",
      "0.01477 0 0.668483442030642 0.0005323930259155674\n",
      "0.015223 0 0.6683595440479827 0.0006562910085748941\n",
      "0.017516 0 0.6682273043102482 0.0007885307463093572\n",
      "0.019313 0 0.6680875076078111 0.000928327448746491\n",
      "0.020004 0 0.6687645471871588 0.00025128786939876413\n",
      "0.020689 0 0.6686820905815479 0.0003337444750096674\n",
      "0.021117 0 0.6689863475337158 2.9487522841820102e-05\n",
      "0.021294 0 0.6689541815379569 6.165351860065726e-05\n",
      "0.021497 0 0.6689116024287893 0.0001042326277682637\n",
      "0.022057 0 0.6688594069002589 0.00015642815629868245\n",
      "0.02208 0 0.6687983005910989 0.00021753446545869082\n",
      "0.025204 0 0.6687289114639005 0.00028692359265714007\n",
      "0.026902 0 0.6686518008098725 0.00036403424668507434\n",
      "0.027636 0 0.6685674723682999 0.000448362688257653\n",
      "0.0291 0 0.6684763799360018 0.0005394551205557541\n",
      "0.030544 0 0.6683789337576087 0.0006369012989488887\n",
      "0.031119 0 0.6682755059240859 0.0007403291324716843\n",
      "0.031172 0 0.6681664349588629 0.0008494000976947413\n",
      "0.036572 0 0.6680520297341541 0.000963805322403477\n",
      "0.036853 0 0.6686168434379107 0.00039899161864687116\n",
      "0.038661 0 0.6685368562608658 0.000478978795691809\n",
      "0.038794 0 0.6684511043478247 0.0005647307087328635\n",
      "0.038951 0 0.6683598747113408 0.0006559603452167551\n",
      "0.039633 0 0.6687779445634104 0.0002378904931471526\n",
      "0.03981 0 0.6687173610194049 0.00029847403715266285\n",
      "0.043506 0 0.6686510117283726 0.0003648233281849933\n",
      "0.051089 0 0.668579159679498 0.00043667537705960324\n",
      "0.051254 0 0.6685020491098634 0.0005137859466941563\n",
      "0.051403 0 0.6684199072433429 0.0005959278132147139\n",
      "0.05193 0 0.6683329458321688 0.0006828892243887497\n",
      "0.056051 0 0.6682413625274853 0.0007744725290722565\n",
      "0.056754 0 0.6681453421011878 0.0008704929553697838\n",
      "0.056893 0 0.6680450575380313 0.0009707775185262557\n",
      "0.058416 0 0.6679406710142074 0.0010751640423501962\n",
      "0.058648 0 0.6678323347762878 0.0011835002802698114\n",
      "0.058757 0 0.6677201919324729 0.0012956431240847\n",
      "0.061663 0 0.6676043771664549 0.001411457890102663\n",
      "0.063858 0 0.6674850173828117 0.0015308176737458545\n",
      "0.064064 0 0.6673622322916702 0.001653602764887352\n",
      "0.06449 0 0.6672361349393809 0.0017797001171766524\n",
      "0.067189 0 0.6671068321910779 0.001909002865479681\n",
      "0.072324 0 0.6669744251702759 0.002041409886281653\n",
      "0.073551 0 0.6668390096600149 0.0021768253965427364\n",
      "0.074015 0 0.6667006764695229 0.0023151585870346825\n",
      "0.074342 0 0.6665595117698986 0.0024563232866590123\n",
      "0.075502 0 0.6664155974019016 0.0026002376546560013\n",
      "0.07568 0 0.6662690111585918 0.0027468238979657666\n",
      "0.075897 0 0.6661198270452442 0.0028960080113134\n",
      "0.076322 0 0.6659681155186976 0.003047719537859983\n",
      "0.078019 0 0.6668775463309291 0.00213828872562849\n",
      "0.078791 0 0.667594348351116 0.0014214867054416214\n",
      "0.080888 0 0.6674854003399643 0.0015304347165933097\n",
      "0.084845 0 0.6673734531407441 0.0016423819158134512\n",
      "0.085653 0 0.6672585850328686 0.0017572500236889832\n",
      "0.087137 0 0.6671408708125717 0.0018749642439859215\n",
      "0.08797 0 0.6670203819943576 0.0019954530621999478\n",
      "0.091038 0 0.6668971869980651 0.0021186480584924894\n",
      "0.092508 0 0.6667713513227611 0.0022444837337964874\n",
      "0.094496 0 0.6666429377085658 0.0023728973479918425\n",
      "0.094909 0 0.6665120062873975 0.00250382876916011\n",
      "0.097217 0 0.6672515232230001 0.0017643118335575192\n",
      "0.098073 0 0.6671379605538384 0.0018778745027191457\n",
      "0.099617 0 0.6670217664798987 0.0019940685766588473\n",
      "0.10117 0 0.6669029997561637 0.002112835300393856\n",
      "0.103375 0 0.666781716832129 0.0022341182244286495\n",
      "0.103442 0 0.6666579719690229 0.0023578630875347173\n",
      "0.104087 0 0.6665318173496527 0.002484017706904873\n",
      "0.107572 0 0.6672362466707059 0.0017795883858516826\n",
      "0.107739 0 0.6678057757547411 0.0012100593018165018\n",
      "0.107954 0 0.6677137791664909 0.0013020558900667112\n",
      "0.108973 0 0.6681793156818985 0.0008365193746591171\n",
      "0.109307 0 0.668102424084849 0.0009134109717086059\n",
      "0.113868 0 0.6684741552225659 0.0005416798339916706\n",
      "0.11519 0 0.6684118925978542 0.0006039424587034325\n",
      "0.115787 0 0.6683467042628891 0.000669130793668482\n",
      "0.115962 0 0.6682786490384136 0.0007371860181439871\n",
      "0.116004 0 0.6685991444915141 0.0004166905650434538\n",
      "0.11712 0 0.668545059828441 0.00047077522811656003\n",
      "0.119508 0 0.6687868618624009 0.0002289731941567119\n",
      "0.122316 0 0.6689398670305716 7.596802598597296e-05\n",
      "0.122733 0 0.6689156627712363 0.0001001722853213316\n",
      "0.123349 0 0.6688883060305546 0.00012752902600299265\n",
      "0.123956 0 0.6689905357501428 2.529930641481659e-05\n",
      "0.12764 0 0.6689759760116288 3.985904492875836e-05\n",
      "0.127965 0 0.6690158012467262 3.380983137901694e-08\n",
      "0.12808 0 0.6690136848299539 2.1502266036588225e-06\n",
      "0.129304 0 0.669008322717283 7.512339274540203e-06\n",
      "0.129899 0 0.6690052176122346 1.0617444322957859e-05\n",
      "0.130692 0 0.6689321222715089 8.371278504870627e-05\n",
      "0.13155 0 0.6689538975041638 6.193755239380927e-05\n",
      "0.131942 0 0.6689722964474925 4.353860906514129e-05\n",
      "0.132591 0 0.6689873799156951 2.845514086247114e-05\n",
      "0.132739 0 0.6689992068542736 1.662820228398587e-05\n",
      "0.133002 0 0.6690078344147625 8.00064179506954e-06\n",
      "0.133989 0 0.6690133180257397 2.517030817883459e-06\n",
      "0.134694 0 0.6690157114603431 1.2359621448521096e-07\n",
      "0.134907 0 0.6690150669004904 7.681560671990439e-07\n",
      "0.135077 0 0.6690114349980018 4.400058555842357e-06\n",
      "0.13547 0 0.6690048649327974 1.0970123760167816e-05\n",
      "0.13628 0 0.6689954044683408 2.0430588216768797e-05\n",
      "0.136427 0 0.6689831000044791 3.2735052078458615e-05\n",
      "0.13663 0 0.6690158350565576 0.0\n",
      "0.137186 0 0.6690143937042716 1.4413522859690886e-06\n",
      "0.13761 0 0.6690100997631759 5.735293381659012e-06\n",
      "0.138377 0 0.6690029974686379 1.2837587919700688e-05\n",
      "0.139224 0 0.6689931298408226 2.2705215734997175e-05\n",
      "0.140208 0 0.6689805387278153 3.529632874232913e-05\n",
      "0.142654 0 0.6690157215732097 1.1348334794103465e-07\n",
      "0.143579 0 0.6690135484542613 2.2866022962864108e-06\n",
      "0.144057 0 0.6690086439239293 7.191132628259211e-06\n",
      "0.145838 0 0.6690010479673411 1.4787089216539151e-05\n",
      "0.147719 0 0.6689907995191814 2.5035537376205674e-05\n",
      "0.148597 0 0.668977936499231 3.789855732660996e-05\n",
      "0.148767 0 0.6689624958464024 5.3339210155156636e-05\n",
      "0.149131 0 0.668944513551354 7.132150520361424e-05\n",
      "0.149392 0 0.6689240246877451 9.181036881245053e-05\n",
      "0.151844 0 0.6689010634422097 0.00011477161434791938\n",
      "0.153019 0 0.668875663143102 0.0001401719134556112\n",
      "0.154067 0 0.6688478562880794 0.00016797876847818305\n",
      "0.154121 0 0.6688176745705784 0.0001981604859792041\n",
      "0.154389 0 0.6687851489052336 0.00023068615132404435\n",
      "0.154932 0 0.6687503094522926 0.0002655256042649601\n",
      "0.155174 0 0.6687131856410753 0.0003026494154823034\n",
      "0.15657 0 0.6686738061925167 0.0003420288640408886\n",
      "0.156809 0 0.6686321991408426 0.0003836359157149971\n",
      "0.156995 0 0.668588391854414 0.000427443202143607\n",
      "0.158085 0 0.6685424110557786 0.00047342400077898805\n",
      "0.159997 0 0.6684942828409656 0.0005215522155920249\n",
      "0.161072 0 0.6687127181432915 0.00030311691326612156\n",
      "0.16178 0 0.6686739736473715 0.0003418614091861283\n",
      "0.162415 0 0.6686330677924606 0.0003827672640970281\n",
      "0.164923 0 0.668590025798548 0.0004258092580096129\n",
      "0.165379 0 0.6685448723115895 0.0004709627449680509\n",
      "0.168096 0 0.6684976314199669 0.0005182036365907194\n",
      "0.170469 0 0.6687119161706386 0.00030391888591896343\n",
      "0.171441 0 0.6686737441678441 0.0003420908887135088\n",
      "0.171856 0 0.66863347210966 0.00038236294689764083\n",
      "0.171898 0 0.6685911232995754 0.0004247117569822212\n",
      "0.174139 0 0.6685467205284945 0.00046911452806308596\n",
      "0.176483 0 0.6685002860888649 0.0005155489676926805\n",
      "0.176575 0 0.6684518417883153 0.0005639932682423021\n"
     ]
    },
    {
     "name": "stdout",
     "output_type": "stream",
     "text": [
      "0.178046 0 0.6684014089628235 0.0006144260937340773\n",
      "0.179475 0 0.6683490084894348 0.0006668265671228024\n",
      "0.181807 0 0.668294660798549 0.0007211742580085501\n",
      "0.182346 0 0.6682383858857919 0.0007774491707657205\n",
      "0.18238 0 0.6681802033234897 0.0008356317330678875\n",
      "0.183275 0 0.6681201322717621 0.0008957027847954491\n",
      "0.183613 0 0.6680581914892476 0.0009576435673099848\n",
      "0.184859 0 0.6679943993434779 0.0010214357130796659\n",
      "0.185012 0 0.6683001154476749 0.0007157196088827256\n",
      "0.185138 0 0.6682448114551819 0.0007710236013757088\n",
      "0.186937 0 0.6681876429733147 0.0008281920832429179\n",
      "0.187835 0 0.6681286278580599 0.0008872071984976637\n",
      "0.190783 0 0.6680677836020652 0.0009480514544923935\n",
      "0.191197 0 0.6680051273436899 0.0010107077128677089\n",
      "0.191498 0 0.6679406758757717 0.001075159180785934\n",
      "0.192853 0 0.6678744456541166 0.0011413894024410176\n",
      "0.193268 0 0.6678064528057265 0.0012093822508311147\n",
      "0.193721 0 0.6681360165964985 0.0008798184600591341\n",
      "0.195822 0 0.6684102996722043 0.0006055353843532618\n",
      "0.195872 0 0.668360324012213 0.0006555110443445811\n",
      "0.197509 0 0.6685910909090804 0.00042474414747717404\n",
      "0.198487 0 0.6687702820946958 0.00024555296186179465\n",
      "0.199882 0 0.6688995660259236 0.00011626903063399752\n",
      "0.200601 0 0.6689804921351485 3.534292140905393e-05\n",
      "0.203363 0 0.6689675450942419 4.828996231565075e-05\n",
      "0.204387 0 0.6689526305200222 6.320453653541058e-05\n",
      "0.205412 0 0.6689357662303856 8.006882617195288e-05\n",
      "0.206525 0 0.6689169697046514 9.88653519061744e-05\n",
      "0.207592 0 0.6688962580914205 0.00011957696513709148\n",
      "0.207694 0 0.6688736482162047 0.0001421868403529425\n",
      "0.207862 0 0.6688491565888305 0.00016667846772711048\n",
      "0.208086 0 0.6688227994106288 0.000193035645928763\n",
      "0.208502 0 0.6687945925814148 0.00022124247514276885\n",
      "0.208779 0 0.6687645517062674 0.0002512833502902323\n",
      "0.209373 0 0.6688928938965799 0.0001229411599776853\n",
      "0.210573 0 0.6689752822173188 4.0552839238761074e-05\n",
      "0.210968 0 0.668961839799902 5.3995256655614554e-05\n",
      "0.21132 0 0.6690086892425245 7.145814033049369e-06\n",
      "0.211628 0 0.6690024916879176 1.3343368640006403e-05\n",
      "0.213849 0 0.6689943998040234 2.143525253417433e-05\n",
      "0.215711 0 0.6689844292300877 3.1405826469876885e-05\n",
      "0.21587 0 0.6690148813571534 9.536994042269598e-07\n",
      "0.216488 0 0.6690120306949697 3.8043615878669e-06\n",
      "0.216918 0 0.6690072985150253 8.536541532322417e-06\n",
      "0.218212 0 0.6690130703958366 2.764660721021883e-06\n",
      "0.218459 0 0.6690153563634891 4.78693068517444e-07\n",
      "0.219192 0 0.6689884058064409 2.7429250116672854e-05\n",
      "0.219856 0 0.6689208247380148 9.501031854275421e-05\n",
      "0.223782 0 0.6689388362982882 7.699875826938651e-05\n",
      "0.224141 0 0.6689549164252 6.091863135759823e-05\n",
      "0.224487 0 0.668865107863905 0.00015072719265263324\n",
      "0.228897 0 0.6688879681335809 0.00012786692297672708\n",
      "0.2291 0 0.6689088972135329 0.00010693784302473475\n",
      "0.230276 0 0.6687974824453227 0.00021835261123492877\n",
      "0.234224 0 0.6686479162146114 0.00036791884194620206\n",
      "0.234979 0 0.6686841127490502 0.0003317223075074427\n",
      "0.235499 0 0.6687183498270111 0.00029748522954653467\n",
      "0.235634 0 0.6685484704250322 0.0004673646315254132\n",
      "0.23804 0 0.6685892542057481 0.00042658085080948815\n",
      "0.238791 0 0.6686280806292493 0.00038775442730831777\n",
      "0.239361 0 0.6686649647205841 0.0003508703359734744\n",
      "0.242247 0 0.6686999212546032 0.0003159138019543928\n",
      "0.242781 0 0.6685270172588974 0.0004888177976601904\n",
      "0.24446 0 0.6685684137778235 0.00044742127873409476\n",
      "0.245057 0 0.6686078848027348 0.0004079502538227864\n",
      "0.247358 0 0.6686454446535344 0.0003703904030232241\n",
      "0.25013 0 0.6684613095521261 0.000554525504431469\n",
      "0.250655 0 0.6685052198889994 0.0005106151675582371\n",
      "0.253787 0 0.6682937498334864 0.0007220852230711561\n",
      "0.254088 0 0.6683439476330538 0.0006718874235037697\n",
      "0.255695 0 0.6683922251635852 0.0006236098929723877\n",
      "0.255876 0 0.6684385963299961 0.0005772387265614576\n",
      "0.255882 0 0.6684830748139357 0.0005327602426219435\n",
      "0.257235 0 0.6685256740780037 0.0004901609785539218\n",
      "0.257721 0 0.6685664073698666 0.0004494276866909841\n",
      "0.257836 0 0.6683686310246306 0.0006472040319269734\n",
      "0.257995 0 0.6684155364038038 0.0006002986527537946\n",
      "0.260968 0 0.6684605781321996 0.000555256924357983\n",
      "0.261142 0 0.6685037690623776 0.0005120659941799666\n",
      "0.261335 0 0.668545121844706 0.0004707132118515478\n",
      "0.262488 0 0.6685846489310513 0.00043118612550629987\n",
      "0.26305 0 0.6686223625783776 0.0003934724781800014\n",
      "0.263197 0 0.6686582748522634 0.0003575602042942272\n",
      "0.264185 0 0.6686923976303334 0.00032343742622420457\n",
      "0.265848 0 0.6685234683107784 0.000492366745779238\n",
      "0.266519 0 0.6685636343145328 0.00045220074202478866\n",
      "0.270437 0 0.6686020124211718 0.00041382263538580766\n",
      "0.271314 0 0.6686386141671774 0.00037722088938019205\n",
      "0.271604 0 0.6686734509116717 0.00034238414488585445\n",
      "0.271896 0 0.6687065338395057 0.00030930121705186053\n",
      "0.2761 0 0.6687378739642796 0.0002779610922779563\n",
      "0.276441 0 0.6687674821312953 0.00024835292526226294\n",
      "0.277065 0 0.6687953690204385 0.00022046603611913795\n",
      "0.27903 0 0.6688215451489989 0.0001942899075586535\n",
      "0.279469 0 0.6688460208744248 0.0001698141821327992\n",
      "0.281469 0 0.6688688063970172 0.00014702865954041577\n",
      "0.282226 0 0.6688899117625626 0.00012592329399496727\n",
      "0.282926 0 0.6689093468649087 0.00010648819164893464\n",
      "0.285166 0 0.6689271214484804 8.871360807716222e-05\n",
      "0.286559 0 0.6689432451107441 7.258994581349487e-05\n",
      "0.289251 0 0.6689577273046138 5.8107751943814456e-05\n",
      "0.291281 0 0.6689705773408072 4.525771575036863e-05\n",
      "0.291722 0 0.6689818043901496 3.403066640794705e-05\n",
      "0.292126 0 0.6689159987758757 9.983628068188644e-05\n",
      "0.293537 0 0.668933054941647 8.278011491058557e-05\n",
      "0.297147 0 0.6688406991064376 0.00017513595011997563\n",
      "0.297294 0 0.668863539093448 0.00015229596310961657\n",
      "0.302418 0 0.6688847470414573 0.00013108801510031132\n",
      "0.302476 0 0.6689043319067022 0.00011150314985541865\n",
      "0.303008 0 0.66892230251292 9.353254363764218e-05\n",
      "0.303009 0 0.6689386675534227 7.716750313491172e-05\n",
      "0.307422 0 0.668953435593127 6.239946343056246e-05\n",
      "0.308173 0 0.66896661507054 4.9219986017590145e-05\n",
      "0.308573 0 0.6689782142997045 3.762075685309618e-05\n",
      "0.312022 0 0.6689882414721027 2.7593584454921327e-05\n",
      "0.31204 0 0.6689967046585215 1.913039803613792e-05\n",
      "0.312818 0 0.6690036118108762 1.2223245681397543e-05\n",
      "0.312845 0 0.669008970763999 6.864292558583784e-06\n",
      "0.314034 0 0.6689706679335258 4.516712303181958e-05\n",
      "0.314277 0 0.6689816741618309 3.416089472674244e-05\n",
      "0.315034 0 0.6689173335037892 9.85015527683597e-05\n",
      "0.316087 0 0.6689339472660033 8.18877905542914e-05\n",
      "0.317377 0 0.6689490044101277 6.68306464298718e-05\n",
      "0.318465 0 0.6689625125967926 5.332245976497063e-05\n",
      "0.321959 0 0.668886779425097 0.00012905563146059507\n",
      "0.3221 0 0.6687786659109636 0.00023716914559401836\n",
      "0.32256 0 0.6688048074040892 0.0002110276524683874\n",
      "0.323091 0 0.6688293850484546 0.00018645000810302292\n",
      "0.323503 0 0.6688524064391345 0.00016342861742313364\n",
      "0.324071 0 0.6688738790620429 0.00014195599451471974\n",
      "0.324806 0 0.6688938102954911 0.00012202476106648596\n",
      "0.324967 0 0.6689122074117145 0.00010362764484306286\n",
      "0.325404 0 0.6689290775783693 8.675747818831514e-05\n",
      "0.326031 0 0.6689444278599987 7.140719655884809e-05\n",
      "0.3262 0 0.668958265219472 5.756983708560259e-05\n",
      "0.326845 0 0.668970596519392 4.5238537165648296e-05\n",
      "0.328165 0 0.6689005168234319 0.00011531823312571632\n",
      "0.330237 0 0.6689182720899405 9.756296661711517e-05\n",
      "0.331258 0 0.668934521231097 8.131382546061605e-05\n",
      "0.331297 0 0.6689492709353353 6.656412122230115e-05\n",
      "0.331852 0 0.6689625277951201 5.330726143748521e-05\n",
      "0.332423 0 0.6689742983082393 4.1536748318304895e-05\n",
      "0.333162 0 0.6689845888790693 3.124617748828662e-05\n",
      "0.333232 0 0.6689934058198177 2.242923673989594e-05\n",
      "0.333399 0 0.6690007553517408 1.5079704816844952e-05\n",
      "0.333583 0 0.6690066436063385 9.191450219048214e-06\n",
      "0.334149 0 0.6690110766265258 4.7584300317815575e-06\n",
      "0.334906 0 0.6690140603677818 1.774688775824096e-06\n",
      "0.335594 0 0.6690156006992763 2.3435728124798771e-07\n",
      "0.33669 0 0.6690157034049771 1.3165158052608206e-07\n",
      "0.33712 0 0.669014374184732 1.46087182562038e-06\n",
      "0.337514 0 0.6690116186553349 4.216401222723043e-06\n",
      "0.341296 0 0.6690074423515683 8.392704989312882e-06\n",
      "0.342102 0 0.6690018507272283 1.3984329329308487e-05\n",
      "0.342149 0 0.6690157770759788 5.798057878259044e-08\n",
      "0.342642 0 0.6690154731375795 3.6191897812010154e-07\n",
      "0.343762 0 0.6690137530313808 2.0820251768194353e-06\n",
      "0.344197 0 0.6690106220754641 5.212981093460911e-06\n",
      "0.344951 0 0.6690130154020584 2.819654499219837e-06\n",
      "0.346327 0 0.6690151310103067 7.040462508545176e-07\n",
      "0.346942 0 0.6689929301574697 2.2904899087849984e-05\n",
      "0.348554 0 0.6690002642441802 1.557081237735236e-05\n"
     ]
    },
    {
     "name": "stdout",
     "output_type": "stream",
     "text": [
      "0.349449 0 0.6690061810336803 9.654022877336743e-06\n",
      "0.35146 0 0.6690106857316633 5.149324894260232e-06\n",
      "0.351652 0 0.669013783468024 2.0515885336136463e-06\n",
      "0.351679 0 0.6690154792977527 3.557588048597182e-07\n",
      "0.352546 0 0.6690157782018143 5.6854743246681494e-08\n",
      "0.352784 0 0.6690146850880097 1.1499685479421373e-06\n",
      "0.353387 0 0.6690122047918214 3.630264736154132e-06\n",
      "0.353566 0 0.6690083420772448 7.492979312795356e-06\n",
      "0.354274 0 0.669003101637603 1.2733418954580245e-05\n",
      "0.354277 0 0.6689964880963468 1.934696021077542e-05\n",
      "0.354691 0 0.6689885060078404 2.7329048717161797e-05\n",
      "0.355109 0 0.6689791598581323 3.6675198425317745e-05\n",
      "0.357304 0 0.6689684540657127 4.738099084489189e-05\n",
      "0.357809 0 0.6689563929822562 5.944207430141901e-05\n",
      "0.358269 0 0.6689429808933511 7.285416320645943e-05\n",
      "0.359769 0 0.6689282220192165 8.761303734106107e-05\n",
      "0.359956 0 0.668912120515404 0.0001037145411535434\n",
      "0.360075 0 0.6688946804734892 0.00012115458306838356\n",
      "0.362395 0 0.6688759059217485 0.00013992913480909142\n",
      "0.363346 0 0.6688558008258246 0.00016003423073296386\n",
      "0.363453 0 0.6688343690893802 0.0001814659671773855\n",
      "0.363694 0 0.6688116145547378 0.00020422050181978513\n",
      "0.364292 0 0.6687875410035109 0.00022829405304669592\n",
      "0.365878 0 0.6687621521572205 0.0002536828993371376\n",
      "0.368028 0 0.6687354516779029 0.00028038337865465834\n",
      "0.368879 0 0.6687074431687047 0.00030839188785292126\n",
      "0.36903 0 0.6686781301744681 0.0003377048820895068\n",
      "0.37021 0 0.6686475161823041 0.00036831887425348153\n",
      "0.371416 0 0.668615604622157 0.000400230434400628\n",
      "0.372415 0 0.6687567299173327 0.0002591051392248911\n",
      "0.372495 0 0.6687298573620113 0.0002859776945463022\n",
      "0.373285 0 0.6687016856829089 0.0003141493736487089\n",
      "0.373469 0 0.6686722182185103 0.00034361683804728926\n",
      "0.374048 0 0.668641458251775 0.0003743768047825835\n",
      "0.375661 0 0.6686094090106571 0.0004064260459004654\n",
      "0.376938 0 0.6685760736686168 0.0004397613879407736\n",
      "0.377151 0 0.668724154692991 0.0002916803635666376\n",
      "0.378505 0 0.6686958134385974 0.0003200216179601867\n",
      "0.379396 0 0.6686661845491535 0.00034965050740409787\n",
      "0.379663 0 0.668635271110927 0.0003805639456305743\n",
      "0.379976 0 0.6686030761571762 0.00041275889938141574\n",
      "0.382987 0 0.6685696026686211 0.0004462323879365071\n",
      "0.383775 0 0.6687183409641084 0.0002974940924491687\n",
      "0.383973 0 0.6686898237116575 0.0003260113449000679\n",
      "0.386965 0 0.6686600264435378 0.0003558086130197591\n",
      "0.387877 0 0.6686289520562049 0.0003868830003527224\n",
      "0.38866 0 0.6685966033949446 0.000419231661612951\n",
      "0.388819 0 0.6685629832543095 0.00045285180224807764\n",
      "0.390423 0 0.6685280943785442 0.00048774067801338195\n",
      "0.390606 0 0.668491939462006 0.0005238955945515711\n",
      "0.391055 0 0.6684545211495749 0.0005613139069826634\n",
      "0.393053 0 0.6684158420370583 0.0005999930194993119\n",
      "0.396833 0 0.6685899878817692 0.0004258471747884407\n",
      "0.397342 0 0.66855621261991 0.0004596224366475443\n",
      "0.397657 0 0.6685211750047076 0.0004946600518499489\n",
      "0.398189 0 0.6684848775536296 0.0005309575029279756\n",
      "0.399516 0 0.6684473227362313 0.0005685123203262865\n",
      "0.400031 0 0.6684085129745276 0.0006073220820299596\n",
      "0.402842 0 0.6685832265977664 0.0004326084587912282\n",
      "0.403112 0 0.6687280260565205 0.0002878090000371092\n",
      "0.403238 0 0.6687002045172988 0.00031563053925875995\n",
      "0.4069 0 0.6686711203897728 0.00034471466678476226\n",
      "0.407683 0 0.6686407760838196 0.00037505897273804045\n",
      "0.408486 0 0.6686091739624987 0.00040666109405884665\n",
      "0.409499 0 0.6685763163423974 0.00043951871416014754\n",
      "0.409632 0 0.6685422054939716 0.00047362956258600875\n",
      "0.410879 0 0.668506843641878 0.0005089914146796382\n",
      "0.411772 0 0.6684702329653017 0.0005456020912558701\n",
      "0.413143 0 0.6684323755982762 0.0005834594582814212\n",
      "0.413894 0 0.6686022969794921 0.0004135380770654562\n",
      "0.414037 0 0.6687427366245222 0.0002730984320353791\n",
      "0.4144 0 0.6687157465790816 0.00030008847747597933\n",
      "0.414526 0 0.6686875030050738 0.00032833205148374844\n",
      "0.415189 0 0.6686580080241151 0.0003578270324424704\n",
      "0.41615 0 0.6686272637132912 0.0003885713432664195\n",
      "0.416586 0 0.6687626036471426 0.0002532314094150223\n",
      "0.417008 0 0.6687366385658806 0.0002791964906769806\n",
      "0.418473 0 0.6687094230201592 0.00030641203639836245\n",
      "0.420814 0 0.6686809590142277 0.0003348760423298458\n",
      "0.421394 0 0.6686512485086831 0.0003645865478745236\n",
      "0.422263 0 0.6686202934207475 0.000395541635810126\n",
      "0.422326 0 0.6685880956245418 0.00042773943201579456\n",
      "0.423564 0 0.6685546569513515 0.0004611781052060726\n",
      "0.423578 0 0.6685199791898888 0.0004958558666687818\n",
      "0.424086 0 0.6684840640865473 0.0005317709700103368\n",
      "0.424892 0 0.6684469133456532 0.0005689217109043909\n",
      "0.425026 0 0.6684085286297101 0.0006073064268474759\n",
      "0.425377 0 0.6683689115596378 0.000646923496919749\n",
      "0.427387 0 0.6683280637150082 0.0006877713415494036\n",
      "0.427903 0 0.6682859866342727 0.0007298484222848511\n",
      "0.428589 0 0.6682426818149882 0.0007731532415693465\n",
      "0.4301 0 0.6684387641875692 0.0005770708689883941\n",
      "0.430739 0 0.6684001840423781 0.0006156510141794858\n",
      "0.43274 0 0.668360374788316 0.0006554602682415922\n",
      "0.433407 0 0.6683193378565493 0.0006964972000083058\n",
      "0.434672 0 0.6685043067706187 0.0005115282859389225\n",
      "0.435577 0 0.6686605097992877 0.0003553252572698895\n",
      "0.438657 0 0.6687881232252193 0.0002277118313382953\n",
      "0.442641 0 0.6688873121751777 0.00012852288137987777\n",
      "0.442704 0 0.6688687622652023 0.00014707279135528495\n",
      "0.443102 0 0.6688489716436428 0.00016686341291483053\n",
      "0.444162 0 0.6688279418368136 0.0001878932197439953\n",
      "0.444465 0 0.6688056743305466 0.00021016072601098834\n",
      "0.446132 0 0.6687821705703934 0.0002336644861642423\n",
      "0.446173 0 0.6687574319618201 0.00025840309473745826\n",
      "0.44706 0 0.6688638058372122 0.00015202921934542868\n",
      "0.447732 0 0.6689420311428702 7.380391368738692e-05\n",
      "0.44858 0 0.6689278485064053 8.798655015229695e-05\n",
      "0.4491 0 0.6689124267804114 0.00010340827614618853\n",
      "0.449917 0 0.6688957673554967 0.0001200677010608775\n",
      "0.453114 0 0.6688778715825741 0.0001379634739835378\n",
      "0.455319 0 0.6688587407730407 0.0001570942835168454\n",
      "0.457307 0 0.6688383761989533 0.0001774588576043401\n",
      "0.459561 0 0.6689238740862045 9.196097035313322e-05\n",
      "0.459723 0 0.6689081469675761 0.00010768808898153903\n",
      "0.462273 0 0.6689716009346574 4.4234121900244006e-05\n",
      "0.462623 0 0.6690072550862709 8.579970286692884e-06\n",
      "0.462739 0 0.6690020183312853 1.3816725272342012e-05\n",
      "0.462857 0 0.6689955424601874 2.0292596370152793e-05\n",
      "0.463268 0 0.6690152142831618 6.207733957985795e-07\n",
      "0.466447 0 0.6690072799180424 8.555138515164984e-06\n",
      "0.467125 0 0.6690112679653579 4.567091199669804e-06\n",
      "0.467388 0 0.6690140138914131 1.8211651444666188e-06\n",
      "0.468389 0 0.6690155189864521 3.160701055326953e-07\n",
      "0.473011 0 0.6690157845017809 5.055477669824171e-08\n",
      "0.473574 0 0.6690037008429954 1.213421356216493e-05\n",
      "0.473575 0 0.6690085643527255 7.2707038321073725e-06\n",
      "0.475006 0 0.6690121881910687 3.646865488926565e-06\n",
      "0.475487 0 0.6690145735426632 1.2615138943461446e-06\n",
      "0.475767 0 0.6690157215536766 1.135028809828853e-07\n",
      "0.476188 0 0.6690156333319428 2.0172461479006643e-07\n",
      "0.476289 0 0.669014309947098 1.5251094596102632e-06\n",
      "0.477451 0 0.66901175243071 4.08262584761232e-06\n",
      "0.478498 0 0.6690079617764053 7.873280152281836e-06\n",
      "0.479226 0 0.6690029389399917 1.2896116565852545e-05\n",
      "0.479881 0 0.6689966848395756 1.9150216981955737e-05\n",
      "0.480855 0 0.6690153821552611 4.5290129646602395e-07\n",
      "0.481303 0 0.6690137094635162 2.1255930413577317e-06\n",
      "0.482814 0 0.6690108052887489 5.02976780869524e-06\n",
      "0.48325 0 0.6690066704846935 9.164571864062054e-06\n",
      "0.483662 0 0.6690013058677242 1.4529188833378726e-05\n",
      "0.484483 0 0.6689947122169557 2.1122839601872556e-05\n",
      "0.484726 0 0.6689868902743401 2.8944782217488196e-05\n",
      "0.484858 0 0.6689778407447597 3.7994311797850955e-05\n",
      "0.489469 0 0.6689675642961181 4.8270760439450555e-05\n",
      "0.490578 0 0.6690052811321991 1.0553924358447375e-05\n",
      "0.491125 0 0.668999574427113 1.626062944459772e-05\n",
      "0.492192 0 0.6689926405149975 2.319454156007872e-05\n",
      "0.493018 0 0.6689844800006264 3.135505593121479e-05\n",
      "0.495478 0 0.6689750934520404 4.074160451716935e-05\n",
      "0.496003 0 0.668964481400621 5.135365593655905e-05\n",
      "0.496308 0 0.66895264434116 6.319071539762078e-05\n",
      "0.496842 0 0.6689395827319227 7.625232463492893e-05\n",
      "0.496926 0 0.6689252969947108 9.053806184677882e-05\n",
      "0.499545 0 0.6689097875149208 0.00010604754163678898\n",
      "0.502625 0 0.6688930546415963 0.00012278041496127656\n",
      "0.504098 0 0.6688750986874799 0.000140736369077743\n",
      "0.504611 0 0.6688559199290589 0.00015991512749868875\n",
      "0.506886 0 0.6688355186066097 0.00018031644994787044\n",
      "0.506939 0 0.6688138949242357 0.00020194013232188723\n",
      "0.509506 0 0.6689052551772046 0.00011057987935303437\n",
      "0.510281 0 0.6688881875755505 0.00012764748100713152\n",
      "0.510641 0 0.6688698971039051 0.00014593795265249732\n",
      "0.514327 0 0.668850383904544 0.00016545115201360705\n"
     ]
    },
    {
     "name": "stdout",
     "output_type": "stream",
     "text": [
      "0.514388 0 0.6688296480836553 0.00018618697290229136\n",
      "0.514807 0 0.6689167846388016 9.90504177560414e-05\n",
      "0.516619 0 0.6689006009542223 0.00011523410233527098\n",
      "0.516632 0 0.668883194174517 0.0001326408820405689\n",
      "0.518152 0 0.6688645643440658 0.00015127071249176893\n",
      "0.518172 0 0.6688447114712084 0.0001711235853492088\n",
      "0.518197 0 0.6688236355282569 0.0001921995283007405\n",
      "0.519526 0 0.668801336451502 0.00021449860505562413\n",
      "0.520225 0 0.6687778141412194 0.00023802091533819958\n",
      "0.520302 0 0.6688780705470359 0.0001377645095217428\n",
      "0.52172 0 0.6688590962286339 0.00015673882792366367\n",
      "0.521814 0 0.6689378656915441 7.796936501347496e-05\n",
      "0.522358 0 0.6689234386160996 9.2396440457998e-05\n",
      "0.523914 0 0.6689077875148247 0.00010804754173288078\n",
      "0.524025 0 0.6688909122362496 0.00012492282030795998\n",
      "0.525837 0 0.6688728125928475 0.0001430224637101185\n",
      "0.526695 0 0.6688534883610215 0.00016234669553605308\n",
      "0.526906 0 0.6688329392810894 0.0001828957754681504\n",
      "0.526984 0 0.6689191013292866 9.673372727103668e-05\n",
      "0.527255 0 0.6689030982588258 0.00011273679773182721\n",
      "0.528926 0 0.6688858699203356 0.0001299651362219878\n",
      "0.529071 0 0.6688674159919363 0.00014841906462126353\n",
      "0.529928 0 0.6688477361155736 0.00016809894098401834\n",
      "0.53087 0 0.6688268298969853 0.00018900515957231967\n",
      "0.531084 0 0.6688046969056678 0.00021113815088980026\n",
      "0.532246 0 0.6687813366748347 0.00023449838172284743\n",
      "0.532965 0 0.6687567487013757 0.00025908635518190337\n",
      "0.533555 0 0.668730932445808 0.00028490261074964884\n",
      "0.534215 0 0.6687038873322279 0.00031194772432974194\n",
      "0.535847 0 0.6686756127482565 0.000340222308301108\n",
      "0.536129 0 0.6686461080449813 0.00036972701157633736\n",
      "0.537144 0 0.6686153725368963 0.0004004625196613043\n",
      "0.537928 0 0.6685834055018358 0.00043242955472178046\n",
      "0.539354 0 0.668550206180907 0.0004656288756506033\n",
      "0.539874 0 0.6685157737784166 0.0005000612781409508\n",
      "0.539951 0 0.6684801074617958 0.0005357275947618367\n",
      "0.540735 0 0.6684432063615191 0.0005726286950384907\n",
      "0.541807 0 0.6686061143904892 0.00040972066606836943\n",
      "0.542097 0 0.668741827758915 0.0002740072976425978\n",
      "0.543 0 0.6687152580999884 0.00030057695656915406\n",
      "0.543874 0 0.6686874540334036 0.00032838102315402296\n",
      "0.544564 0 0.6686584146719232 0.0003574203846343771\n",
      "0.545334 0 0.6686281390911091 0.00038769596544852014\n",
      "0.545552 0 0.6685966263292284 0.0004192087273291456\n",
      "0.546181 0 0.6685638753871546 0.0004519596694030348\n",
      "0.547309 0 0.6685298852282664 0.0004859498282911989\n",
      "0.549173 0 0.6684946547783419 0.0005211802782156827\n",
      "0.550773 0 0.6684581829254479 0.0005576521311096982\n",
      "0.551875 0 0.6684204685198272 0.0005953665367304239\n",
      "0.552321 0 0.6683815103737806 0.000634324682777021\n",
      "0.552803 0 0.668341307261545 0.0006745277950126471\n",
      "0.553717 0 0.6685193384831731 0.000496496573384464\n",
      "0.554133 0 0.668483691699726 0.0005321433568316047\n",
      "0.554227 0 0.6686403434905833 0.000375491565974273\n",
      "0.554569 0 0.6687697978407974 0.00024603721576021975\n",
      "0.555553 0 0.6687445193393649 0.00027131571719274383\n",
      "0.555811 0 0.6687179975045485 0.0002978375520090726\n",
      "0.557531 0 0.6686902311009404 0.0003256039556172041\n",
      "0.56061 0 0.6688098993733984 0.0002059356831591863\n",
      "0.564376 0 0.6689023194025958 0.00011351565396178209\n",
      "0.564599 0 0.6688849408874529 0.00013089416910472274\n",
      "0.565444 0 0.6688663194403497 0.000149515616207907\n",
      "0.566695 0 0.6688464538071115 0.0001693812494460989\n",
      "0.56673 0 0.6688253426948927 0.0001904923616649068\n",
      "0.567174 0 0.6689137666875179 0.0001020683690396984\n",
      "0.567378 0 0.6688972378396119 0.00011859721694573722\n",
      "0.568455 0 0.6689641627504084 5.167230614921969e-05\n",
      "0.569552 0 0.6689522219844477 6.361307210989153e-05\n",
      "0.570266 0 0.6689390365343798 7.679852217779004e-05\n",
      "0.570862 0 0.668924605049783 9.12300067745786e-05\n",
      "0.573685 0 0.668908926141038 0.00010690891551956572\n",
      "0.573858 0 0.6688919983791657 0.00012383667739190862\n",
      "0.573929 0 0.6688738202956607 0.00014201476089692466\n",
      "0.574533 0 0.6688543903823188 0.000161444674238842\n",
      "0.575232 0 0.6688337070910615 0.00018212796549610388\n",
      "0.575621 0 0.668811768833756 0.00020406622280155773\n",
      "0.577038 0 0.6687885739820295 0.00022726107452808453\n",
      "0.577104 0 0.6687641208670798 0.0002517141894777808\n",
      "0.577797 0 0.6687384077794812 0.0002774272770763586\n",
      "0.578368 0 0.6687114329689856 0.0003044020875719866\n",
      "0.578462 0 0.6686831946443184 0.0003326404122392379\n",
      "0.579664 0 0.6686536909729709 0.0003621440835867018\n",
      "0.579935 0 0.6687810625745401 0.0002347724820175312\n",
      "0.580294 0 0.6687561712147616 0.00025966384179598734\n",
      "0.581004 0 0.6687300140032695 0.0002858210532881156\n",
      "0.582407 0 0.6688417433114058 0.00017409174515181647\n",
      "0.583509 0 0.6688202078835104 0.00019562717304721922\n",
      "0.584054 0 0.6687974061904994 0.00021842886605816236\n",
      "0.584393 0 0.6687733362946587 0.00024249876189885722\n",
      "0.585039 0 0.6687479962160401 0.00026783884051750917\n",
      "0.586053 0 0.6687213839322246 0.00029445112433301723\n",
      "0.586698 0 0.6686934973780781 0.00032233767847944517\n",
      "0.586857 0 0.6686643344455059 0.0003515006110517138\n",
      "0.587429 0 0.6686338929831979 0.0003819420733597312\n",
      "0.589599 0 0.6686021707963712 0.00041366426018640823\n",
      "0.589771 0 0.6685691656465063 0.00044666941005133687\n",
      "0.589982 0 0.6685348752510771 0.00048095980548046313\n",
      "0.591896 0 0.6684992972832773 0.0005165377732803123\n",
      "0.59346 0 0.6684624293717387 0.0005534056848188751\n",
      "0.594398 0 0.6684242691002461 0.0005915659563114906\n",
      "0.595654 0 0.6685913567503854 0.0004244783061722046\n",
      "0.595808 0 0.668557848369728 0.0004579866868296145\n",
      "0.596321 0 0.6685230469045906 0.0004927881519669608\n",
      "0.596653 0 0.6686745290178395 0.00034130603871806997\n",
      "0.59704 0 0.6687984144377197 0.00021742061883789354\n",
      "0.598362 0 0.6688946001817436 0.00012123487481396911\n",
      "0.598574 0 0.6688763952473872 0.00013943980917041632\n",
      "0.599059 0 0.6688569055860328 0.00015892947052476014\n",
      "0.599814 0 0.6688361287768734 0.00017970627968422193\n",
      "0.599896 0 0.6688140623533683 0.00020177270318932905\n",
      "0.600106 0 0.6687907038029295 0.00022513125362810804\n",
      "0.601384 0 0.6687660505666013 0.0002497844899562729\n",
      "0.601972 0 0.668740100038735 0.00027573501782263143\n",
      "0.602281 0 0.6688503826383843 0.00016545241817333967\n",
      "0.603307 0 0.6688291384203073 0.0001866966362502609\n",
      "0.60359 0 0.6688065965381803 0.00020923851837728602\n",
      "0.604046 0 0.668782754302695 0.0002330807538626356\n",
      "0.605538 0 0.6687576089767537 0.00025822607980385825\n",
      "0.606303 0 0.668731157775114 0.0002846772814435461\n",
      "0.606346 0 0.6687033978640271 0.0003124371925304903\n",
      "0.607239 0 0.6686743263608694 0.0003415086956881641\n",
      "0.607634 0 0.6686439403337674 0.0003718947227902003\n",
      "0.608304 0 0.6686122368012135 0.0004035982553440842\n",
      "0.609716 0 0.668748905262099 0.00026692979445863685\n",
      "0.610887 0 0.6687219399121632 0.0002938951443943738\n",
      "0.611149 0 0.668693656520702 0.0003221785358555884\n",
      "0.612927 0 0.6688144728905501 0.00020136216600752377\n",
      "0.612939 0 0.6687909440223365 0.00022489103422107526\n",
      "0.613356 0 0.6687660966812528 0.0002497383753048421\n",
      "0.614103 0 0.6687399277559305 0.00027590730062709845\n",
      "0.615669 0 0.6687124340835676 0.0003034009729899756\n",
      "0.616452 0 0.6686836124495033 0.00033222260705434437\n",
      "0.619303 0 0.6686534595867828 0.0003623754697748005\n",
      "0.624729 0 0.6686219721757168 0.00039386288084075627\n",
      "0.625005 0 0.6685891468434306 0.0004266882131269689\n",
      "0.625326 0 0.6685549801634059 0.0004608548931517298\n",
      "0.626347 0 0.6685194686550142 0.00049636640154338\n",
      "0.626543 0 0.668482608783042 0.0005332262735155968\n",
      "0.627161 0 0.6684443969572065 0.0005714380993511181\n",
      "0.6273 0 0.6684048295316634 0.000611005524894237\n",
      "0.627632 0 0.6683639028045054 0.0006519322520521786\n",
      "0.628528 0 0.668321613017252 0.0006942220393055809\n",
      "0.630027 0 0.6682779563543291 0.0007378787022285227\n",
      "0.631186 0 0.668468692802006 0.000547142254551547\n",
      "0.631875 0 0.668631260763334 0.00038457429322358294\n",
      "0.634706 0 0.6685986048295379 0.0004172302270196715\n",
      "0.635115 0 0.6685645880225326 0.000451247034024993\n",
      "0.638158 0 0.6687112244986688 0.00030461055788877367\n",
      "0.639359 0 0.6686820531598616 0.0003337818966959727\n",
      "0.641692 0 0.6686515203298573 0.00036431472670028775\n",
      "0.642607 0 0.6686196221087408 0.0003962129478167764\n",
      "0.644387 0 0.6685863545374624 0.00042948051909519336\n",
      "0.64496 0 0.6685517135972645 0.00046412145929308757\n",
      "0.645018 0 0.6687010196381762 0.0003148154183814089\n",
      "0.645317 0 0.6688216877693551 0.00019414728720246188\n",
      "0.646199 0 0.668798185214394 0.00021764984216354755\n",
      "0.647439 0 0.6688962886262089 0.00011954643034872703\n",
      "0.648103 0 0.6688776967720909 0.00013813828446673782\n",
      "0.650881 0 0.6688577422878245 0.00015809276873313127\n",
      "0.651382 0 0.6688364211312778 0.00017941392527975886\n",
      "0.652226 0 0.6688137291990323 0.0002021058575253365\n",
      "0.652944 0 0.6687896623257644 0.00022617273079317268\n",
      "0.65649 0 0.6687642162836173 0.00025161877294033186\n",
      "0.656564 0 0.6688711136820938 0.0001447213744637521\n",
      "0.656826 0 0.6688506173795143 0.00016521767704325008\n",
      "0.658593 0 0.6688287415858373 0.00018709347072032312\n",
      "0.659241 0 0.6688054819595215 0.00021035309703609784\n",
      "0.659558 0 0.6687808340943929 0.00023500096216466648\n",
      "0.660069 0 0.6687547935189628 0.0002610415375947639\n",
      "0.66058 0 0.6687273556957339 0.0002884793608236569\n",
      "0.661398 0 0.6686985160204948 0.000317319036062802\n"
     ]
    },
    {
     "name": "stdout",
     "output_type": "stream",
     "text": [
      "0.661972 0 0.6686682698216007 0.0003475652349569369\n",
      "0.662287 0 0.6686366123592408 0.0003792226973168278\n",
      "0.663326 0 0.6686035388246935 0.0004122962318641177\n",
      "0.663901 0 0.6685690443395667 0.0004467907169909413\n",
      "0.666741 0 0.6687169664242296 0.00029886863232797545\n",
      "0.667307 0 0.6686874843788919 0.0003283506776656786\n",
      "0.667834 0 0.6686565807080935 0.00035925434846406645\n",
      "0.668236 0 0.668624250404406 0.00039158465215161087\n",
      "0.668721 0 0.6685904883881755 0.00042534666838212054\n",
      "0.67023 0 0.6685552895066982 0.00046054554985941465\n",
      "0.670664 0 0.6687062004797966 0.0003096345767610309\n",
      "0.670888 0 0.6686760548924242 0.0003397801641333853\n",
      "0.672235 0 0.6686444717234219 0.00037136333313569914\n",
      "0.672417 0 0.6686114456843764 0.0004043893721812353\n",
      "0.672655 0 0.6685769714110517 0.00043886364550593804\n",
      "0.675281 0 0.6687244206546782 0.0002914144018794085\n",
      "0.677921 0 0.6688421080542386 0.00017372700231899074\n",
      "0.679985 0 0.6688192810381299 0.00019655401842766373\n",
      "0.681013 0 0.6687950154422266 0.0002208196143309582\n",
      "0.682047 0 0.6687693058540964 0.0002465292024611543\n",
      "0.682358 0 0.6687421467832604 0.00027368827329721235\n",
      "0.68258 0 0.6687135326602525 0.0003023023963051319\n",
      "0.683078 0 0.6686834578356586 0.0003323772208989606\n",
      "0.684093 0 0.6686519165791399 0.0003639184774176796\n",
      "0.686432 0 0.6687857525167279 0.00023008253982970128\n",
      "0.686512 0 0.6687593800741007 0.00025645498245685516\n",
      "0.688398 0 0.6687315406077337 0.0002842944488239407\n",
      "0.689664 0 0.6687022282372856 0.0003136068192719499\n",
      "0.690667 0 0.6688258046876533 0.0001900303689043037\n",
      "0.691637 0 0.6688016995654175 0.00021413549114013275\n",
      "0.691872 0 0.6687761210405787 0.00023971401597888686\n",
      "0.692777 0 0.668749063079094 0.00026677197746360903\n",
      "0.693076 0 0.6688622473394732 0.00015358771708440244\n",
      "0.693426 0 0.6688404366172436 0.00017539843931402288\n",
      "0.693621 0 0.6688171460589655 0.00019868899759212244\n",
      "0.695484 0 0.6687923694730669 0.00022346558349073398\n",
      "0.698597 0 0.6688950188073745 0.00012081624918314215\n",
      "0.699269 0 0.6688755310656225 0.00014030399093512003\n",
      "0.699823 0 0.6688545570022851 0.00016127805427246233\n",
      "0.69991 0 0.6688320902643053 0.0001837447922522495\n",
      "0.700521 0 0.6688081244069162 0.00020771064964142383\n",
      "0.701317 0 0.6687826528924189 0.00023318216413870108\n",
      "0.701387 0 0.6688882892960009 0.0001275457605567354\n",
      "0.701588 0 0.6688681624502241 0.00014767260633352652\n",
      "0.702565 0 0.6688465296164262 0.00016930544013138427\n",
      "0.70289 0 0.6688233840858212 0.00019245097073639084\n",
      "0.70484 0 0.6687987190525999 0.0002171160039576847\n",
      "0.706089 0 0.668772527612597 0.00024330744396061643\n",
      "0.706152 0 0.6687448027619334 0.0002710322946242183\n",
      "0.706667 0 0.6687155373956297 0.0003002976609278729\n",
      "0.707992 0 0.668684724306194 0.0003311107503636279\n",
      "0.708463 0 0.668652356182179 0.0003634788743785977\n",
      "0.709395 0 0.6686184256067131 0.0003974094498444547\n",
      "0.709766 0 0.668582925055999 0.00043291000055856177\n",
      "0.710049 0 0.6685458468977836 0.0004699881587739707\n",
      "0.710245 0 0.6685071833897971 0.0005086516667605068\n",
      "0.710637 0 0.6686717909465758 0.00034404410998178925\n",
      "0.710957 0 0.6686385844729664 0.00037725058359117103\n",
      "0.712486 0 0.6686037915710448 0.0004120434855128252\n",
      "0.712493 0 0.6685674042900707 0.00044843076648692914\n",
      "0.713472 0 0.6685294145639866 0.0004864204925709714\n",
      "0.713503 0 0.6684898142097078 0.0005260208468498284\n",
      "0.715058 0 0.6684485949253776 0.0005672401311800357\n",
      "0.715334 0 0.6684057482885881 0.0006100867679694755\n",
      "0.715754 0 0.6683612657545613 0.0006545693019962551\n",
      "0.716352 0 0.6683151386542935 0.0007006964022641116\n",
      "0.716866 0 0.6682673581926615 0.0007484768638961192\n",
      "0.717213 0 0.6682179154464875 0.0007979196100701413\n",
      "0.717351 0 0.668166801362564 0.0008490336939935839\n",
      "0.718326 0 0.6683856090637237 0.0006302259928339105\n",
      "0.718686 0 0.6683400669627342 0.0006757680938234145\n",
      "0.719045 0 0.6682928515729563 0.000722983483601336\n",
      "0.719413 0 0.6682439535881457 0.0007718814684118946\n",
      "0.719893 0 0.6681933635652377 0.000822471491319865\n",
      "0.721172 0 0.6681410719221763 0.0008747631343812845\n",
      "0.721252 0 0.6680870689356947 0.0009287661208629006\n",
      "0.722766 0 0.6680313447390502 0.0009844903175073583\n",
      "0.72305 0 0.6679738893197066 0.0010419457368510132\n",
      "0.723491 0 0.667914692516969 0.0011011425395885954\n",
      "0.726116 0 0.6678537440195653 0.0011620910369922743\n",
      "0.728289 0 0.6677910333631742 0.0012248016933833483\n",
      "0.731029 0 0.6677265499278989 0.0012892851286586682\n",
      "0.733716 0 0.6676602829356857 0.0013555521208719057\n",
      "0.733995 0 0.6675922214476837 0.001423613608873886\n",
      "0.734303 0 0.6675223543615458 0.0014934806950117618\n",
      "0.734726 0 0.6678202273383995 0.001195607718158076\n",
      "0.734896 0 0.6677560795742966 0.0012597554822609824\n",
      "0.734932 0 0.6676901226472078 0.0013257124093497552\n",
      "0.737455 0 0.6679711865887813 0.001044648467776299\n",
      "0.737599 0 0.6679110032121932 0.0011048318443643845\n",
      "0.737764 0 0.667849007312886 0.0011668277436716057\n",
      "0.737954 0 0.6677851872924047 0.0012306477641529368\n",
      "0.738249 0 0.6677195313753788 0.0012963036811788342\n",
      "0.738737 0 0.6676520276064302 0.00136380745012743\n",
      "0.739106 0 0.6679390305786679 0.0010768044778897146\n",
      "0.739568 0 0.6678773818233902 0.0011384532331674135\n",
      "0.740583 0 0.6678138815610323 0.0012019534955253208\n",
      "0.74173 0 0.667748517472875 0.0012673175836825923\n",
      "0.742128 0 0.6680261085897345 0.0009897264668230488\n",
      "0.742144 0 0.6679666675886806 0.001049167467876977\n",
      "0.742171 0 0.6679053591544778 0.0011104759020797994\n",
      "0.742628 0 0.6678421705908362 0.0011736644657214246\n",
      "0.743085 0 0.6681101949764106 0.000905640080147041\n",
      "0.743313 0 0.6680530004762821 0.0009628345802754623\n",
      "0.745996 0 0.6679939222957042 0.001021912760853394\n",
      "0.746587 0 0.6679329473458409 0.00108288771071674\n",
      "0.747166 0 0.6678700623303209 0.0011457727262367268\n",
      "0.747386 0 0.6678052537413668 0.0012105813151908063\n",
      "0.748955 0 0.6677385078558304 0.0012773272007271519\n",
      "0.749795 0 0.6680208025272101 0.000995032529347517\n",
      "0.750645 0 0.667960154199125 0.0010556808574325727\n",
      "0.751421 0 0.667897564471166 0.0011182705853916008\n",
      "0.751571 0 0.6678330191838016 0.0011828158727560378\n",
      "0.751953 0 0.6677665039482021 0.001249331108355456\n",
      "0.751985 0 0.6680473158919709 0.0009685191645867341\n",
      "0.754701 0 0.667986987284264 0.0010288477722936173\n",
      "0.754788 0 0.6679246844528488 0.0010911506037087904\n",
      "0.755136 0 0.6678603925436944 0.0011554425128631474\n",
      "0.755479 0 0.6677940964582736 0.0012217385982840057\n",
      "0.756568 0 0.6680734697870025 0.0009423652695550455\n",
      "0.758639 0 0.6680134539453131 0.0010023811112445102\n",
      "0.759743 0 0.6679514294665192 0.0010644055900383975\n",
      "0.760454 0 0.6682126215401722 0.0008032135163853482\n",
      "0.761879 0 0.668438389258688 0.000577445797869558\n",
      "0.762084 0 0.6683911279224316 0.0006247071341259902\n",
      "0.762571 0 0.6683418813722749 0.000673953684282691\n",
      "0.763216 0 0.6685484704250322 0.0004673646315254132\n",
      "0.764397 0 0.6687183498270111 0.00029748522954653467\n",
      "0.764593 0 0.6688507909149455 0.000165044141612114\n",
      "0.764698 0 0.668825101899246 0.00019073315731155116\n",
      "0.765328 0 0.6687974824453227 0.00021835261123492877\n",
      "0.765794 0 0.668767917343086 0.000247917713471546\n",
      "0.766052 0 0.6687363911192437 0.000279443937313939\n",
      "0.766598 0 0.668865107863905 0.00015072719265263324\n",
      "0.766923 0 0.6688403009755475 0.00017553408101012025\n",
      "0.767432 0 0.6688135317695721 0.0002023032869854502\n",
      "0.767756 0 0.668784784271339 0.00023105078521856726\n",
      "0.767803 0 0.6687540422246221 0.0002617928319355034\n",
      "0.768694 0 0.6687212890855625 0.00029454597099509705\n",
      "0.769265 0 0.6686865080164578 0.00032932704009980274\n",
      "0.770059 0 0.668649681879373 0.0003661531771845805\n",
      "0.772841 0 0.6688012379308961 0.00021459712566151978\n",
      "0.774527 0 0.6687712992539259 0.000244535802631729\n",
      "0.774708 0 0.6687393135763214 0.0002765214802361582\n",
      "0.774999 0 0.6687052631803032 0.0003105718762543841\n",
      "0.776161 0 0.6686691300257954 0.0003467050307621733\n",
      "0.776206 0 0.6686308957431882 0.00038493931336935905\n",
      "0.776426 0 0.6685905416258906 0.0004252934306669953\n",
      "0.78037 0 0.6685480486226668 0.00046778643389078223\n",
      "0.780527 0 0.6685033973297481 0.0005124377268095337\n",
      "0.780887 0 0.6684565679827127 0.0005592670738449046\n",
      "0.781415 0 0.6684075404481258 0.0006082946084318142\n",
      "0.782597 0 0.668356294214929 0.0006595408416285586\n",
      "0.784794 0 0.6683028083855729 0.0007130266709847177\n",
      "0.784928 0 0.6682470616668833 0.0007687733896742932\n",
      "0.785857 0 0.6681890323606481 0.000826802695909512\n",
      "0.785964 0 0.6681286983539185 0.0008871367026390686\n",
      "0.786376 0 0.6683791580195418 0.0006366770370157537\n",
      "0.788782 0 0.6683260255900304 0.0006898094665271914\n",
      "0.78909 0 0.6685461317293825 0.0004697033271751083\n",
      "0.78936 0 0.6685002976231257 0.0005155374334319118\n"
     ]
    },
    {
     "name": "stdout",
     "output_type": "stream",
     "text": [
      "0.791203 0 0.6686892027997574 0.0003266322568001856\n",
      "0.792768 0 0.6686507665820216 0.00036506847453599\n",
      "0.793291 0 0.6686100563426355 0.0004057787139221114\n",
      "0.795893 0 0.6685670491905971 0.0004487858659605326\n",
      "0.798204 0 0.6685217217791977 0.000494113277359931\n",
      "0.798375 0 0.6684740502945227 0.0005417847620349248\n",
      "0.799519 0 0.668424010443583 0.0005918246129745786\n",
      "0.799624 0 0.6683715774420609 0.0006442576144967127\n",
      "0.802159 0 0.6683167260016546 0.0006991090549030021\n",
      "0.802181 0 0.6685428577419392 0.00047297731461837245\n",
      "0.802215 0 0.6687264030065915 0.0002894320499661207\n",
      "0.802289 0 0.6688661938330391 0.00014964122351845965\n",
      "0.80366 0 0.6688392893051358 0.00017654575142178608\n",
      "0.804104 0 0.6688100550579003 0.00020577999865734053\n",
      "0.804468 0 0.6689253400898989 9.049496665869405e-05\n",
      "0.804494 0 0.6689040725196788 0.00011176253687883442\n",
      "0.805307 0 0.6688804737756741 0.00013536128088353916\n",
      "0.805911 0 0.6689703066258409 4.552843071670143e-05\n",
      "0.806941 0 0.6689548225669345 6.101248962309125e-05\n",
      "0.807592 0 0.6689370068776106 7.882817894699912e-05\n",
      "0.807976 0 0.6689168335305399 9.900152601771683e-05\n",
      "0.80988 0 0.6688942759343249 0.00012155912223266174\n",
      "0.810731 0 0.6688693069178464 0.0001465281387111883\n",
      "0.812497 0 0.6688418987140531 0.0001739363425045104\n",
      "0.813524 0 0.6688120229431758 0.00020381211338182936\n",
      "0.815366 0 0.6689290516046879 8.678345186974301e-05\n",
      "0.817611 0 0.6689973413325256 1.8493724031953818e-05\n",
      "0.819282 0 0.6690152384139847 5.966425729031499e-07\n",
      "0.820755 0 0.6690157392205918 9.58359658298491e-08\n",
      "0.823295 0 0.66901388673643 1.948320127564962e-06\n",
      "0.823891 0 0.6690096529761287 6.182080428907e-06\n",
      "0.82397 0 0.6690087708286951 7.064227862452199e-06\n",
      "0.824009 0 0.6690133807957368 2.454260820794474e-06\n",
      "0.824704 0 0.6690156132725577 2.217839999429927e-07\n",
      "0.827145 0 0.6689834934162204 3.234164033716347e-05\n",
      "0.831402 0 0.6689947606160325 2.1074440525126192e-05\n",
      "0.833004 0 0.6690036557627479 1.2179293809699843e-05\n",
      "0.839057 0 0.6690101492797906 5.685776766961581e-06\n",
      "0.840447 0 0.669014210885226 1.6241713316489381e-06\n",
      "0.841897 0 0.6690158095700295 2.5486528110185702e-08\n",
      "0.842076 0 0.668985979863938 2.9855192619554494e-05\n",
      "0.842863 0 0.6689969252407549 1.8909815802659047e-05\n",
      "0.844507 0 0.6690054135062212 1.0421550336370267e-05\n",
      "0.844778 0 0.6690114123649009 4.4226916566803e-06\n",
      "0.845595 0 0.6689596888604991 5.6146196058537434e-05\n",
      "0.845782 0 0.6689752932801093 4.0541776448299593e-05\n",
      "0.845998 0 0.6689884156455553 2.7419411002260752e-05\n",
      "0.846905 0 0.6689990223075173 1.681274904030694e-05\n",
      "0.847487 0 0.6689240246877451 9.181036881245053e-05\n",
      "0.848309 0 0.6687864303846766 0.0002294046718810394\n",
      "0.850072 0 0.6688194306901162 0.00019640436644141612\n",
      "0.851074 0 0.6688500046890259 0.00016583036753170521\n",
      "0.852791 0 0.6688781185668365 0.00013771648972105144\n",
      "0.853358 0 0.6689037376209217 0.00011209743563589392\n",
      "0.854391 0 0.6689268262302375 8.900882632012497e-05\n",
      "0.855833 0 0.6687874361634385 0.00022839889311909722\n",
      "0.856131 0 0.6688209702497042 0.0001948648068533787\n",
      "0.856742 0 0.668851988034928 0.00016384702162963727\n",
      "0.857079 0 0.6688804523940398 0.00013538266251778008\n",
      "0.857619 0 0.6687121751235119 0.00030365993304570793\n",
      "0.858187 0 0.6687514223043689 0.00026441275218869187\n",
      "0.858249 0 0.6687881329865886 0.00022770206996902687\n",
      "0.860566 0 0.6688222684706118 0.00019356658594582576\n",
      "0.862299 0 0.6688537889629532 0.00016204609360437328\n",
      "0.864688 0 0.6688826535356951 0.000133181520862502\n",
      "0.865326 0 0.6689088200840795 0.00010701497247811442\n",
      "0.869596 0 0.6689322452820828 8.358977447475713e-05\n",
      "0.869639 0 0.6689528845358647 6.295052069293927e-05\n",
      "0.870165 0 0.6689706919349608 4.514312159675793e-05\n",
      "0.871884 0 0.6689856202010914 3.0214855466170754e-05\n",
      "0.872212 0 0.6689976206344409 1.821442211669133e-05\n",
      "0.872565 0 0.669006643057259 9.191999298607811e-06\n",
      "0.872585 0 0.6690126357546208 3.1993019368181663e-06\n",
      "0.874148 0 0.6689555867297708 6.0248326786749296e-05\n",
      "0.874878 0 0.6688240126043288 0.0001918224522288181\n",
      "0.875014 0 0.6688567532183268 0.00015908183823076794\n",
      "0.876105 0 0.6688865995943764 0.00012923546218124304\n",
      "0.876695 0 0.6689134996742553 0.00010233538230230987\n",
      "0.877732 0 0.6689373997256373 7.84353309203345e-05\n",
      "0.87998 0 0.6689582442708248 5.759078573275289e-05\n",
      "0.881795 0 0.6689759760116288 3.985904492875836e-05\n",
      "0.882415 0 0.6689905357501428 2.529930641481659e-05\n",
      "0.884221 0 0.669001862305137 1.3972751420565643e-05\n",
      "0.885649 0 0.6690098924237818 5.9426327757572395e-06\n",
      "0.887062 0 0.6690145606883761 1.2743681815363672e-06\n",
      "0.888856 0 0.6690157994177439 3.5638813677962844e-08\n",
      "0.889175 0 0.6690135385629241 2.2964936334801678e-06\n",
      "0.88966 0 0.6690077055967503 8.129459807326711e-06\n",
      "0.889918 0 0.6689982253968894 1.7609659668238464e-05\n",
      "0.891131 0 0.6690113375727447 4.497483812926362e-06\n",
      "0.894892 0 0.6690152360698666 5.98986691024983e-07\n",
      "0.895635 0 0.6690154956756889 3.3938086874130136e-07\n",
      "0.898746 0 0.6690120364180112 3.7986385463817385e-06\n",
      "0.899216 0 0.6690047753096405 1.1059746917063684e-05\n",
      "0.901493 0 0.6690058119823963 1.0023074161313872e-05\n",
      "0.90365 0 0.6689195572293497 9.627782720789124e-05\n",
      "0.904151 0 0.6689445478703879 7.128718616966623e-05\n",
      "0.904238 0 0.668965938848875 4.989620768258707e-05\n",
      "0.904939 0 0.6689836461084159 3.218894814172035e-05\n",
      "0.905322 0 0.6689975822243753 1.8252832182263923e-05\n",
      "0.907255 0 0.6690076562230768 8.178833480809722e-06\n",
      "0.908673 0 0.6690137733886592 2.0616678984008985e-06\n",
      "0.909874 0 0.6689467409623125 6.909409424504798e-05\n",
      "0.9117 0 0.6689684049349709 4.7430121586700125e-05\n",
      "0.911796 0 0.6688208118807886 0.00019502317576902684\n",
      "0.913048 0 0.6685640651001843 0.00045176995637330464\n",
      "0.913668 0 0.6686221585494038 0.0003936765071538284\n",
      "0.913671 0 0.6686767022670158 0.00033913278954178505\n",
      "0.91411 0 0.6687276033427392 0.00028823171381842094\n",
      "0.914175 0 0.6687747646929992 0.00024107036355835998\n",
      "0.916433 0 0.6688180848092093 0.00019775024734824953\n",
      "0.920029 0 0.6688574574867191 0.00015837756983849705\n",
      "0.920815 0 0.6686080594772087 0.0004077755793489013\n",
      "0.922622 0 0.6686655354386317 0.0003502996179258755\n",
      "0.924543 0 0.6683075037393763 0.0007083313171812877\n",
      "0.92497 0 0.6678029149553292 0.0012129201012284208\n",
      "0.926174 0 0.6679023575311663 0.0011134775253912599\n",
      "0.926224 0 0.6679984483570688 0.0010173866994888092\n",
      "0.927076 0 0.6680910881090296 0.0009247469475279768\n",
      "0.927818 0 0.6681801723817868 0.0008356626747707541\n",
      "0.928973 0 0.6682655913389239 0.0007502437176336585\n",
      "0.92936 0 0.668347229332256 0.0006686057243016075\n",
      "0.930405 0 0.6684249644872003 0.0005908705693572491\n",
      "0.930621 0 0.6684986682504153 0.0005171668061423329\n",
      "0.933011 0 0.668568204895498 0.00044763016105964226\n",
      "0.935954 0 0.6686334309819832 0.00038240407457434955\n",
      "0.936073 0 0.6686941947622311 0.000321640294326464\n",
      "0.936298 0 0.6683010106926862 0.0007148243638713803\n",
      "0.938734 0 0.6683849103865539 0.0006309246700036963\n",
      "0.939118 0 0.6684645009105122 0.0005513341460453569\n",
      "0.941396 0 0.6679406710142074 0.0010751640423501962\n",
      "0.941868 0 0.6680450575380313 0.0009707775185262557\n",
      "0.943588 0 0.6681453421011878 0.0008704929553697838\n",
      "0.947073 0 0.6682413625274853 0.0007744725290722565\n",
      "0.948181 0 0.6683329458321688 0.0006828892243887497\n",
      "0.948248 0 0.6684199072433429 0.0005959278132147139\n",
      "0.949542 0 0.6685020491098634 0.0005137859466941563\n",
      "0.949547 0 0.668579159679498 0.00043667537705960324\n",
      "0.950867 0 0.6680558687208982 0.0009599663356594235\n",
      "0.953159 0 0.6681620212122223 0.0008538138443352494\n",
      "0.953163 0 0.6682634320942269 0.0007524029623307005\n",
      "0.955602 0 0.6683598747113408 0.0006559603452167551\n",
      "0.955995 0 0.6684511043478247 0.0005647307087328635\n",
      "0.958698 0 0.6685368562608658 0.000478978795691809\n",
      "0.959119 0 0.6679325728316582 0.0010832622248994062\n",
      "0.96027 0 0.6680520297341541 0.000963805322403477\n",
      "0.964468 0 0.6681664349588629 0.0008494000976947413\n",
      "0.967501 0 0.6682755059240859 0.0007403291324716843\n",
      "0.970721 0 0.6683789337576087 0.0006369012989488887\n",
      "0.97171 0 0.6676098787272389 0.001405956329318725\n",
      "0.972022 0 0.6677525415594391 0.0012632934971185117\n",
      "0.972613 0 0.6678902159402635 0.001125619116294052\n",
      "0.973825 0 0.668022579855741 0.0009932552008166118\n",
      "0.974266 0 0.6681492765686892 0.0008665584878684296\n",
      "0.977624 0 0.6682699094473598 0.0007459256091978395\n",
      "0.977859 0 0.6683840357928263 0.0006317992637312475\n",
      "0.980489 0 0.668491159422788 0.0005246756337695668\n",
      "0.980625 0 0.6685907216980684 0.00042511335848915976\n",
      "0.9807 0 0.6686820905815479 0.0003337444750096674\n",
      "0.981069 0 0.6679408286950579 0.0010750063614997085\n",
      "0.983369 0 0.6680875076078111 0.000928327448746491\n",
      "0.983444 0 0.6682273043102482 0.0007885307463093572\n",
      "0.984574 0 0.6683595440479827 0.0006562910085748941\n"
     ]
    },
    {
     "name": "stdout",
     "output_type": "stream",
     "text": [
      "0.985153 0 0.6671301888076923 0.0018856462488653358\n",
      "0.985759 0 0.6673315238406056 0.001684311215952028\n",
      "0.988055 0 0.667527820080516 0.0014880149760415629\n",
      "0.988166 0 0.667718486846696 0.001297348209861604\n",
      "0.98868 0 0.6679028148560167 0.0011130202005409373\n",
      "0.990375 0 0.6680799422095511 0.0009358928470064587\n",
      "0.991029 0 0.6682488072309685 0.0007670278255891283\n",
      "0.991322 0 0.6684080815389014 0.0006077535176561843\n",
      "0.991854 0 0.6685560724876901 0.00045976256886748335\n",
      "0.992297 0 0.6686905764267759 0.0003252586297817217\n",
      "0.993661 0 0.6665055523424117 0.002510282714145884\n",
      "0.99489 0 0.6667857122580994 0.002230122798458245\n",
      "0.995037 0 0.6670655606586672 0.001950274397890417\n",
      "0.995937 0 0.6673450982382689 0.001670736818288665\n",
      "0.996047 0 0.6676243256887329 0.0013915093678247281\n",
      "0.997057 0 0.6679032436995733 0.0011125913569842716\n",
      "0.997093 0 0.6681818529580005 0.0008339820985571178\n",
      "0.998453 0 0.6684601541489306 0.0005556809076270319\n",
      "0.999645 0 0.6687381479549965 0.0002776871015610638\n",
      "0.004651 1 0.6664978536120753 0.0025179814444823423\n",
      "0.009214 1 0.6639730249105608 0.005042810145996834\n",
      "0.01022 1 0.6614413024713686 0.007574532585189031\n",
      "0.010919 1 0.6589026392594481 0.010113195797109453\n",
      "0.011115 1 0.6563569876755748 0.012658847380982774\n",
      "0.011202 1 0.6538042995463513 0.015211535510206264\n",
      "0.011726 1 0.6512445261139715 0.01777130894258605\n",
      "0.012205 1 0.6486776180257414 0.020338217030816175\n",
      "0.013259 1 0.6461035253233482 0.022912309733209346\n",
      "0.013804 1 0.6435221974318706 0.025493637624687038\n",
      "0.014241 1 0.6409335831485229 0.028082251908034706\n",
      "0.014611 1 0.6383376306311239 0.030678204425433675\n",
      "0.01533 1 0.6357342873862832 0.03328154767027436\n",
      "0.015756 1 0.6331235002572955 0.03589233479926213\n",
      "0.017279 1 0.6305052154117328 0.03851061964482483\n",
      "0.017809 1 0.6278793783287275 0.04113645672783006\n",
      "0.020112 1 0.6252459337859365 0.04376990127062108\n",
      "0.020181 1 0.6226048258461714 0.04641100921038621\n",
      "0.020224 1 0.6199559978436905 0.04905983721286711\n",
      "0.021327 1 0.6172993923701404 0.051716442686417174\n",
      "0.022219 1 0.6146349512601308 0.054380883796426804\n",
      "0.02316 1 0.6119626155764369 0.057053219480120654\n",
      "0.023495 1 0.6092823255948154 0.05973350946174216\n",
      "0.023504 1 0.6065940207884181 0.06242181426813953\n",
      "0.023708 1 0.6038976398117947 0.06511819524476292\n",
      "0.02376 1 0.6011931204844673 0.06782271457209033\n",
      "0.023955 1 0.598480399774065 0.07053543528249262\n",
      "0.025151 1 0.5957594137790014 0.07325642127755616\n",
      "0.026002 1 0.5930300977106813 0.07598573734587633\n",
      "0.028007 1 0.5902923858752178 0.07872344918133978\n",
      "0.02992 1 0.5875462116546486 0.081469623401909\n",
      "0.032009 1 0.5847915074876259 0.08422432756893172\n",
      "0.032314 1 0.5820282048495687 0.08698763020698885\n",
      "0.03344 1 0.579256234232255 0.08975960082430257\n",
      "0.033965 1 0.576475525122835 0.09254030993372264\n",
      "0.034653 1 0.5736860059822436 0.09532982907431398\n",
      "0.035284 1 0.570887604222992 0.09812823083356559\n",
      "0.036245 1 0.5680802461863163 0.10093558887024134\n",
      "0.036704 1 0.565263857118656 0.10375197793790158\n",
      "0.037113 1 0.5624383611474436 0.10657747390911398\n",
      "0.037164 1 0.559603681256174 0.1094121538003836\n",
      "0.037664 1 0.5567597392587305 0.11225609579782714\n",
      "0.038121 1 0.5539064557729386 0.11510937928361897\n",
      "0.038349 1 0.5510437501933175 0.11797208486324007\n",
      "0.038435 1 0.548171540663 0.1208442943935576\n",
      "0.040817 1 0.5452897440447863 0.12372609101177134\n",
      "0.040869 1 0.5423982758913027 0.12661755916525486\n",
      "0.041165 1 0.5394970504142251 0.12951878464233246\n",
      "0.042287 1 0.5365859804525343 0.13242985460402334\n",
      "0.042931 1 0.5336649774397617 0.13535085761679588\n",
      "0.043324 1 0.5307339513701882 0.1382818836863694\n",
      "0.0448 1 0.5277928107639511 0.14122302429260647\n",
      "0.045317 1 0.5248414626310165 0.1441743724255411\n",
      "0.045529 1 0.52187981243397 0.14713602262258763\n",
      "0.045985 1 0.5189077640495768 0.15010807100698076\n",
      "0.046161 1 0.5159252197290609 0.15309061532749668\n",
      "0.046869 1 0.5129320800570467 0.15608375499951088\n",
      "0.047027 1 0.5099282439091114 0.1590875911474462\n",
      "0.047408 1 0.5069136084078828 0.1621022266486748\n",
      "0.048433 1 0.5038880688776246 0.165127766178933\n",
      "0.048617 1 0.5008515187972418 0.16816431625931583\n",
      "0.04862 1 0.497803849751635 0.1712119853049226\n",
      "0.049201 1 0.4947449513813344 0.1742708836752232\n",
      "0.049751 1 0.491674711330333 0.17734112372622457\n",
      "0.050549 1 0.4885930151920397 0.1804228198645179\n",
      "0.051142 1 0.4854997464532673 0.18351608860329027\n",
      "0.052191 1 0.4823947864361643 0.1866210486203933\n",
      "0.053362 1 0.47927801423799454 0.18973782081856305\n",
      "0.058067 1 0.4761493066686659 0.1928665283878917\n",
      "0.05881 1 0.4730085381859014 0.1960072968706562\n",
      "0.062027 1 0.469855580827939 0.1991602542286186\n",
      "0.062776 1 0.4666903041436436 0.202325530912914\n",
      "0.064042 1 0.4635125751199026 0.20550325993665497\n",
      "0.065234 1 0.4603222581061758 0.20869357695038182\n",
      "0.067004 1 0.45711921473605455 0.21189662032050305\n",
      "0.067156 1 0.45390330384568384 0.21511253121087376\n",
      "0.067419 1 0.4506743813888873 0.21834145366767027\n",
      "0.067581 1 0.44743230034882636 0.22158353470773123\n",
      "0.06864 1 0.44417691064601716 0.22483892441054043\n",
      "0.069616 1 0.44090805904251323 0.22810777601404436\n",
      "0.070116 1 0.4376255890420528 0.2313902460145048\n",
      "0.071286 1 0.43432934078595675 0.23468649427060084\n",
      "0.071447 1 0.43101915094454785 0.23799668411200975\n",
      "0.076435 1 0.4276948526038473 0.24132098245271028\n",
      "0.076672 1 0.4243562751472928 0.2446595599092648\n",
      "0.077195 1 0.4210032441321943 0.24801259092436329\n",
      "0.07857 1 0.41763558116064053 0.25138025389591706\n",
      "0.079064 1 0.4142531037445332 0.25476273131202437\n",
      "0.080798 1 0.41085562516441576 0.25816020989214183\n",
      "0.080984 1 0.40744295432173677 0.2615728807348208\n",
      "0.084355 1 0.40401489558415554 0.26500093947240205\n",
      "0.084971 1 0.4005712486234841 0.2684445864330735\n",
      "0.084976 1 0.39711180824581505 0.27190402681074255\n",
      "0.085159 1 0.3936363642133624 0.2753794708431952\n",
      "0.086896 1 0.3901447010575029 0.2788711339990547\n",
      "0.087376 1 0.3866365978824666 0.28237923717409097\n",
      "0.088526 1 0.3831118281590877 0.2859040068974699\n",
      "0.088949 1 0.37957015950797424 0.28944567554858336\n",
      "0.091029 1 0.3760113534714138 0.2930044815851438\n",
      "0.091861 1 0.37243516527327036 0.29658066978328723\n",
      "0.093125 1 0.3688413435660739 0.3001744914904837\n",
      "0.093815 1 0.36522963016443677 0.3037862048921208\n",
      "0.0948 1 0.36159975976385883 0.30741607529269876\n",
      "0.096705 1 0.3579514596439089 0.3110643754126487\n",
      "0.0974 1 0.35428444935467923 0.31473138570187836\n",
      "0.098529 1 0.3505984403853205 0.3184173946712371\n",
      "0.101737 1 0.34689313581335696 0.32212269924320064\n",
      "0.101957 1 0.34316822993336915 0.32584760512318844\n",
      "0.103402 1 0.33942340786350256 0.32959242719305504\n",
      "0.104085 1 0.335658345128125 0.3333574899284326\n",
      "0.105906 1 0.3318727072147935 0.3371431278417641\n",
      "0.107728 1 0.3280661491035274 0.3409496859530302\n",
      "0.110697 1 0.32423831476618553 0.34477752029037206\n",
      "0.11178 1 0.32038883663353823 0.34862699842301936\n",
      "0.112393 1 0.3165173350273854 0.3524985000291722\n",
      "0.112657 1 0.3126234175548049 0.3563924175017527\n",
      "0.115011 1 0.30870667846132427 0.3603091565952333\n",
      "0.115444 1 0.30476669793947087 0.36424913711708673\n",
      "0.117627 1 0.3008030413887866 0.368212793667771\n",
      "0.118613 1 0.2968152586229722 0.3722005764335854\n",
      "0.120226 1 0.2928028830193529 0.3762129520372047\n",
      "0.122787 1 0.288765430605323 0.3802504044512346\n",
      "0.122877 1 0.2847023990758221 0.3843134359807355\n",
      "0.122932 1 0.2806132667352097 0.3884025683213479\n",
      "0.123445 1 0.27649749135612156 0.39251834370043603\n",
      "0.125487 1 0.2723545089470058 0.3966613261095518\n",
      "0.126042 1 0.2681837324190138 0.4008321026375438\n",
      "0.128873 1 0.263984550141759 0.4050312849147986\n",
      "0.130103 1 0.2597563243761165 0.4092595106804411\n",
      "0.132193 1 0.2554983895706915 0.4135174454858661\n",
      "0.140443 1 0.2512100505068008 0.4178057845497568\n",
      "0.141008 1 0.24689058027474595 0.4221252547818116\n",
      "0.142814 1 0.24253921806175102 0.42647661699480655\n",
      "0.144832 1 0.23815516672913045 0.43086066832742714\n",
      "0.146825 1 0.23373759015296877 0.4352782449035888\n",
      "0.147496 1 0.2292856102987371 0.43973022475782053\n",
      "0.147579 1 0.22479830399570994 0.44421753106084766\n",
      "0.149466 1 0.22027469937165953 0.44874113568489804\n",
      "0.149693 1 0.21571377190188748 0.45330206315467014\n",
      "0.152316 1 0.21111444001899002 0.45790139503756755\n",
      "0.158323 1 0.2064755602205567 0.4625402748360009\n",
      "0.158597 1 0.2017959216009092 0.4672199134556484\n",
      "0.158715 1 0.19707423971954038 0.4719415953370172\n",
      "0.15978 1 0.19230914970251672 0.47670668535404087\n",
      "0.161371 1 0.18749919845300994 0.48151663660354765\n",
      "0.164467 1 0.1826428358223273 0.4863729992342303\n",
      "0.164995 1 0.17773840456201667 0.4912774304945409\n",
      "0.165293 1 0.17278412883912853 0.49623170621742907\n",
      "0.166045 1 0.1677781010482139 0.5012377340083437\n",
      "0.170162 1 0.16271826659206443 0.5062975684644931\n",
      "0.176784 1 0.15760240622434996 0.5114134288322076\n",
      "0.177232 1 0.15242811544540968 0.5165877196111479\n",
      "0.178456 1 0.14719278030947974 0.5218230547470779\n",
      "0.179859 1 0.1418935488262515 0.5271222862303061\n",
      "0.180153 1 0.13652729690564774 0.5324885381509099\n",
      "0.180211 1 0.13109058747856414 0.5379252475779934\n",
      "0.182889 1 0.12557962099334183 0.5434362140632157\n",
      "0.182927 1 0.11999017488577772 0.5490256601707799\n",
      "0.183404 1 0.11431752876970432 0.5546983062868532\n"
     ]
    },
    {
     "name": "stdout",
     "output_type": "stream",
     "text": [
      "0.183439 1 0.10855637087054332 0.5604594641860143\n",
      "0.184544 1 0.10270067942533327 0.5663151556312244\n",
      "0.187523 1 0.09674357006935053 0.5722722649872071\n",
      "0.187915 1 0.09067709606111192 0.5783387389954456\n",
      "0.189092 1 0.0844919815797358 0.5845238534768218\n",
      "0.1899 1 0.07817725746303557 0.590838577593522\n",
      "0.191953 1 0.07171975020499674 0.5972960848515608\n",
      "0.194628 1 0.0651033418746292 0.6039124931819284\n",
      "0.195766 1 0.05830785600411352 0.6107079790524441\n",
      "0.195942 1 0.05130729804695738 0.6177085370096003\n",
      "0.19649 1 0.04406690126514948 0.6249489337914081\n",
      "0.198552 1 0.03653774861510512 0.6324780864414524\n",
      "0.199014 1 0.028645808272405884 0.6403700267841517\n",
      "0.199558 1 0.02026538531977222 0.6487504497367854\n",
      "0.199725 1 0.011131819357589928 0.6578840156989677\n",
      "0.201829 1 0.0 0.6690158350565576\n"
     ]
    }
   ],
   "source": [
    "tree_D1 = decision_tree(D1)"
   ]
  },
  {
   "cell_type": "code",
   "execution_count": 233,
   "metadata": {
    "colab": {
     "base_uri": "https://localhost:8080/"
    },
    "id": "_ooo88F-iLUB",
    "outputId": "9da8af53-6692-4825-8087-16dcdb8bc5a2"
   },
   "outputs": [
    {
     "data": {
      "text/plain": [
       "{'c': 0.201829,\n",
       " 'col': 1,\n",
       " 'best_gain': 0.6578840156989677,\n",
       " 'best_entropy': 0,\n",
       " 'left': {'pred': 0},\n",
       " 'right': {'pred': 1}}"
      ]
     },
     "execution_count": 233,
     "metadata": {},
     "output_type": "execute_result"
    }
   ],
   "source": [
    "tree_D1"
   ]
  },
  {
   "cell_type": "code",
   "execution_count": 234,
   "metadata": {
    "id": "w6_jlGh7lVrp"
   },
   "outputs": [],
   "source": [
    "D2 = pd.read_csv('data/D2.txt', sep = ' ', header = None)"
   ]
  },
  {
   "cell_type": "code",
   "execution_count": 235,
   "metadata": {
    "colab": {
     "base_uri": "https://localhost:8080/"
    },
    "id": "bq_tCy4plRIe",
    "outputId": "b21e3acf-c4bb-403f-efb6-85fc97f0952f"
   },
   "outputs": [],
   "source": [
    "tree_D2 = decision_tree(D2)"
   ]
  },
  {
   "cell_type": "code",
   "execution_count": 63,
   "metadata": {},
   "outputs": [],
   "source": [
    "import pickle"
   ]
  },
  {
   "cell_type": "code",
   "execution_count": 236,
   "metadata": {
    "colab": {
     "base_uri": "https://localhost:8080/"
    },
    "id": "5H37YwT9lbMu",
    "outputId": "9a9c99e1-a923-4301-eed9-6c58f6a36741"
   },
   "outputs": [
    {
     "data": {
      "text/plain": [
       "{'c': 0.533076,\n",
       " 'col': 0,\n",
       " 'best_gain': 0.22357293600240136,\n",
       " 'best_entropy': 1,\n",
       " 'left': {'c': 0.639018,\n",
       "  'col': 1,\n",
       "  'best_gain': 0.34999649471050315,\n",
       "  'best_entropy': 1,\n",
       "  'left': {'c': 0.534979,\n",
       "   'col': 1,\n",
       "   'best_gain': 0.0757438417334903,\n",
       "   'best_entropy': 1,\n",
       "   'left': {'c': 0.002848,\n",
       "    'col': 0,\n",
       "    'best_gain': -1000,\n",
       "    'best_entropy': 0,\n",
       "    'left': {'pred': 0},\n",
       "    'right': {'pred': 0}},\n",
       "   'right': {'c': 0.409972,\n",
       "    'col': 0,\n",
       "    'best_gain': 0.5694479740460766,\n",
       "    'best_entropy': 1,\n",
       "    'left': {'c': 0.030679,\n",
       "     'col': 0,\n",
       "     'best_gain': -1000,\n",
       "     'best_entropy': 0,\n",
       "     'left': {'pred': 0},\n",
       "     'right': {'pred': 0}},\n",
       "    'right': {'c': 0.426073,\n",
       "     'col': 0,\n",
       "     'best_gain': 0.2576788051033316,\n",
       "     'best_entropy': 1,\n",
       "     'left': {'c': 0.417579,\n",
       "      'col': 0,\n",
       "      'best_gain': -1000,\n",
       "      'best_entropy': 0,\n",
       "      'left': {'pred': 1},\n",
       "      'right': {'pred': 0}},\n",
       "     'right': {'c': 0.446889,\n",
       "      'col': 0,\n",
       "      'best_gain': -1000,\n",
       "      'best_entropy': 0,\n",
       "      'left': {'pred': 1},\n",
       "      'right': {'pred': 1}}}}},\n",
       "  'right': {'c': 0.111076,\n",
       "   'col': 0,\n",
       "   'best_gain': 0.2755449824041122,\n",
       "   'best_entropy': 1,\n",
       "   'left': {'c': 0.964767,\n",
       "    'col': 1,\n",
       "    'best_gain': 0.4460610799523433,\n",
       "    'best_entropy': 0,\n",
       "    'left': {'pred': 0},\n",
       "    'right': {'pred': 1}},\n",
       "   'right': {'c': 0.861,\n",
       "    'col': 1,\n",
       "    'best_gain': 0.19938026829205352,\n",
       "    'best_entropy': 1,\n",
       "    'left': {'c': 0.33046,\n",
       "     'col': 0,\n",
       "     'best_gain': 0.4277709381256626,\n",
       "     'best_entropy': 1,\n",
       "     'left': {'c': 0.745406,\n",
       "      'col': 1,\n",
       "      'best_gain': 0.3212981208250194,\n",
       "      'best_entropy': 1,\n",
       "      'left': {'c': 0.186339,\n",
       "       'col': 0,\n",
       "       'best_gain': -1000,\n",
       "       'best_entropy': 0,\n",
       "       'left': {'pred': 0},\n",
       "       'right': {'pred': 0}},\n",
       "      'right': {'c': 0.254049,\n",
       "       'col': 0,\n",
       "       'best_gain': 0.5471904269481032,\n",
       "       'best_entropy': 1,\n",
       "       'left': {'c': 0.191915,\n",
       "        'col': 0,\n",
       "        'best_gain': 0.3178113757536236,\n",
       "        'best_entropy': 1,\n",
       "        'left': {'c': 0.147915,\n",
       "         'col': 0,\n",
       "         'best_gain': -1000,\n",
       "         'best_entropy': 0,\n",
       "         'left': {'pred': 0},\n",
       "         'right': {'pred': 0}},\n",
       "        'right': {'c': 0.792752,\n",
       "         'col': 1,\n",
       "         'best_gain': 0.4591479170272448,\n",
       "         'best_entropy': 0,\n",
       "         'left': {'pred': 0},\n",
       "         'right': {'pred': 1}}},\n",
       "       'right': {'c': 0.270046,\n",
       "        'col': 0,\n",
       "        'best_gain': -1000,\n",
       "        'best_entropy': 0,\n",
       "        'left': {'pred': 1},\n",
       "        'right': {'pred': 1}}}},\n",
       "     'right': {'c': 0.340793,\n",
       "      'col': 0,\n",
       "      'best_gain': -1000,\n",
       "      'best_entropy': 0,\n",
       "      'left': {'pred': 1},\n",
       "      'right': {'pred': 1}}},\n",
       "    'right': {'c': 0.118056,\n",
       "     'col': 0,\n",
       "     'best_gain': -1000,\n",
       "     'best_entropy': 0,\n",
       "     'left': {'pred': 1},\n",
       "     'right': {'pred': 1}}}}},\n",
       " 'right': {'c': 0.383738,\n",
       "  'col': 1,\n",
       "  'best_gain': 0.35833190797692255,\n",
       "  'best_entropy': 1,\n",
       "  'left': {'c': 0.761423,\n",
       "   'col': 0,\n",
       "   'best_gain': 0.3192484516444669,\n",
       "   'best_entropy': 1,\n",
       "   'left': {'c': 0.301105,\n",
       "    'col': 1,\n",
       "    'best_gain': 0.2689955935892812,\n",
       "    'best_entropy': 1,\n",
       "    'left': {'c': 0.541216,\n",
       "     'col': 0,\n",
       "     'best_gain': -1000,\n",
       "     'best_entropy': 0,\n",
       "     'left': {'pred': 0},\n",
       "     'right': {'pred': 0}},\n",
       "    'right': {'c': 0.66337,\n",
       "     'col': 0,\n",
       "     'best_gain': 0.7394468924503993,\n",
       "     'best_entropy': 0,\n",
       "     'left': {'pred': 0},\n",
       "     'right': {'pred': 1}}},\n",
       "   'right': {'c': 0.191206,\n",
       "    'col': 1,\n",
       "    'best_gain': 0.35601142235001465,\n",
       "    'best_entropy': 1,\n",
       "    'left': {'c': 0.90482,\n",
       "     'col': 0,\n",
       "     'best_gain': 0.40624428894524356,\n",
       "     'best_entropy': 1,\n",
       "     'left': {'c': 0.169053,\n",
       "      'col': 1,\n",
       "      'best_gain': 0.3064509395127767,\n",
       "      'best_entropy': 1,\n",
       "      'left': {'c': 0.768663,\n",
       "       'col': 0,\n",
       "       'best_gain': -1000,\n",
       "       'best_entropy': 0,\n",
       "       'left': {'pred': 0},\n",
       "       'right': {'pred': 0}},\n",
       "      'right': {'c': 0.850316,\n",
       "       'col': 0,\n",
       "       'best_gain': -1000,\n",
       "       'best_entropy': 0,\n",
       "       'left': {'pred': 0},\n",
       "       'right': {'pred': 1}}},\n",
       "     'right': {'c': 0.037708,\n",
       "      'col': 1,\n",
       "      'best_gain': 0.49962073521348704,\n",
       "      'best_entropy': 1,\n",
       "      'left': {'c': 0.941524,\n",
       "       'col': 0,\n",
       "       'best_gain': -1000,\n",
       "       'best_entropy': 0,\n",
       "       'left': {'pred': 0},\n",
       "       'right': {'pred': 0}},\n",
       "      'right': {'c': 0.930371,\n",
       "       'col': 0,\n",
       "       'best_gain': 0.14865258200778284,\n",
       "       'best_entropy': 1,\n",
       "       'left': {'c': 0.927522,\n",
       "        'col': 0,\n",
       "        'best_gain': 0.2516291673878229,\n",
       "        'best_entropy': 0,\n",
       "        'left': {'pred': 1},\n",
       "        'right': {'pred': 0}},\n",
       "       'right': {'c': 0.933425,\n",
       "        'col': 0,\n",
       "        'best_gain': -1000,\n",
       "        'best_entropy': 0,\n",
       "        'left': {'pred': 1},\n",
       "        'right': {'pred': 1}}}}},\n",
       "    'right': {'c': 0.762561,\n",
       "     'col': 0,\n",
       "     'best_gain': -1000,\n",
       "     'best_entropy': 0,\n",
       "     'left': {'pred': 1},\n",
       "     'right': {'pred': 1}}}},\n",
       "  'right': {'c': 0.550364,\n",
       "   'col': 0,\n",
       "   'best_gain': 0.029045593760420537,\n",
       "   'best_entropy': 1,\n",
       "   'left': {'c': 0.474971,\n",
       "    'col': 1,\n",
       "    'best_gain': 0.21229006661701388,\n",
       "    'best_entropy': 0,\n",
       "    'left': {'pred': 0},\n",
       "    'right': {'pred': 1}},\n",
       "   'right': {'c': 0.551028,\n",
       "    'col': 0,\n",
       "    'best_gain': -1000,\n",
       "    'best_entropy': 0,\n",
       "    'left': {'pred': 1},\n",
       "    'right': {'pred': 1}}}}}"
      ]
     },
     "execution_count": 236,
     "metadata": {},
     "output_type": "execute_result"
    }
   ],
   "source": [
    "tree_D2"
   ]
  },
  {
   "cell_type": "code",
   "execution_count": 82,
   "metadata": {
    "id": "IIpgLdmclkUu"
   },
   "outputs": [],
   "source": [
    "pickle.dump(tree_D2, open('tree_D2.pkl', 'wb'))"
   ]
  },
  {
   "cell_type": "markdown",
   "metadata": {
    "id": "LPTnO8xtlody"
   },
   "source": [
    "## 2.6 Hypothesis space"
   ]
  },
  {
   "cell_type": "code",
   "execution_count": null,
   "metadata": {},
   "outputs": [],
   "source": [
    "2_6preds = "
   ]
  },
  {
   "cell_type": "code",
   "execution_count": 85,
   "metadata": {
    "colab": {
     "base_uri": "https://localhost:8080/",
     "height": 296
    },
    "id": "pWmj7SUvlrZx",
    "outputId": "16c110eb-3311-492e-9ccb-413dcacc02a1"
   },
   "outputs": [
    {
     "data": {
      "text/plain": [
       "<matplotlib.legend.Legend at 0x7f945de19510>"
      ]
     },
     "execution_count": 85,
     "metadata": {},
     "output_type": "execute_result"
    },
    {
     "data": {
      "image/png": "[encoded data removed]",
      "text/plain": [
       "<Figure size 432x288 with 1 Axes>"
      ]
     },
     "metadata": {
      "needs_background": "light"
     },
     "output_type": "display_data"
    }
   ],
   "source": [
    "arr1 = plt.scatter(D1[D1[2]==0][0], D1[D1[2]==0][1])\n",
    "arr2 = plt.scatter(D1[D1[2]==1][0], D1[D1[2]==1][1])\n",
    "plt.xlabel('feature 0')\n",
    "plt.ylabel('feature 1')\n",
    "plt.legend([arr1, arr2], [0,1], loc=(1.04,0))"
   ]
  },
  {
   "cell_type": "code",
   "execution_count": 86,
   "metadata": {
    "colab": {
     "base_uri": "https://localhost:8080/",
     "height": 296
    },
    "id": "zm-B90rsmA-D",
    "outputId": "eb7d941c-afd2-4001-82be-a6c8315b1697"
   },
   "outputs": [
    {
     "data": {
      "text/plain": [
       "<matplotlib.legend.Legend at 0x7f945dc8c190>"
      ]
     },
     "execution_count": 86,
     "metadata": {},
     "output_type": "execute_result"
    },
    {
     "data": {
      "image/png": "[encoded data removed]",
      "text/plain": [
       "<Figure size 432x288 with 1 Axes>"
      ]
     },
     "metadata": {
      "needs_background": "light"
     },
     "output_type": "display_data"
    }
   ],
   "source": [
    "arr1 = plt.scatter(D2[D2[2]==0][0], D2[D2[2]==0][1])\n",
    "arr2 = plt.scatter(D2[D2[2]==1][0], D2[D2[2]==1][1])\n",
    "plt.xlabel('feature 0')\n",
    "plt.ylabel('feature 1')\n",
    "plt.legend([arr1, arr2], [0,1], loc=(1.04,0))\n"
   ]
  },
  {
   "cell_type": "markdown",
   "metadata": {
    "id": "Qsc5XvG8acYz"
   },
   "source": [
    "##2.7 Learning curve"
   ]
  },
  {
   "cell_type": "code",
   "execution_count": 106,
   "metadata": {
    "id": "kFInFQxjaesN"
   },
   "outputs": [],
   "source": [
    "Dbig = pd.read_csv('data/Dbig.txt', header = None, sep=\" \")"
   ]
  },
  {
   "cell_type": "code",
   "execution_count": 107,
   "metadata": {
    "id": "gaIuZH5faijR"
   },
   "outputs": [],
   "source": [
    "Dbig_shuffled = Dbig.sample(frac=1, random_state=42).reset_index().drop(['index'], axis = 1)"
   ]
  },
  {
   "cell_type": "code",
   "execution_count": 108,
   "metadata": {
    "id": "zR-OLADTailn"
   },
   "outputs": [],
   "source": [
    "Dbig_train = Dbig_shuffled[:8192]\n",
    "Dbig_test = Dbig_shuffled[8192:]"
   ]
  },
  {
   "cell_type": "code",
   "execution_count": 112,
   "metadata": {
    "id": "-TjX5BXbbMVK"
   },
   "outputs": [],
   "source": [
    "sizes = [32, 128, 512, 2048, 8192]\n",
    "D_sizes = []\n",
    "for s in sizes:\n",
    "    df_size = Dbig_train[:s]\n",
    "    D_sizes.append(df_size)"
   ]
  },
  {
   "cell_type": "code",
   "execution_count": 113,
   "metadata": {
    "colab": {
     "base_uri": "https://localhost:8080/"
    },
    "id": "EDG3X1N7a2do",
    "outputId": "51fa5a78-c253-4441-8cd1-d4424f9372f9"
   },
   "outputs": [
    {
     "data": {
      "text/plain": [
       "8192"
      ]
     },
     "execution_count": 113,
     "metadata": {},
     "output_type": "execute_result"
    }
   ],
   "source": [
    "len(Dbig_train)"
   ]
  },
  {
   "cell_type": "code",
   "execution_count": 114,
   "metadata": {
    "colab": {
     "base_uri": "https://localhost:8080/"
    },
    "id": "s2SwgG_Knjbr",
    "outputId": "4d675843-b4d4-4f53-895e-6ee872ad94a2"
   },
   "outputs": [
    {
     "data": {
      "text/plain": [
       "pandas.core.frame.DataFrame"
      ]
     },
     "execution_count": 114,
     "metadata": {},
     "output_type": "execute_result"
    }
   ],
   "source": [
    "type(D_sizes[0])"
   ]
  },
  {
   "cell_type": "code",
   "execution_count": 237,
   "metadata": {
    "colab": {
     "base_uri": "https://localhost:8080/"
    },
    "id": "gi-QEHTJa2fx",
    "outputId": "854fde0a-970a-4096-e3f8-e620aa5a483d"
   },
   "outputs": [
    {
     "data": {
      "application/vnd.jupyter.widget-view+json": {
       "model_id": "d9d6d2928200447d8222eb82a47a9375",
       "version_major": 2,
       "version_minor": 0
      },
      "text/plain": [
       "  0%|          | 0/5 [00:00<?, ?it/s]"
      ]
     },
     "metadata": {},
     "output_type": "display_data"
    }
   ],
   "source": [
    "trees = []\n",
    "for D in tqdm(D_sizes):\n",
    "    trees.append(decision_tree(D))"
   ]
  },
  {
   "cell_type": "code",
   "execution_count": 238,
   "metadata": {},
   "outputs": [],
   "source": [
    "pickle.dump(trees, open('trees_bigv2.pkl', 'wb'))"
   ]
  },
  {
   "cell_type": "code",
   "execution_count": 154,
   "metadata": {},
   "outputs": [],
   "source": [
    "def num_elements(x):\n",
    "    if isinstance(x, dict):\n",
    "        return sum([num_elements(_x) for _x in x.values()])\n",
    "    else: return None"
   ]
  },
  {
   "cell_type": "code",
   "execution_count": 250,
   "metadata": {},
   "outputs": [
    {
     "data": {
      "text/plain": [
       "{'c': -0.366728,\n",
       " 'col': 1,\n",
       " 'best_gain': 0.21059247315589413,\n",
       " 'best_entropy': 1,\n",
       " 'left': {'c': -0.956772,\n",
       "  'col': 0,\n",
       "  'best_gain': -1000,\n",
       "  'best_entropy': 0,\n",
       "  'left': {'pred': 1},\n",
       "  'right': {'pred': 1}},\n",
       " 'right': {'c': 1.123617,\n",
       "  'col': 1,\n",
       "  'best_gain': 0.3063165949447213,\n",
       "  'best_entropy': 1,\n",
       "  'left': {'c': 1.152086,\n",
       "   'col': 0,\n",
       "   'best_gain': 0.4630221741820373,\n",
       "   'best_entropy': 1,\n",
       "   'left': {'c': -0.803224,\n",
       "    'col': 0,\n",
       "    'best_gain': 0.2373974097831018,\n",
       "    'best_entropy': 0,\n",
       "    'left': {'pred': 1},\n",
       "    'right': {'pred': 0}},\n",
       "   'right': {'c': 1.350004,\n",
       "    'col': 0,\n",
       "    'best_gain': -1000,\n",
       "    'best_entropy': 0,\n",
       "    'left': {'pred': 1},\n",
       "    'right': {'pred': 1}}},\n",
       "  'right': {'c': -0.110102,\n",
       "   'col': 0,\n",
       "   'best_gain': -1000,\n",
       "   'best_entropy': 0,\n",
       "   'left': {'pred': 1},\n",
       "   'right': {'pred': 1}}}}"
      ]
     },
     "execution_count": 250,
     "metadata": {},
     "output_type": "execute_result"
    }
   ],
   "source": [
    "trees[0]"
   ]
  },
  {
   "cell_type": "code",
   "execution_count": 251,
   "metadata": {},
   "outputs": [
    {
     "data": {
      "text/plain": [
       "{'c': -0.477942,\n",
       " 'col': 1,\n",
       " 'best_gain': 0.26300621727816265,\n",
       " 'best_entropy': 1,\n",
       " 'left': {'c': -0.89981,\n",
       "  'col': 1,\n",
       "  'best_gain': 0.044515876405580135,\n",
       "  'best_entropy': 1,\n",
       "  'left': {'c': -1.195601,\n",
       "   'col': 0,\n",
       "   'best_gain': -1000,\n",
       "   'best_entropy': 0,\n",
       "   'left': {'pred': 1},\n",
       "   'right': {'pred': 1}},\n",
       "  'right': {'c': -0.834281,\n",
       "   'col': 1,\n",
       "   'best_gain': 0.11301347743389945,\n",
       "   'best_entropy': 0,\n",
       "   'left': {'pred': 0},\n",
       "   'right': {'pred': 1}}},\n",
       " 'right': {'c': -1.095619,\n",
       "  'col': 0,\n",
       "  'best_gain': 0.22558148488452057,\n",
       "  'best_entropy': 1,\n",
       "  'left': {'c': -1.487123,\n",
       "   'col': 0,\n",
       "   'best_gain': -1000,\n",
       "   'best_entropy': 0,\n",
       "   'left': {'pred': 1},\n",
       "   'right': {'pred': 1}},\n",
       "  'right': {'c': 1.123617,\n",
       "   'col': 1,\n",
       "   'best_gain': 0.31272109703107,\n",
       "   'best_entropy': 1,\n",
       "   'left': {'c': 1.152086,\n",
       "    'col': 0,\n",
       "    'best_gain': 0.4013397944512779,\n",
       "    'best_entropy': 1,\n",
       "    'left': {'c': -0.383536,\n",
       "     'col': 1,\n",
       "     'best_gain': 0.1775217087282786,\n",
       "     'best_entropy': 1,\n",
       "     'left': {'c': -0.459589,\n",
       "      'col': 1,\n",
       "      'best_gain': 0.2516291673878229,\n",
       "      'best_entropy': 0,\n",
       "      'left': {'pred': 0},\n",
       "      'right': {'pred': 1}},\n",
       "     'right': {'c': -0.949101,\n",
       "      'col': 0,\n",
       "      'best_gain': -1000,\n",
       "      'best_entropy': 0,\n",
       "      'left': {'pred': 0},\n",
       "      'right': {'pred': 0}}},\n",
       "    'right': {'c': 1.21574,\n",
       "     'col': 0,\n",
       "     'best_gain': -1000,\n",
       "     'best_entropy': 0,\n",
       "     'left': {'pred': 1},\n",
       "     'right': {'pred': 1}}},\n",
       "   'right': {'c': 1.200518,\n",
       "    'col': 1,\n",
       "    'best_gain': 0.1394385767954091,\n",
       "    'best_entropy': 1,\n",
       "    'left': {'c': 0.948304,\n",
       "     'col': 0,\n",
       "     'best_gain': -1000,\n",
       "     'best_entropy': 0,\n",
       "     'left': {'pred': 0},\n",
       "     'right': {'pred': 1}},\n",
       "    'right': {'c': -0.362373,\n",
       "     'col': 0,\n",
       "     'best_gain': -1000,\n",
       "     'best_entropy': 0,\n",
       "     'left': {'pred': 1},\n",
       "     'right': {'pred': 1}}}}}}"
      ]
     },
     "execution_count": 251,
     "metadata": {},
     "output_type": "execute_result"
    }
   ],
   "source": [
    "trees[1]"
   ]
  },
  {
   "cell_type": "code",
   "execution_count": 252,
   "metadata": {},
   "outputs": [
    {
     "data": {
      "text/plain": [
       "{'c': -0.70793,\n",
       " 'col': 1,\n",
       " 'best_gain': 0.22553998686596355,\n",
       " 'best_entropy': 1,\n",
       " 'left': {'c': -0.89981,\n",
       "  'col': 1,\n",
       "  'best_gain': 0.053350913568971634,\n",
       "  'best_entropy': 1,\n",
       "  'left': {'c': -1.473025,\n",
       "   'col': 0,\n",
       "   'best_gain': -1000,\n",
       "   'best_entropy': 0,\n",
       "   'left': {'pred': 1},\n",
       "   'right': {'pred': 1}},\n",
       "  'right': {'c': 0.199614,\n",
       "   'col': 0,\n",
       "   'best_gain': 0.10685177037965676,\n",
       "   'best_entropy': 1,\n",
       "   'left': {'c': -0.043642,\n",
       "    'col': 0,\n",
       "    'best_gain': 0.5414460711655218,\n",
       "    'best_entropy': 0,\n",
       "    'left': {'pred': 1},\n",
       "    'right': {'pred': 0}},\n",
       "   'right': {'c': 0.264907,\n",
       "    'col': 0,\n",
       "    'best_gain': -1000,\n",
       "    'best_entropy': 0,\n",
       "    'left': {'pred': 1},\n",
       "    'right': {'pred': 1}}}},\n",
       " 'right': {'c': -1.095619,\n",
       "  'col': 0,\n",
       "  'best_gain': 0.21826357908365046,\n",
       "  'best_entropy': 1,\n",
       "  'left': {'c': -1.490493,\n",
       "   'col': 0,\n",
       "   'best_gain': -1000,\n",
       "   'best_entropy': 0,\n",
       "   'left': {'pred': 1},\n",
       "   'right': {'pred': 1}},\n",
       "  'right': {'c': 0.895582,\n",
       "   'col': 0,\n",
       "   'best_gain': 0.21194775543949496,\n",
       "   'best_entropy': 1,\n",
       "   'left': {'c': 1.196341,\n",
       "    'col': 1,\n",
       "    'best_gain': 0.296683268771741,\n",
       "    'best_entropy': 1,\n",
       "    'left': {'c': -0.4111,\n",
       "     'col': 1,\n",
       "     'best_gain': 0.15295150004564495,\n",
       "     'best_entropy': 1,\n",
       "     'left': {'c': -0.601329,\n",
       "      'col': 0,\n",
       "      'best_gain': 0.41612305239993896,\n",
       "      'best_entropy': 1,\n",
       "      'left': {'c': -0.971703,\n",
       "       'col': 0,\n",
       "       'best_gain': -1000,\n",
       "       'best_entropy': 0,\n",
       "       'left': {'pred': 1},\n",
       "       'right': {'pred': 1}},\n",
       "      'right': {'c': 0.659305,\n",
       "       'col': 0,\n",
       "       'best_gain': 0.5856755948068322,\n",
       "       'best_entropy': 1,\n",
       "       'left': {'c': -0.331974,\n",
       "        'col': 0,\n",
       "        'best_gain': 0.24715018363696709,\n",
       "        'best_entropy': 1,\n",
       "        'left': {'c': -0.445479,\n",
       "         'col': 0,\n",
       "         'best_gain': -1000,\n",
       "         'best_entropy': 0,\n",
       "         'left': {'pred': 0},\n",
       "         'right': {'pred': 1}},\n",
       "        'right': {'c': -0.328034,\n",
       "         'col': 0,\n",
       "         'best_gain': -1000,\n",
       "         'best_entropy': 0,\n",
       "         'left': {'pred': 0},\n",
       "         'right': {'pred': 0}}},\n",
       "       'right': {'c': 0.674853,\n",
       "        'col': 0,\n",
       "        'best_gain': -1000,\n",
       "        'best_entropy': 0,\n",
       "        'left': {'pred': 1},\n",
       "        'right': {'pred': 1}}}},\n",
       "     'right': {'c': -0.868695,\n",
       "      'col': 0,\n",
       "      'best_gain': 0.05828986688961399,\n",
       "      'best_entropy': 1,\n",
       "      'left': {'c': 0.080169,\n",
       "       'col': 1,\n",
       "       'best_gain': 0.31168988698645606,\n",
       "       'best_entropy': 1,\n",
       "       'left': {'c': -0.940612,\n",
       "        'col': 0,\n",
       "        'best_gain': -1000,\n",
       "        'best_entropy': 0,\n",
       "        'left': {'pred': 1},\n",
       "        'right': {'pred': 1}},\n",
       "       'right': {'c': 1.089807,\n",
       "        'col': 1,\n",
       "        'best_gain': 0.43359411726054453,\n",
       "        'best_entropy': 0,\n",
       "        'left': {'pred': 0},\n",
       "        'right': {'pred': 1}}},\n",
       "      'right': {'c': -0.325519,\n",
       "       'col': 1,\n",
       "       'best_gain': 0.012208483824744626,\n",
       "       'best_entropy': 1,\n",
       "       'left': {'c': 0.784686,\n",
       "        'col': 0,\n",
       "        'best_gain': 0.2576788051033316,\n",
       "        'best_entropy': 0,\n",
       "        'left': {'pred': 0},\n",
       "        'right': {'pred': 1}},\n",
       "       'right': {'c': 1.065078,\n",
       "        'col': 1,\n",
       "        'best_gain': 0.02326566296697142,\n",
       "        'best_entropy': 1,\n",
       "        'left': {'c': -0.868307,\n",
       "         'col': 0,\n",
       "         'best_gain': -1000,\n",
       "         'best_entropy': 0,\n",
       "         'left': {'pred': 0},\n",
       "         'right': {'pred': 0}},\n",
       "        'right': {'c': 1.066743,\n",
       "         'col': 1,\n",
       "         'best_gain': 0.14339080881725613,\n",
       "         'best_entropy': 0,\n",
       "         'left': {'pred': 1},\n",
       "         'right': {'pred': 0}}}}}},\n",
       "    'right': {'c': 1.246453,\n",
       "     'col': 1,\n",
       "     'best_gain': 0.10449650149138423,\n",
       "     'best_entropy': 1,\n",
       "     'left': {'c': 1.210913,\n",
       "      'col': 1,\n",
       "      'best_gain': 0.31127812445913283,\n",
       "      'best_entropy': 0,\n",
       "      'left': {'pred': 1},\n",
       "      'right': {'pred': 0}},\n",
       "     'right': {'c': -0.555994,\n",
       "      'col': 0,\n",
       "      'best_gain': -1000,\n",
       "      'best_entropy': 0,\n",
       "      'left': {'pred': 1},\n",
       "      'right': {'pred': 1}}}},\n",
       "   'right': {'c': 1.136321,\n",
       "    'col': 0,\n",
       "    'best_gain': 0.17491615339790334,\n",
       "    'best_entropy': 1,\n",
       "    'left': {'c': 0.950202,\n",
       "     'col': 1,\n",
       "     'best_gain': 0.2710382325345575,\n",
       "     'best_entropy': 1,\n",
       "     'left': {'c': 0.203168,\n",
       "      'col': 1,\n",
       "      'best_gain': 0.7582766571931676,\n",
       "      'best_entropy': 0,\n",
       "      'left': {'pred': 1},\n",
       "      'right': {'pred': 0}},\n",
       "     'right': {'c': 0.911381,\n",
       "      'col': 0,\n",
       "      'best_gain': -1000,\n",
       "      'best_entropy': 0,\n",
       "      'left': {'pred': 1},\n",
       "      'right': {'pred': 1}}},\n",
       "    'right': {'c': 1.144056,\n",
       "     'col': 0,\n",
       "     'best_gain': -1000,\n",
       "     'best_entropy': 0,\n",
       "     'left': {'pred': 1},\n",
       "     'right': {'pred': 1}}}}}}"
      ]
     },
     "execution_count": 252,
     "metadata": {},
     "output_type": "execute_result"
    }
   ],
   "source": [
    "trees[2]"
   ]
  },
  {
   "cell_type": "code",
   "execution_count": 253,
   "metadata": {},
   "outputs": [
    {
     "data": {
      "text/plain": [
       "{'c': -0.710047,\n",
       " 'col': 1,\n",
       " 'best_gain': 0.19652934340931905,\n",
       " 'best_entropy': 1,\n",
       " 'left': {'c': -0.925942,\n",
       "  'col': 1,\n",
       "  'best_gain': 0.05078711000836372,\n",
       "  'best_entropy': 1,\n",
       "  'left': {'c': -1.493254,\n",
       "   'col': 0,\n",
       "   'best_gain': -1000,\n",
       "   'best_entropy': 0,\n",
       "   'left': {'pred': 1},\n",
       "   'right': {'pred': 1}},\n",
       "  'right': {'c': -0.208334,\n",
       "   'col': 0,\n",
       "   'best_gain': 0.09071941541887635,\n",
       "   'best_entropy': 1,\n",
       "   'left': {'c': -1.491724,\n",
       "    'col': 0,\n",
       "    'best_gain': -1000,\n",
       "    'best_entropy': 0,\n",
       "    'left': {'pred': 1},\n",
       "    'right': {'pred': 1}},\n",
       "   'right': {'c': 0.355629,\n",
       "    'col': 0,\n",
       "    'best_gain': 0.40280756919094185,\n",
       "    'best_entropy': 1,\n",
       "    'left': {'c': 0.183454,\n",
       "     'col': 0,\n",
       "     'best_gain': 0.2198664546884902,\n",
       "     'best_entropy': 1,\n",
       "     'left': {'c': -0.090903,\n",
       "      'col': 0,\n",
       "      'best_gain': 0.3212122601251458,\n",
       "      'best_entropy': 1,\n",
       "      'left': {'c': -0.855832,\n",
       "       'col': 1,\n",
       "       'best_gain': 0.4591479170272448,\n",
       "       'best_entropy': 0,\n",
       "       'left': {'pred': 1},\n",
       "       'right': {'pred': 0}},\n",
       "      'right': {'c': -0.066649,\n",
       "       'col': 0,\n",
       "       'best_gain': -1000,\n",
       "       'best_entropy': 0,\n",
       "       'left': {'pred': 0},\n",
       "       'right': {'pred': 0}}},\n",
       "     'right': {'c': -0.810372,\n",
       "      'col': 1,\n",
       "      'best_gain': 0.46691718668869925,\n",
       "      'best_entropy': 1,\n",
       "      'left': {'c': 0.199614,\n",
       "       'col': 0,\n",
       "       'best_gain': -1000,\n",
       "       'best_entropy': 0,\n",
       "       'left': {'pred': 1},\n",
       "       'right': {'pred': 1}},\n",
       "      'right': {'c': 0.264907,\n",
       "       'col': 0,\n",
       "       'best_gain': 0.2516291673878229,\n",
       "       'best_entropy': 1,\n",
       "       'left': {'pred': 0}}}},\n",
       "    'right': {'c': 0.36517,\n",
       "     'col': 0,\n",
       "     'best_gain': -1000,\n",
       "     'best_entropy': 0,\n",
       "     'left': {'pred': 1},\n",
       "     'right': {'pred': 1}}}}},\n",
       " 'right': {'c': 1.233068,\n",
       "  'col': 1,\n",
       "  'best_gain': 0.16549692754991396,\n",
       "  'best_entropy': 1,\n",
       "  'left': {'c': -1.102858,\n",
       "   'col': 0,\n",
       "   'best_gain': 0.21378727471761083,\n",
       "   'best_entropy': 1,\n",
       "   'left': {'c': -1.128462,\n",
       "    'col': 0,\n",
       "    'best_gain': 0.023645349063632966,\n",
       "    'best_entropy': 1,\n",
       "    'left': {'c': -1.497497,\n",
       "     'col': 0,\n",
       "     'best_gain': -1000,\n",
       "     'best_entropy': 0,\n",
       "     'left': {'pred': 1},\n",
       "     'right': {'pred': 1}},\n",
       "    'right': {'c': -1.124295,\n",
       "     'col': 0,\n",
       "     'best_gain': -1000,\n",
       "     'best_entropy': 0,\n",
       "     'left': {'pred': 0},\n",
       "     'right': {'pred': 1}}},\n",
       "   'right': {'c': 1.136212,\n",
       "    'col': 0,\n",
       "    'best_gain': 0.2720462800495381,\n",
       "    'best_entropy': 1,\n",
       "    'left': {'c': -0.27973,\n",
       "     'col': 1,\n",
       "     'best_gain': 0.10107974333363168,\n",
       "     'best_entropy': 1,\n",
       "     'left': {'c': 0.707386,\n",
       "      'col': 0,\n",
       "      'best_gain': 0.2930206217741258,\n",
       "      'best_entropy': 1,\n",
       "      'left': {'c': -0.741499,\n",
       "       'col': 0,\n",
       "       'best_gain': 0.42407239614665276,\n",
       "       'best_entropy': 1,\n",
       "       'left': {'c': -1.094965,\n",
       "        'col': 0,\n",
       "        'best_gain': -1000,\n",
       "        'best_entropy': 0,\n",
       "        'left': {'pred': 1},\n",
       "        'right': {'pred': 1}},\n",
       "       'right': {'c': -0.445379,\n",
       "        'col': 1,\n",
       "        'best_gain': 0.12661757035597032,\n",
       "        'best_entropy': 1,\n",
       "        'left': {'c': -0.522247,\n",
       "         'col': 0,\n",
       "         'best_gain': 0.2561664212562912,\n",
       "         'best_entropy': 1,\n",
       "         'left': {'c': -0.484914,\n",
       "          'col': 1,\n",
       "          'best_gain': 0.5055872616982602,\n",
       "          'best_entropy': 1,\n",
       "          'left': {'c': -0.694946,\n",
       "           'col': 0,\n",
       "           'best_gain': -1000,\n",
       "           'best_entropy': 0,\n",
       "           'left': {'pred': 1},\n",
       "           'right': {'pred': 1}},\n",
       "          'right': {'c': -0.648421,\n",
       "           'col': 0,\n",
       "           'best_gain': -1000,\n",
       "           'best_entropy': 0,\n",
       "           'left': {'pred': 1},\n",
       "           'right': {'pred': 0}}},\n",
       "         'right': {'c': 0.447361,\n",
       "          'col': 0,\n",
       "          'best_gain': 0.2617333214889279,\n",
       "          'best_entropy': 1,\n",
       "          'left': {'c': -0.418624,\n",
       "           'col': 0,\n",
       "           'best_gain': 0.08412087308898178,\n",
       "           'best_entropy': 1,\n",
       "           'left': {'c': -0.445479,\n",
       "            'col': 0,\n",
       "            'best_gain': 0.2516291673878229,\n",
       "            'best_entropy': 0,\n",
       "            'left': {'pred': 0},\n",
       "            'right': {'pred': 1}},\n",
       "           'right': {'c': -0.414494,\n",
       "            'col': 0,\n",
       "            'best_gain': -1000,\n",
       "            'best_entropy': 0,\n",
       "            'left': {'pred': 0},\n",
       "            'right': {'pred': 0}}},\n",
       "          'right': {'c': -0.547072,\n",
       "           'col': 1,\n",
       "           'best_gain': 0.5577277787393194,\n",
       "           'best_entropy': 1,\n",
       "           'left': {'c': 0.524621,\n",
       "            'col': 0,\n",
       "            'best_gain': -1000,\n",
       "            'best_entropy': 0,\n",
       "            'left': {'pred': 1},\n",
       "            'right': {'pred': 1}},\n",
       "           'right': {'c': 0.674853,\n",
       "            'col': 0,\n",
       "            'best_gain': 0.31127812445913283,\n",
       "            'best_entropy': 0,\n",
       "            'left': {'pred': 0},\n",
       "            'right': {'pred': 1}}}}},\n",
       "        'right': {'c': -0.739749,\n",
       "         'col': 0,\n",
       "         'best_gain': -1000,\n",
       "         'best_entropy': 0,\n",
       "         'left': {'pred': 0},\n",
       "         'right': {'pred': 0}}}},\n",
       "      'right': {'c': 0.723633,\n",
       "       'col': 0,\n",
       "       'best_gain': -1000,\n",
       "       'best_entropy': 0,\n",
       "       'left': {'pred': 1},\n",
       "       'right': {'pred': 1}}},\n",
       "     'right': {'c': 1.048622,\n",
       "      'col': 1,\n",
       "      'best_gain': 0.08628869896560165,\n",
       "      'best_entropy': 1,\n",
       "      'left': {'c': 0.994501,\n",
       "       'col': 0,\n",
       "       'best_gain': 0.07192697200959314,\n",
       "       'best_entropy': 1,\n",
       "       'left': {'c': -0.940121,\n",
       "        'col': 0,\n",
       "        'best_gain': 0.034220400123219974,\n",
       "        'best_entropy': 1,\n",
       "        'left': {'c': 0.116556,\n",
       "         'col': 1,\n",
       "         'best_gain': 0.549629084884142,\n",
       "         'best_entropy': 1,\n",
       "         'left': {'c': 0.080169,\n",
       "          'col': 1,\n",
       "          'best_gain': 0.28103611255342353,\n",
       "          'best_entropy': 1,\n",
       "          'left': {'c': -1.052783,\n",
       "           'col': 0,\n",
       "           'best_gain': -1000,\n",
       "           'best_entropy': 0,\n",
       "           'left': {'pred': 1},\n",
       "           'right': {'pred': 1}},\n",
       "          'right': {'c': -1.012672,\n",
       "           'col': 0,\n",
       "           'best_gain': -1000,\n",
       "           'best_entropy': 0,\n",
       "           'left': {'pred': 1},\n",
       "           'right': {'pred': 0}}},\n",
       "         'right': {'c': -1.099439,\n",
       "          'col': 0,\n",
       "          'best_gain': -1000,\n",
       "          'best_entropy': 0,\n",
       "          'left': {'pred': 0},\n",
       "          'right': {'pred': 0}}},\n",
       "        'right': {'c': 0.851342,\n",
       "         'col': 0,\n",
       "         'best_gain': 0.020622328773764305,\n",
       "         'best_entropy': 1,\n",
       "         'left': {'c': -0.937505,\n",
       "          'col': 0,\n",
       "          'best_gain': -1000,\n",
       "          'best_entropy': 0,\n",
       "          'left': {'pred': 0},\n",
       "          'right': {'pred': 0}},\n",
       "         'right': {'c': -0.191773,\n",
       "          'col': 1,\n",
       "          'best_gain': 0.3080355508642164,\n",
       "          'best_entropy': 1,\n",
       "          'left': {'c': 0.912541,\n",
       "           'col': 0,\n",
       "           'best_gain': 0.31127812445913283,\n",
       "           'best_entropy': 1,\n",
       "           'left': {'c': 0.872224,\n",
       "            'col': 0,\n",
       "            'best_gain': -1000,\n",
       "            'best_entropy': 0,\n",
       "            'left': {'pred': 1},\n",
       "            'right': {'pred': 0}},\n",
       "           'right': {'c': 0.927203,\n",
       "            'col': 0,\n",
       "            'best_gain': -1000,\n",
       "            'best_entropy': 0,\n",
       "            'left': {'pred': 1},\n",
       "            'right': {'pred': 1}}},\n",
       "          'right': {'c': 0.856172,\n",
       "           'col': 0,\n",
       "           'best_gain': -1000,\n",
       "           'best_entropy': 0,\n",
       "           'left': {'pred': 0},\n",
       "           'right': {'pred': 0}}}}},\n",
       "       'right': {'c': 0.165721,\n",
       "        'col': 1,\n",
       "        'best_gain': 0.525431184527583,\n",
       "        'best_entropy': 1,\n",
       "        'left': {'c': 0.995812,\n",
       "         'col': 0,\n",
       "         'best_gain': -1000,\n",
       "         'best_entropy': 0,\n",
       "         'left': {'pred': 1},\n",
       "         'right': {'pred': 1}},\n",
       "        'right': {'c': 0.845589,\n",
       "         'col': 1,\n",
       "         'best_gain': 0.4954331247542155,\n",
       "         'best_entropy': 0,\n",
       "         'left': {'pred': 0},\n",
       "         'right': {'pred': 1}}}},\n",
       "      'right': {'c': 0.916131,\n",
       "       'col': 0,\n",
       "       'best_gain': 0.23235286169908265,\n",
       "       'best_entropy': 1,\n",
       "       'left': {'c': -0.791988,\n",
       "        'col': 0,\n",
       "        'best_gain': 0.2517568337243732,\n",
       "        'best_entropy': 1,\n",
       "        'left': {'c': -0.828143,\n",
       "         'col': 0,\n",
       "         'best_gain': 0.1744546479149136,\n",
       "         'best_entropy': 1,\n",
       "         'left': {'c': -1.078261,\n",
       "          'col': 0,\n",
       "          'best_gain': -1000,\n",
       "          'best_entropy': 0,\n",
       "          'left': {'pred': 1},\n",
       "          'right': {'pred': 1}},\n",
       "         'right': {'c': -0.8278,\n",
       "          'col': 0,\n",
       "          'best_gain': -1000,\n",
       "          'best_entropy': 0,\n",
       "          'left': {'pred': 0},\n",
       "          'right': {'pred': 1}}},\n",
       "        'right': {'c': 0.245019,\n",
       "         'col': 0,\n",
       "         'best_gain': 0.11107450457269608,\n",
       "         'best_entropy': 1,\n",
       "         'left': {'c': -0.180314,\n",
       "          'col': 0,\n",
       "          'best_gain': 0.3729462305169584,\n",
       "          'best_entropy': 1,\n",
       "          'left': {'c': -0.755467,\n",
       "           'col': 0,\n",
       "           'best_gain': 0.1665489594998521,\n",
       "           'best_entropy': 1,\n",
       "           'left': {'c': -0.776598,\n",
       "            'col': 0,\n",
       "            'best_gain': -1000,\n",
       "            'best_entropy': 0,\n",
       "            'left': {'pred': 0},\n",
       "            'right': {'pred': 1}},\n",
       "           'right': {'c': -0.742457,\n",
       "            'col': 0,\n",
       "            'best_gain': -1000,\n",
       "            'best_entropy': 0,\n",
       "            'left': {'pred': 0},\n",
       "            'right': {'pred': 0}}},\n",
       "          'right': {'c': 0.112165,\n",
       "           'col': 0,\n",
       "           'best_gain': 0.3682815243737163,\n",
       "           'best_entropy': 1,\n",
       "           'left': {'c': 1.065078,\n",
       "            'col': 1,\n",
       "            'best_gain': 0.18905266854301628,\n",
       "            'best_entropy': 0,\n",
       "            'left': {'pred': 0},\n",
       "            'right': {'pred': 1}},\n",
       "           'right': {'c': 0.231871,\n",
       "            'col': 0,\n",
       "            'best_gain': 0.3219280948873623,\n",
       "            'best_entropy': 0,\n",
       "            'left': {'pred': 0},\n",
       "            'right': {'pred': 1}}}},\n",
       "         'right': {'c': 1.21493,\n",
       "          'col': 1,\n",
       "          'best_gain': 0.10479964795093044,\n",
       "          'best_entropy': 1,\n",
       "          'left': {'c': 0.271989,\n",
       "           'col': 0,\n",
       "           'best_gain': -1000,\n",
       "           'best_entropy': 0,\n",
       "           'left': {'pred': 0},\n",
       "           'right': {'pred': 0}},\n",
       "          'right': {'c': 0.744571,\n",
       "           'col': 0,\n",
       "           'best_gain': 0.2516291673878229,\n",
       "           'best_entropy': 0,\n",
       "           'left': {'pred': 0},\n",
       "           'right': {'pred': 1}}}}},\n",
       "       'right': {'c': 0.939318,\n",
       "        'col': 0,\n",
       "        'best_gain': -1000,\n",
       "        'best_entropy': 0,\n",
       "        'left': {'pred': 1},\n",
       "        'right': {'pred': 1}}}}},\n",
       "    'right': {'c': 1.136321,\n",
       "     'col': 0,\n",
       "     'best_gain': -1000,\n",
       "     'best_entropy': 0,\n",
       "     'left': {'pred': 1},\n",
       "     'right': {'pred': 1}}}},\n",
       "  'right': {'c': -1.48766,\n",
       "   'col': 0,\n",
       "   'best_gain': -1000,\n",
       "   'best_entropy': 0,\n",
       "   'left': {'pred': 1},\n",
       "   'right': {'pred': 1}}}}"
      ]
     },
     "execution_count": 253,
     "metadata": {},
     "output_type": "execute_result"
    }
   ],
   "source": [
    "trees[3]"
   ]
  },
  {
   "cell_type": "code",
   "execution_count": 159,
   "metadata": {},
   "outputs": [
    {
     "data": {
      "text/plain": [
       "{'c': -0.711619,\n",
       " 'col': 1,\n",
       " 'best_gain': 0.18256245574012053,\n",
       " 'best_entropy': 1,\n",
       " 'left': {'c': -0.92622,\n",
       "  'col': 1,\n",
       "  'best_gain': 0.06759757571597538,\n",
       "  'best_entropy': 1,\n",
       "  'left': {'c': -0.954986,\n",
       "   'col': 1,\n",
       "   'best_gain': 0.0026409756011454896,\n",
       "   'best_entropy': 1,\n",
       "   'left': {'c': -1.49888,\n",
       "    'col': 0,\n",
       "    'best_gain': -1000,\n",
       "    'best_entropy': 0,\n",
       "    'left': {'pred': 1},\n",
       "    'right': {'pred': 1}},\n",
       "   'right': {'c': -0.954911,\n",
       "    'col': 1,\n",
       "    'best_gain': 0.012126043782665977,\n",
       "    'best_entropy': 0,\n",
       "    'left': {'pred': 0},\n",
       "    'right': {'pred': 1}}},\n",
       "  'right': {'c': 0.311391,\n",
       "   'col': 0,\n",
       "   'best_gain': 0.1141309455366335,\n",
       "   'best_entropy': 1,\n",
       "   'left': {'c': -0.218513,\n",
       "    'col': 0,\n",
       "    'best_gain': 0.4844510287136163,\n",
       "    'best_entropy': 1,\n",
       "    'left': {'c': -0.339007,\n",
       "     'col': 0,\n",
       "     'best_gain': 0.03162194400184211,\n",
       "     'best_entropy': 1,\n",
       "     'left': {'c': -1.497724,\n",
       "      'col': 0,\n",
       "      'best_gain': -1000,\n",
       "      'best_entropy': 0,\n",
       "      'left': {'pred': 1},\n",
       "      'right': {'pred': 1}},\n",
       "     'right': {'c': -0.753277,\n",
       "      'col': 1,\n",
       "      'best_gain': 0.3502090290998975,\n",
       "      'best_entropy': 0,\n",
       "      'left': {'pred': 1},\n",
       "      'right': {'pred': 0}}},\n",
       "    'right': {'c': 0.12137,\n",
       "     'col': 0,\n",
       "     'best_gain': 0.20365473139991108,\n",
       "     'best_entropy': 1,\n",
       "     'left': {'c': -0.064793,\n",
       "      'col': 0,\n",
       "      'best_gain': 0.12832925905988285,\n",
       "      'best_entropy': 1,\n",
       "      'left': {'c': -0.870255,\n",
       "       'col': 1,\n",
       "       'best_gain': 0.5752321426845737,\n",
       "       'best_entropy': 1,\n",
       "       'left': {'c': -0.200413,\n",
       "        'col': 0,\n",
       "        'best_gain': -1000,\n",
       "        'best_entropy': 0,\n",
       "        'left': {'pred': 1},\n",
       "        'right': {'pred': 1}},\n",
       "       'right': {'c': -0.199525,\n",
       "        'col': 0,\n",
       "        'best_gain': 0.16229218908241483,\n",
       "        'best_entropy': 1,\n",
       "        'left': {'c': -0.208334,\n",
       "         'col': 0,\n",
       "         'best_gain': -1000,\n",
       "         'best_entropy': 0,\n",
       "         'left': {'pred': 0},\n",
       "         'right': {'pred': 1}},\n",
       "        'right': {'c': -0.187196,\n",
       "         'col': 0,\n",
       "         'best_gain': -1000,\n",
       "         'best_entropy': 0,\n",
       "         'left': {'pred': 0},\n",
       "         'right': {'pred': 0}}}},\n",
       "      'right': {'c': -0.062433,\n",
       "       'col': 0,\n",
       "       'best_gain': -1000,\n",
       "       'best_entropy': 0,\n",
       "       'left': {'pred': 0},\n",
       "       'right': {'pred': 0}}},\n",
       "     'right': {'c': -0.802866,\n",
       "      'col': 1,\n",
       "      'best_gain': 0.46834227819445046,\n",
       "      'best_entropy': 1,\n",
       "      'left': {'c': -0.856504,\n",
       "       'col': 1,\n",
       "       'best_gain': 0.2444259256233255,\n",
       "       'best_entropy': 1,\n",
       "       'left': {'c': 0.128571,\n",
       "        'col': 0,\n",
       "        'best_gain': -1000,\n",
       "        'best_entropy': 0,\n",
       "        'left': {'pred': 1},\n",
       "        'right': {'pred': 1}},\n",
       "       'right': {'c': 0.181697,\n",
       "        'col': 0,\n",
       "        'best_gain': 0.5567796494470394,\n",
       "        'best_entropy': 1,\n",
       "        'left': {'c': 0.129926,\n",
       "         'col': 0,\n",
       "         'best_gain': -1000,\n",
       "         'best_entropy': 0,\n",
       "         'left': {'pred': 0},\n",
       "         'right': {'pred': 0}},\n",
       "        'right': {'c': 0.214258,\n",
       "         'col': 0,\n",
       "         'best_gain': 0.19811742113040343,\n",
       "         'best_entropy': 1,\n",
       "         'left': {'c': 0.199614,\n",
       "          'col': 0,\n",
       "          'best_gain': 0.2516291673878229,\n",
       "          'best_entropy': 0,\n",
       "          'left': {'pred': 1},\n",
       "          'right': {'pred': 0}},\n",
       "         'right': {'c': 0.264907,\n",
       "          'col': 0,\n",
       "          'best_gain': -1000,\n",
       "          'best_entropy': 0,\n",
       "          'left': {'pred': 1},\n",
       "          'right': {'pred': 1}}}}},\n",
       "      'right': {'c': 0.199908,\n",
       "       'col': 0,\n",
       "       'best_gain': -1000,\n",
       "       'best_entropy': 0,\n",
       "       'left': {'pred': 0},\n",
       "       'right': {'pred': 0}}}}},\n",
       "   'right': {'c': 0.332107,\n",
       "    'col': 0,\n",
       "    'best_gain': -1000,\n",
       "    'best_entropy': 0,\n",
       "    'left': {'pred': 1},\n",
       "    'right': {'pred': 1}}}},\n",
       " 'right': {'c': 1.231492,\n",
       "  'col': 1,\n",
       "  'best_gain': 0.15689596543072215,\n",
       "  'best_entropy': 1,\n",
       "  'left': {'c': 1.070659,\n",
       "   'col': 0,\n",
       "   'best_gain': 0.18750745033531724,\n",
       "   'best_entropy': 1,\n",
       "   'left': {'c': -1.074102,\n",
       "    'col': 0,\n",
       "    'best_gain': 0.30977918678726357,\n",
       "    'best_entropy': 1,\n",
       "    'left': {'c': -1.13935,\n",
       "     'col': 0,\n",
       "     'best_gain': 0.08882358793305932,\n",
       "     'best_entropy': 1,\n",
       "     'left': {'c': -1.499372,\n",
       "      'col': 0,\n",
       "      'best_gain': -1000,\n",
       "      'best_entropy': 0,\n",
       "      'left': {'pred': 1},\n",
       "      'right': {'pred': 1}},\n",
       "     'right': {'c': 0.189806,\n",
       "      'col': 1,\n",
       "      'best_gain': 0.20112529416549907,\n",
       "      'best_entropy': 1,\n",
       "      'left': {'c': -1.138175,\n",
       "       'col': 0,\n",
       "       'best_gain': -1000,\n",
       "       'best_entropy': 0,\n",
       "       'left': {'pred': 1},\n",
       "       'right': {'pred': 1}},\n",
       "      'right': {'c': 0.730042,\n",
       "       'col': 1,\n",
       "       'best_gain': 0.5859782587154517,\n",
       "       'best_entropy': 1,\n",
       "       'left': {'c': 0.346727,\n",
       "        'col': 1,\n",
       "        'best_gain': 0.27207692306913056,\n",
       "        'best_entropy': 1,\n",
       "        'left': {'c': -1.100157,\n",
       "         'col': 0,\n",
       "         'best_gain': 0.5487949406953987,\n",
       "         'best_entropy': 0,\n",
       "         'left': {'pred': 1},\n",
       "         'right': {'pred': 0}},\n",
       "        'right': {'c': -1.138029,\n",
       "         'col': 0,\n",
       "         'best_gain': 0.19220909102455275,\n",
       "         'best_entropy': 1,\n",
       "         'left': {'c': -1.138432,\n",
       "          'col': 0,\n",
       "          'best_gain': -1000,\n",
       "          'best_entropy': 0,\n",
       "          'left': {'pred': 0},\n",
       "          'right': {'pred': 1}},\n",
       "         'right': {'c': -1.135581,\n",
       "          'col': 0,\n",
       "          'best_gain': -1000,\n",
       "          'best_entropy': 0,\n",
       "          'left': {'pred': 0},\n",
       "          'right': {'pred': 0}}}},\n",
       "       'right': {'c': -1.13431,\n",
       "        'col': 0,\n",
       "        'best_gain': -1000,\n",
       "        'best_entropy': 0,\n",
       "        'left': {'pred': 1},\n",
       "        'right': {'pred': 1}}}}},\n",
       "    'right': {'c': -0.203086,\n",
       "     'col': 1,\n",
       "     'best_gain': 0.10227964038165238,\n",
       "     'best_entropy': 1,\n",
       "     'left': {'c': -0.742087,\n",
       "      'col': 0,\n",
       "      'best_gain': 0.1902832742558368,\n",
       "      'best_entropy': 1,\n",
       "      'left': {'c': -0.821018,\n",
       "       'col': 0,\n",
       "       'best_gain': 0.11814609470118495,\n",
       "       'best_entropy': 1,\n",
       "       'left': {'c': -1.071177,\n",
       "        'col': 0,\n",
       "        'best_gain': -1000,\n",
       "        'best_entropy': 0,\n",
       "        'left': {'pred': 1},\n",
       "        'right': {'pred': 1}},\n",
       "       'right': {'c': -0.383897,\n",
       "        'col': 1,\n",
       "        'best_gain': 0.5425990720644687,\n",
       "        'best_entropy': 1,\n",
       "        'left': {'c': -0.820795,\n",
       "         'col': 0,\n",
       "         'best_gain': -1000,\n",
       "         'best_entropy': 0,\n",
       "         'left': {'pred': 1},\n",
       "         'right': {'pred': 1}},\n",
       "        'right': {'c': -0.324146,\n",
       "         'col': 1,\n",
       "         'best_gain': 0.40282718781138405,\n",
       "         'best_entropy': 1,\n",
       "         'left': {'c': -0.791001,\n",
       "          'col': 0,\n",
       "          'best_gain': 0.4199730940219749,\n",
       "          'best_entropy': 0,\n",
       "          'left': {'pred': 1},\n",
       "          'right': {'pred': 0}},\n",
       "         'right': {'c': -0.820823,\n",
       "          'col': 0,\n",
       "          'best_gain': -1000,\n",
       "          'best_entropy': 0,\n",
       "          'left': {'pred': 0},\n",
       "          'right': {'pred': 0}}}}},\n",
       "      'right': {'c': 0.653899,\n",
       "       'col': 0,\n",
       "       'best_gain': 0.32961300482363354,\n",
       "       'best_entropy': 1,\n",
       "       'left': {'c': -0.48097,\n",
       "        'col': 1,\n",
       "        'best_gain': 0.12013838913278652,\n",
       "        'best_entropy': 1,\n",
       "        'left': {'c': -0.540127,\n",
       "         'col': 0,\n",
       "         'best_gain': 0.30959599244427227,\n",
       "         'best_entropy': 1,\n",
       "         'left': {'c': -0.489539,\n",
       "          'col': 1,\n",
       "          'best_gain': 0.11470713255634529,\n",
       "          'best_entropy': 0,\n",
       "          'left': {'pred': 1},\n",
       "          'right': {'pred': 0}},\n",
       "         'right': {'c': 0.447151,\n",
       "          'col': 0,\n",
       "          'best_gain': 0.239648503690438,\n",
       "          'best_entropy': 1,\n",
       "          'left': {'c': -0.445479,\n",
       "           'col': 0,\n",
       "           'best_gain': 0.10801279016607762,\n",
       "           'best_entropy': 1,\n",
       "           'left': {'c': -0.58396,\n",
       "            'col': 1,\n",
       "            'best_gain': 0.694836631116249,\n",
       "            'best_entropy': 0,\n",
       "            'left': {'pred': 1},\n",
       "            'right': {'pred': 0}},\n",
       "           'right': {'c': -0.70534,\n",
       "            'col': 1,\n",
       "            'best_gain': 0.047551613882559324,\n",
       "            'best_entropy': 1,\n",
       "            'left': {'c': -0.70793,\n",
       "             'col': 1,\n",
       "             'best_gain': 0.45810589515712374,\n",
       "             'best_entropy': 0,\n",
       "             'left': {'pred': 0},\n",
       "             'right': {'pred': 1}},\n",
       "            'right': {'c': -0.442761,\n",
       "             'col': 0,\n",
       "             'best_gain': -1000,\n",
       "             'best_entropy': 0,\n",
       "             'left': {'pred': 0},\n",
       "             'right': {'pred': 0}}}},\n",
       "          'right': {'c': -0.61874,\n",
       "           'col': 1,\n",
       "           'best_gain': 0.3883747714815191,\n",
       "           'best_entropy': 1,\n",
       "           'left': {'c': 0.447361,\n",
       "            'col': 0,\n",
       "            'best_gain': -1000,\n",
       "            'best_entropy': 0,\n",
       "            'left': {'pred': 1},\n",
       "            'right': {'pred': 1}},\n",
       "           'right': {'c': 0.56249,\n",
       "            'col': 0,\n",
       "            'best_gain': 0.6930374142260158,\n",
       "            'best_entropy': 1,\n",
       "            'left': {'c': -0.590698,\n",
       "             'col': 1,\n",
       "             'best_gain': 0.2576788051033316,\n",
       "             'best_entropy': 1,\n",
       "             'left': {'c': 0.510186,\n",
       "              'col': 0,\n",
       "              'best_gain': -1000,\n",
       "              'best_entropy': 0,\n",
       "              'left': {'pred': 0},\n",
       "              'right': {'pred': 1}},\n",
       "             'right': {'c': 0.453623,\n",
       "              'col': 0,\n",
       "              'best_gain': -1000,\n",
       "              'best_entropy': 0,\n",
       "              'left': {'pred': 0},\n",
       "              'right': {'pred': 0}}},\n",
       "            'right': {'c': 0.583187,\n",
       "             'col': 0,\n",
       "             'best_gain': -1000,\n",
       "             'best_entropy': 0,\n",
       "             'left': {'pred': 1},\n",
       "             'right': {'pred': 1}}}}}},\n",
       "        'right': {'c': -0.694569,\n",
       "         'col': 0,\n",
       "         'best_gain': 0.055586169220740174,\n",
       "         'best_entropy': 1,\n",
       "         'left': {'c': -0.435529,\n",
       "          'col': 1,\n",
       "          'best_gain': 0.5297257989969673,\n",
       "          'best_entropy': 0,\n",
       "          'left': {'pred': 1},\n",
       "          'right': {'pred': 0}},\n",
       "         'right': {'c': -0.690808,\n",
       "          'col': 0,\n",
       "          'best_gain': -1000,\n",
       "          'best_entropy': 0,\n",
       "          'left': {'pred': 0},\n",
       "          'right': {'pred': 0}}}},\n",
       "       'right': {'c': 0.788043,\n",
       "        'col': 0,\n",
       "        'best_gain': 0.18561338527600535,\n",
       "        'best_entropy': 1,\n",
       "        'left': {'c': -0.45286,\n",
       "         'col': 1,\n",
       "         'best_gain': 0.6868500820663268,\n",
       "         'best_entropy': 1,\n",
       "         'left': {'c': 0.655606,\n",
       "          'col': 0,\n",
       "          'best_gain': -1000,\n",
       "          'best_entropy': 0,\n",
       "          'left': {'pred': 1},\n",
       "          'right': {'pred': 1}},\n",
       "         'right': {'c': -0.330932,\n",
       "          'col': 1,\n",
       "          'best_gain': 0.24557524535391373,\n",
       "          'best_entropy': 1,\n",
       "          'left': {'c': 0.740022,\n",
       "           'col': 0,\n",
       "           'best_gain': 0.6099865470109874,\n",
       "           'best_entropy': 0,\n",
       "           'left': {'pred': 0},\n",
       "           'right': {'pred': 1}},\n",
       "          'right': {'c': 0.674486,\n",
       "           'col': 0,\n",
       "           'best_gain': -1000,\n",
       "           'best_entropy': 0,\n",
       "           'left': {'pred': 0},\n",
       "           'right': {'pred': 0}}}},\n",
       "        'right': {'c': -0.210912,\n",
       "         'col': 1,\n",
       "         'best_gain': 0.045727166438137554,\n",
       "         'best_entropy': 1,\n",
       "         'left': {'c': 0.790158,\n",
       "          'col': 0,\n",
       "          'best_gain': -1000,\n",
       "          'best_entropy': 0,\n",
       "          'left': {'pred': 1},\n",
       "          'right': {'pred': 1}},\n",
       "         'right': {'c': 0.82333,\n",
       "          'col': 0,\n",
       "          'best_gain': -1000,\n",
       "          'best_entropy': 0,\n",
       "          'left': {'pred': 0},\n",
       "          'right': {'pred': 1}}}}}},\n",
       "     'right': {'c': 1.038429,\n",
       "      'col': 1,\n",
       "      'best_gain': 0.09622864036674711,\n",
       "      'best_entropy': 1,\n",
       "      'left': {'c': 0.986687,\n",
       "       'col': 0,\n",
       "       'best_gain': 0.03278323887792885,\n",
       "       'best_entropy': 1,\n",
       "       'left': {'c': -0.984409,\n",
       "        'col': 0,\n",
       "        'best_gain': 0.03892858749726998,\n",
       "        'best_entropy': 1,\n",
       "        'left': {'c': 0.019576,\n",
       "         'col': 1,\n",
       "         'best_gain': 0.5124474170402156,\n",
       "         'best_entropy': 1,\n",
       "         'left': {'c': -1.065828,\n",
       "          'col': 0,\n",
       "          'best_gain': -1000,\n",
       "          'best_entropy': 0,\n",
       "          'left': {'pred': 1},\n",
       "          'right': {'pred': 1}},\n",
       "         'right': {'c': 0.903307,\n",
       "          'col': 1,\n",
       "          'best_gain': 0.1379779172713505,\n",
       "          'best_entropy': 1,\n",
       "          'left': {'c': 0.065336,\n",
       "           'col': 1,\n",
       "           'best_gain': 0.12003982875135015,\n",
       "           'best_entropy': 1,\n",
       "           'left': {'c': -1.063874,\n",
       "            'col': 0,\n",
       "            'best_gain': 0.3219280948873623,\n",
       "            'best_entropy': 0,\n",
       "            'left': {'pred': 1},\n",
       "            'right': {'pred': 0}},\n",
       "           'right': {'c': -1.073444,\n",
       "            'col': 0,\n",
       "            'best_gain': -1000,\n",
       "            'best_entropy': 0,\n",
       "            'left': {'pred': 0},\n",
       "            'right': {'pred': 0}}},\n",
       "          'right': {'c': -1.045722,\n",
       "           'col': 0,\n",
       "           'best_gain': 0.31127812445913283,\n",
       "           'best_entropy': 1,\n",
       "           'left': {'c': -1.060706,\n",
       "            'col': 0,\n",
       "            'best_gain': -1000,\n",
       "            'best_entropy': 0,\n",
       "            'left': {'pred': 1},\n",
       "            'right': {'pred': 0}},\n",
       "           'right': {'c': -1.045031,\n",
       "            'col': 0,\n",
       "            'best_gain': -1000,\n",
       "            'best_entropy': 0,\n",
       "            'left': {'pred': 1},\n",
       "            'right': {'pred': 1}}}}},\n",
       "        'right': {'c': -0.135689,\n",
       "         'col': 1,\n",
       "         'best_gain': 0.010192025854695983,\n",
       "         'best_entropy': 1,\n",
       "         'left': {'c': -0.913746,\n",
       "          'col': 0,\n",
       "          'best_gain': 0.14383763743896455,\n",
       "          'best_entropy': 1,\n",
       "          'left': {'c': -0.949822,\n",
       "           'col': 0,\n",
       "           'best_gain': -1000,\n",
       "           'best_entropy': 0,\n",
       "           'left': {'pred': 1},\n",
       "           'right': {'pred': 1}},\n",
       "          'right': {'c': 0.888791,\n",
       "           'col': 0,\n",
       "           'best_gain': 0.11474618377339903,\n",
       "           'best_entropy': 0,\n",
       "           'left': {'pred': 0},\n",
       "           'right': {'pred': 1}}},\n",
       "         'right': {'c': -0.983287,\n",
       "          'col': 0,\n",
       "          'best_gain': -1000,\n",
       "          'best_entropy': 0,\n",
       "          'left': {'pred': 0},\n",
       "          'right': {'pred': 0}}}},\n",
       "       'right': {'c': 0.062707,\n",
       "        'col': 1,\n",
       "        'best_gain': 0.4752759974723698,\n",
       "        'best_entropy': 1,\n",
       "        'left': {'c': 0.996485,\n",
       "         'col': 0,\n",
       "         'best_gain': 0.1866732220274085,\n",
       "         'best_entropy': 1,\n",
       "         'left': {'c': -0.037194,\n",
       "          'col': 1,\n",
       "          'best_gain': 0.4591479170272448,\n",
       "          'best_entropy': 0,\n",
       "          'left': {'pred': 1},\n",
       "          'right': {'pred': 0}},\n",
       "         'right': {'c': 1.011238,\n",
       "          'col': 0,\n",
       "          'best_gain': -1000,\n",
       "          'best_entropy': 0,\n",
       "          'left': {'pred': 1},\n",
       "          'right': {'pred': 1}}},\n",
       "        'right': {'c': 0.990832,\n",
       "         'col': 1,\n",
       "         'best_gain': 0.19513994043733032,\n",
       "         'best_entropy': 1,\n",
       "         'left': {'c': 1.052184,\n",
       "          'col': 0,\n",
       "          'best_gain': 0.0757220480105035,\n",
       "          'best_entropy': 1,\n",
       "          'left': {'c': 0.989601,\n",
       "           'col': 0,\n",
       "           'best_gain': -1000,\n",
       "           'best_entropy': 0,\n",
       "           'left': {'pred': 0},\n",
       "           'right': {'pred': 0}},\n",
       "          'right': {'c': 1.054418,\n",
       "           'col': 0,\n",
       "           'best_gain': 0.2373974097831018,\n",
       "           'best_entropy': 1,\n",
       "           'left': {'pred': 1}}},\n",
       "         'right': {'c': 0.999073,\n",
       "          'col': 0,\n",
       "          'best_gain': -1000,\n",
       "          'best_entropy': 0,\n",
       "          'left': {'pred': 1},\n",
       "          'right': {'pred': 1}}}}},\n",
       "      'right': {'c': -0.883897,\n",
       "       'col': 0,\n",
       "       'best_gain': 0.11245745877838431,\n",
       "       'best_entropy': 1,\n",
       "       'left': {'c': 1.054247,\n",
       "        'col': 1,\n",
       "        'best_gain': 0.11453208987010625,\n",
       "        'best_entropy': 1,\n",
       "        'left': {'c': -1.052768,\n",
       "         'col': 0,\n",
       "         'best_gain': 0.2516291673878229,\n",
       "         'best_entropy': 0,\n",
       "         'left': {'pred': 1},\n",
       "         'right': {'pred': 0}},\n",
       "        'right': {'c': -1.063666,\n",
       "         'col': 0,\n",
       "         'best_gain': -1000,\n",
       "         'best_entropy': 0,\n",
       "         'left': {'pred': 1},\n",
       "         'right': {'pred': 1}}},\n",
       "       'right': {'c': 0.887199,\n",
       "        'col': 0,\n",
       "        'best_gain': 0.13552412756851995,\n",
       "        'best_entropy': 1,\n",
       "        'left': {'c': 1.161134,\n",
       "         'col': 1,\n",
       "         'best_gain': 0.13191657629544185,\n",
       "         'best_entropy': 1,\n",
       "         'left': {'c': 0.122514,\n",
       "          'col': 0,\n",
       "          'best_gain': 0.08764557648898824,\n",
       "          'best_entropy': 1,\n",
       "          'left': {'c': -0.154499,\n",
       "           'col': 0,\n",
       "           'best_gain': 0.3375394223142973,\n",
       "           'best_entropy': 1,\n",
       "           'left': {'c': -0.843953,\n",
       "            'col': 0,\n",
       "            'best_gain': 0.05366775389347959,\n",
       "            'best_entropy': 1,\n",
       "            'left': {'c': -0.857233,\n",
       "             'col': 0,\n",
       "             'best_gain': 0.31127812445913283,\n",
       "             'best_entropy': 0,\n",
       "             'left': {'pred': 0},\n",
       "             'right': {'pred': 1}},\n",
       "            'right': {'c': -0.828143,\n",
       "             'col': 0,\n",
       "             'best_gain': -1000,\n",
       "             'best_entropy': 0,\n",
       "             'left': {'pred': 0},\n",
       "             'right': {'pred': 0}}},\n",
       "           'right': {'c': 1.100767,\n",
       "            'col': 1,\n",
       "            'best_gain': 0.22197695749238655,\n",
       "            'best_entropy': 1,\n",
       "            'left': {'c': -0.058843,\n",
       "             'col': 0,\n",
       "             'best_gain': 0.3753050197867057,\n",
       "             'best_entropy': 1,\n",
       "             'left': {'c': -0.120974,\n",
       "              'col': 0,\n",
       "              'best_gain': -1000,\n",
       "              'best_entropy': 0,\n",
       "              'left': {'pred': 0},\n",
       "              'right': {'pred': 0}},\n",
       "             'right': {'c': 0.017623,\n",
       "              'col': 0,\n",
       "              'best_gain': 0.6522798244164247,\n",
       "              'best_entropy': 0,\n",
       "              'left': {'pred': 1},\n",
       "              'right': {'pred': 0}}},\n",
       "            'right': {'c': -0.143302,\n",
       "             'col': 0,\n",
       "             'best_gain': -1000,\n",
       "             'best_entropy': 0,\n",
       "             'left': {'pred': 1},\n",
       "             'right': {'pred': 1}}}},\n",
       "          'right': {'c': 0.15723,\n",
       "           'col': 0,\n",
       "           'best_gain': -1000,\n",
       "           'best_entropy': 0,\n",
       "           'left': {'pred': 0},\n",
       "           'right': {'pred': 0}}},\n",
       "         'right': {'c': -0.776598,\n",
       "          'col': 0,\n",
       "          'best_gain': 0.08563776584297089,\n",
       "          'best_entropy': 1,\n",
       "          'left': {'c': -0.871606,\n",
       "           'col': 0,\n",
       "           'best_gain': -1000,\n",
       "           'best_entropy': 0,\n",
       "           'left': {'pred': 1},\n",
       "           'right': {'pred': 1}},\n",
       "          'right': {'c': -0.324017,\n",
       "           'col': 0,\n",
       "           'best_gain': 0.21791985311338968,\n",
       "           'best_entropy': 1,\n",
       "           'left': {'c': 1.218542,\n",
       "            'col': 1,\n",
       "            'best_gain': 0.17728990519918628,\n",
       "            'best_entropy': 1,\n",
       "            'left': {'c': -0.751347,\n",
       "             'col': 0,\n",
       "             'best_gain': -1000,\n",
       "             'best_entropy': 0,\n",
       "             'left': {'pred': 0},\n",
       "             'right': {'pred': 0}},\n",
       "            'right': {'c': -0.670251,\n",
       "             'col': 0,\n",
       "             'best_gain': 0.3219280948873623,\n",
       "             'best_entropy': 0,\n",
       "             'left': {'pred': 1},\n",
       "             'right': {'pred': 0}}},\n",
       "           'right': {'c': 0.269334,\n",
       "            'col': 0,\n",
       "            'best_gain': 0.41657656055234926,\n",
       "            'best_entropy': 1,\n",
       "            'left': {'c': 1.168031,\n",
       "             'col': 1,\n",
       "             'best_gain': 0.08404367188929926,\n",
       "             'best_entropy': 1,\n",
       "             'left': {'c': -0.222066,\n",
       "              'col': 0,\n",
       "              'best_gain': -1000,\n",
       "              'best_entropy': 0,\n",
       "              'left': {'pred': 0},\n",
       "              'right': {'pred': 1}},\n",
       "             'right': {'c': -0.291223,\n",
       "              'col': 0,\n",
       "              'best_gain': -1000,\n",
       "              'best_entropy': 0,\n",
       "              'left': {'pred': 1},\n",
       "              'right': {'pred': 1}}},\n",
       "            'right': {'c': 0.755202,\n",
       "             'col': 0,\n",
       "             'best_gain': 0.4400963129891075,\n",
       "             'best_entropy': 1,\n",
       "             'left': {'c': 1.212089,\n",
       "              'col': 1,\n",
       "              'best_gain': 0.23698567028556766,\n",
       "              'best_entropy': 1,\n",
       "              'left': {'c': 0.27073,\n",
       "               'col': 0,\n",
       "               'best_gain': -1000,\n",
       "               'best_entropy': 0,\n",
       "               'left': {'pred': 0},\n",
       "               'right': {'pred': 0}},\n",
       "              'right': {'c': 0.295022,\n",
       "               'col': 0,\n",
       "               'best_gain': 0.3219280948873623,\n",
       "               'best_entropy': 1,\n",
       "               'left': {'c': 0.291451,\n",
       "                'col': 0,\n",
       "                'best_gain': -1000,\n",
       "                'best_entropy': 0,\n",
       "                'left': {'pred': 1},\n",
       "                'right': {'pred': 1}},\n",
       "               'right': {'c': 0.632197,\n",
       "                'col': 0,\n",
       "                'best_gain': 0.46691718668869925,\n",
       "                'best_entropy': 0,\n",
       "                'left': {'pred': 0},\n",
       "                'right': {'pred': 1}}}},\n",
       "             'right': {'c': 0.758248,\n",
       "              'col': 0,\n",
       "              'best_gain': -1000,\n",
       "              'best_entropy': 0,\n",
       "              'left': {'pred': 1},\n",
       "              'right': {'pred': 1}}}}}}},\n",
       "        'right': {'c': 1.081085,\n",
       "         'col': 1,\n",
       "         'best_gain': 0.16288319128814824,\n",
       "         'best_entropy': 1,\n",
       "         'left': {'c': 0.916299,\n",
       "          'col': 0,\n",
       "          'best_gain': 0.31668908831502096,\n",
       "          'best_entropy': 0,\n",
       "          'left': {'pred': 0},\n",
       "          'right': {'pred': 1}},\n",
       "         'right': {'c': 0.887935,\n",
       "          'col': 0,\n",
       "          'best_gain': -1000,\n",
       "          'best_entropy': 0,\n",
       "          'left': {'pred': 1},\n",
       "          'right': {'pred': 1}}}}}}}},\n",
       "   'right': {'c': 1.135738,\n",
       "    'col': 0,\n",
       "    'best_gain': 0.09683575910874716,\n",
       "    'best_entropy': 1,\n",
       "    'left': {'c': 0.262403,\n",
       "     'col': 1,\n",
       "     'best_gain': 0.2938734005122827,\n",
       "     'best_entropy': 1,\n",
       "     'left': {'c': 1.072738,\n",
       "      'col': 0,\n",
       "      'best_gain': -1000,\n",
       "      'best_entropy': 0,\n",
       "      'left': {'pred': 1},\n",
       "      'right': {'pred': 1}},\n",
       "     'right': {'c': 0.77471,\n",
       "      'col': 1,\n",
       "      'best_gain': 0.8036204474683584,\n",
       "      'best_entropy': 1,\n",
       "      'left': {'c': 1.132337,\n",
       "       'col': 0,\n",
       "       'best_gain': 0.2789137152548913,\n",
       "       'best_entropy': 1,\n",
       "       'left': {'c': 1.073812,\n",
       "        'col': 0,\n",
       "        'best_gain': -1000,\n",
       "        'best_entropy': 0,\n",
       "        'left': {'pred': 0},\n",
       "        'right': {'pred': 0}},\n",
       "       'right': {'c': 1.13571,\n",
       "        'col': 0,\n",
       "        'best_gain': 0.2516291673878229,\n",
       "        'best_entropy': 0,\n",
       "        'left': {'pred': 1},\n",
       "        'right': {'pred': 0}}},\n",
       "      'right': {'c': 1.07081,\n",
       "       'col': 0,\n",
       "       'best_gain': -1000,\n",
       "       'best_entropy': 0,\n",
       "       'left': {'pred': 1},\n",
       "       'right': {'pred': 1}}}},\n",
       "    'right': {'c': 1.136212,\n",
       "     'col': 0,\n",
       "     'best_gain': -1000,\n",
       "     'best_entropy': 0,\n",
       "     'left': {'pred': 1},\n",
       "     'right': {'pred': 1}}}},\n",
       "  'right': {'c': -1.498383,\n",
       "   'col': 0,\n",
       "   'best_gain': -1000,\n",
       "   'best_entropy': 0,\n",
       "   'left': {'pred': 1},\n",
       "   'right': {'pred': 1}}}}"
      ]
     },
     "execution_count": 159,
     "metadata": {},
     "output_type": "execute_result"
    }
   ],
   "source": [
    "trees[4]"
   ]
  },
  {
   "cell_type": "code",
   "execution_count": 239,
   "metadata": {},
   "outputs": [],
   "source": [
    "def predict_test(test, tree):\n",
    "    preds = []\n",
    "    for ind, t in test.iterrows():\n",
    "        x = [t[0], t[1]]\n",
    "        preds.append(predict(tree, x))\n",
    "    return preds"
   ]
  },
  {
   "cell_type": "code",
   "execution_count": 240,
   "metadata": {
    "id": "-fntWLtLu-iA"
   },
   "outputs": [],
   "source": [
    "def predict(tree, x):\n",
    "    node = tree\n",
    "    #print(node)\n",
    "    #print(node['left'])\n",
    "    while 'pred' not in node:\n",
    "        col = node['col']\n",
    "        c = node['c']\n",
    "        #print(x, c, col)\n",
    "        if x[col] <= c:\n",
    "            node = node['left']\n",
    "            #print('left', node)\n",
    "        else:\n",
    "            try:\n",
    "                node = node['right']\n",
    "            except:\n",
    "                return 1\n",
    "    return node['pred']"
   ]
  },
  {
   "cell_type": "code",
   "execution_count": 241,
   "metadata": {},
   "outputs": [],
   "source": [
    "preds_trees = []\n",
    "for t in trees:\n",
    "    preds_trees.append(predict_test(Dbig_test, t))"
   ]
  },
  {
   "cell_type": "code",
   "execution_count": 243,
   "metadata": {},
   "outputs": [
    {
     "data": {
      "text/plain": [
       "0.13440265486725664"
      ]
     },
     "execution_count": 243,
     "metadata": {},
     "output_type": "execute_result"
    }
   ],
   "source": [
    "mean_squared_error(Dbig_test[2], preds_trees[0])"
   ]
  },
  {
   "cell_type": "code",
   "execution_count": 244,
   "metadata": {},
   "outputs": [
    {
     "data": {
      "text/plain": [
       "0.12057522123893805"
      ]
     },
     "execution_count": 244,
     "metadata": {},
     "output_type": "execute_result"
    }
   ],
   "source": [
    "mean_squared_error(Dbig_test[2], preds_trees[1])"
   ]
  },
  {
   "cell_type": "code",
   "execution_count": 245,
   "metadata": {},
   "outputs": [
    {
     "data": {
      "text/plain": [
       "0.04092920353982301"
      ]
     },
     "execution_count": 245,
     "metadata": {},
     "output_type": "execute_result"
    }
   ],
   "source": [
    "mean_squared_error(Dbig_test[2], preds_trees[2])"
   ]
  },
  {
   "cell_type": "code",
   "execution_count": 246,
   "metadata": {},
   "outputs": [
    {
     "data": {
      "text/plain": [
       "0.024889380530973452"
      ]
     },
     "execution_count": 246,
     "metadata": {},
     "output_type": "execute_result"
    }
   ],
   "source": [
    "mean_squared_error(Dbig_test[2], preds_trees[3])"
   ]
  },
  {
   "cell_type": "code",
   "execution_count": 247,
   "metadata": {},
   "outputs": [
    {
     "data": {
      "text/plain": [
       "0.019358407079646017"
      ]
     },
     "execution_count": 247,
     "metadata": {},
     "output_type": "execute_result"
    }
   ],
   "source": [
    "mean_squared_error(Dbig_test[2], preds_trees[4])"
   ]
  },
  {
   "cell_type": "code",
   "execution_count": 248,
   "metadata": {},
   "outputs": [],
   "source": [
    "# n vs error\n",
    "df_n_error = pd.read_excel('count_nodes.xlsx')"
   ]
  },
  {
   "cell_type": "code",
   "execution_count": 249,
   "metadata": {},
   "outputs": [
    {
     "data": {
      "text/plain": [
       "Text(0, 0.5, 'MSE')"
      ]
     },
     "execution_count": 249,
     "metadata": {},
     "output_type": "execute_result"
    },
    {
     "data": {
      "image/png": "[encoded data removed]",
      "text/plain": [
       "<Figure size 432x288 with 1 Axes>"
      ]
     },
     "metadata": {
      "needs_background": "light"
     },
     "output_type": "display_data"
    }
   ],
   "source": [
    "# (1)\n",
    "plt.scatter(df_n_error['total_nodes'], df_n_error['mse'])\n",
    "plt.xlabel('number of nodes')\n",
    "plt.ylabel('MSE')"
   ]
  },
  {
   "cell_type": "code",
   "execution_count": 254,
   "metadata": {},
   "outputs": [
    {
     "data": {
      "text/plain": [
       "Text(0, 0.5, 'MSE')"
      ]
     },
     "execution_count": 254,
     "metadata": {},
     "output_type": "execute_result"
    },
    {
     "data": {
      "image/png": "[encoded data removed]",
      "text/plain": [
       "<Figure size 432x288 with 1 Axes>"
      ]
     },
     "metadata": {
      "needs_background": "light"
     },
     "output_type": "display_data"
    }
   ],
   "source": [
    "# (2)\n",
    "plt.scatter(df_n_error['n'], df_n_error['mse'])\n",
    "plt.xlabel('number of training samples')\n",
    "plt.ylabel('MSE')"
   ]
  },
  {
   "cell_type": "code",
   "execution_count": 167,
   "metadata": {},
   "outputs": [],
   "source": [
    "df = D_sizes[0]"
   ]
  },
  {
   "cell_type": "code",
   "execution_count": 169,
   "metadata": {},
   "outputs": [
    {
     "data": {
      "text/html": [
       "<div>\n",
       "<style scoped>\n",
       "    .dataframe tbody tr th:only-of-type {\n",
       "        vertical-align: middle;\n",
       "    }\n",
       "\n",
       "    .dataframe tbody tr th {\n",
       "        vertical-align: top;\n",
       "    }\n",
       "\n",
       "    .dataframe thead th {\n",
       "        text-align: right;\n",
       "    }\n",
       "</style>\n",
       "<table border=\"1\" class=\"dataframe\">\n",
       "  <thead>\n",
       "    <tr style=\"text-align: right;\">\n",
       "      <th></th>\n",
       "      <th>0</th>\n",
       "      <th>1</th>\n",
       "      <th>2</th>\n",
       "    </tr>\n",
       "  </thead>\n",
       "  <tbody>\n",
       "    <tr>\n",
       "      <th>1</th>\n",
       "      <td>-0.061844</td>\n",
       "      <td>0.093950</td>\n",
       "      <td>0</td>\n",
       "    </tr>\n",
       "    <tr>\n",
       "      <th>3</th>\n",
       "      <td>-0.045501</td>\n",
       "      <td>0.753653</td>\n",
       "      <td>0</td>\n",
       "    </tr>\n",
       "    <tr>\n",
       "      <th>5</th>\n",
       "      <td>0.431377</td>\n",
       "      <td>0.571630</td>\n",
       "      <td>0</td>\n",
       "    </tr>\n",
       "    <tr>\n",
       "      <th>8</th>\n",
       "      <td>0.439718</td>\n",
       "      <td>0.130477</td>\n",
       "      <td>0</td>\n",
       "    </tr>\n",
       "    <tr>\n",
       "      <th>11</th>\n",
       "      <td>0.756752</td>\n",
       "      <td>0.726262</td>\n",
       "      <td>0</td>\n",
       "    </tr>\n",
       "    <tr>\n",
       "      <th>13</th>\n",
       "      <td>0.231499</td>\n",
       "      <td>1.010202</td>\n",
       "      <td>0</td>\n",
       "    </tr>\n",
       "    <tr>\n",
       "      <th>15</th>\n",
       "      <td>0.339906</td>\n",
       "      <td>0.894570</td>\n",
       "      <td>0</td>\n",
       "    </tr>\n",
       "    <tr>\n",
       "      <th>21</th>\n",
       "      <td>-0.803224</td>\n",
       "      <td>-0.143545</td>\n",
       "      <td>0</td>\n",
       "    </tr>\n",
       "    <tr>\n",
       "      <th>22</th>\n",
       "      <td>-0.075709</td>\n",
       "      <td>0.229840</td>\n",
       "      <td>0</td>\n",
       "    </tr>\n",
       "    <tr>\n",
       "      <th>28</th>\n",
       "      <td>0.507855</td>\n",
       "      <td>0.837035</td>\n",
       "      <td>0</td>\n",
       "    </tr>\n",
       "    <tr>\n",
       "      <th>31</th>\n",
       "      <td>-0.675425</td>\n",
       "      <td>-0.366728</td>\n",
       "      <td>0</td>\n",
       "    </tr>\n",
       "  </tbody>\n",
       "</table>\n",
       "</div>"
      ],
      "text/plain": [
       "           0         1  2\n",
       "1  -0.061844  0.093950  0\n",
       "3  -0.045501  0.753653  0\n",
       "5   0.431377  0.571630  0\n",
       "8   0.439718  0.130477  0\n",
       "11  0.756752  0.726262  0\n",
       "13  0.231499  1.010202  0\n",
       "15  0.339906  0.894570  0\n",
       "21 -0.803224 -0.143545  0\n",
       "22 -0.075709  0.229840  0\n",
       "28  0.507855  0.837035  0\n",
       "31 -0.675425 -0.366728  0"
      ]
     },
     "execution_count": 169,
     "metadata": {},
     "output_type": "execute_result"
    }
   ],
   "source": [
    "df[df[2]==0]"
   ]
  },
  {
   "cell_type": "code",
   "execution_count": 200,
   "metadata": {},
   "outputs": [],
   "source": [
    "# generate dataset\n",
    "\n",
    "# define the x and y scale\n",
    "x1grid = np.arange(-1.5, 1.5, 0.001)\n",
    "x2grid = np.arange(-1.5, 1.5, 0.001)\n",
    "# create all of the lines and rows of the grid\n",
    "xx, yy = np.meshgrid(x1grid, x2grid)\n",
    "\n",
    "# flatten each grid to a vector\n",
    "r1, r2 = xx.flatten(), yy.flatten()\n",
    "r1, r2 = r1.reshape((len(r1), 1)), r2.reshape((len(r2), 1))\n",
    "\n",
    "# horizontal stack vectors to create x1,x2 input for the model\n",
    "grid = np.hstack((r1,r2))\n",
    "df_grid = pd.DataFrame(grid)\n"
   ]
  },
  {
   "cell_type": "code",
   "execution_count": null,
   "metadata": {},
   "outputs": [],
   "source": [
    "# predict using model\n",
    "preds = []\n",
    "preds.append(predict_test(df_grid, trees[0]))\n",
    "\n",
    "df_grid[2] = preds[0]"
   ]
  },
  {
   "cell_type": "code",
   "execution_count": 192,
   "metadata": {},
   "outputs": [
    {
     "data": {
      "text/plain": [
       "<matplotlib.legend.Legend at 0x20a42efb848>"
      ]
     },
     "execution_count": 192,
     "metadata": {},
     "output_type": "execute_result"
    },
    {
     "data": {
      "image/png": "[encoded data removed]",
      "text/plain": [
       "<Figure size 432x288 with 1 Axes>"
      ]
     },
     "metadata": {
      "needs_background": "light"
     },
     "output_type": "display_data"
    }
   ],
   "source": [
    "# (3)\n",
    "# first tree\n",
    "df = df_grid\n",
    "arr1 = plt.scatter(df[df[2] == 0][0], df[df[2] == 0][1])\n",
    "arr2 = plt.scatter(df[df[2] == 1][0], df[df[2] == 1][1])\n",
    "\n",
    "plt.xlabel('feature 0')\n",
    "plt.ylabel('feature 1')\n",
    "plt.legend([arr1, arr2], [0,1], loc=(1.04,0))"
   ]
  },
  {
   "cell_type": "code",
   "execution_count": 193,
   "metadata": {},
   "outputs": [],
   "source": [
    "# (3)\n",
    "# second tree\n",
    "# predict using model\n",
    "preds = []\n",
    "preds.append(predict_test(df_grid, trees[1]))\n",
    "\n",
    "df_grid['tree2_preds'] = preds[0]"
   ]
  },
  {
   "cell_type": "code",
   "execution_count": 195,
   "metadata": {},
   "outputs": [
    {
     "data": {
      "text/plain": [
       "<matplotlib.legend.Legend at 0x20a40bbb888>"
      ]
     },
     "execution_count": 195,
     "metadata": {},
     "output_type": "execute_result"
    },
    {
     "data": {
      "image/png": "[encoded data removed]",
      "text/plain": [
       "<Figure size 432x288 with 1 Axes>"
      ]
     },
     "metadata": {
      "needs_background": "light"
     },
     "output_type": "display_data"
    }
   ],
   "source": [
    "\n",
    "df = df_grid\n",
    "pred_col = 'tree2_preds'\n",
    "plt.scatter(df[df[pred_col] == 0][0], df[df[pred_col] == 0][1])\n",
    "plt.scatter(df[df[pred_col] == 1][0], df[df[pred_col] == 1][1])\n",
    "\n",
    "plt.xlabel('feature 0')\n",
    "plt.ylabel('feature 1')\n",
    "plt.legend([arr1, arr2], [0,1], loc=(1.04,0))"
   ]
  },
  {
   "cell_type": "code",
   "execution_count": 196,
   "metadata": {},
   "outputs": [],
   "source": [
    "# (3)\n",
    "# third tree\n",
    "# predict using model\n",
    "preds = []\n",
    "preds.append(predict_test(df_grid, trees[2]))\n",
    "\n",
    "df_grid['tree3_preds'] = preds[0]"
   ]
  },
  {
   "cell_type": "code",
   "execution_count": 197,
   "metadata": {},
   "outputs": [
    {
     "data": {
      "text/plain": [
       "<matplotlib.legend.Legend at 0x20a4144e348>"
      ]
     },
     "execution_count": 197,
     "metadata": {},
     "output_type": "execute_result"
    },
    {
     "data": {
      "image/png": "[encoded data removed]",
      "text/plain": [
       "<Figure size 432x288 with 1 Axes>"
      ]
     },
     "metadata": {
      "needs_background": "light"
     },
     "output_type": "display_data"
    }
   ],
   "source": [
    "# (3)\n",
    "# third tree\n",
    "df = df_grid\n",
    "pred_col = 'tree3_preds'\n",
    "plt.scatter(df[df[pred_col] == 0][0], df[df[pred_col] == 0][1])\n",
    "plt.scatter(df[df[pred_col] == 1][0], df[df[pred_col] == 1][1])\n",
    "\n",
    "plt.xlabel('feature 0')\n",
    "plt.ylabel('feature 1')\n",
    "plt.legend([arr1, arr2], [0,1], loc=(1.04,0))"
   ]
  },
  {
   "cell_type": "code",
   "execution_count": 202,
   "metadata": {},
   "outputs": [],
   "source": [
    "# (3)\n",
    "# fourth tree\n",
    "# predict using model\n",
    "preds = []\n",
    "preds.append(predict_test(df_grid, trees[3]))\n",
    "\n",
    "df_grid['tree4_preds'] = preds[0]"
   ]
  },
  {
   "cell_type": "code",
   "execution_count": null,
   "metadata": {},
   "outputs": [],
   "source": []
  },
  {
   "cell_type": "code",
   "execution_count": 203,
   "metadata": {},
   "outputs": [
    {
     "data": {
      "text/plain": [
       "<matplotlib.legend.Legend at 0x20a435fcbc8>"
      ]
     },
     "execution_count": 203,
     "metadata": {},
     "output_type": "execute_result"
    },
    {
     "data": {
      "image/png": "[encoded data removed]",
      "text/plain": [
       "<Figure size 432x288 with 1 Axes>"
      ]
     },
     "metadata": {
      "needs_background": "light"
     },
     "output_type": "display_data"
    }
   ],
   "source": [
    "# (3)\n",
    "# fourth tree\n",
    "\n",
    "df = df_grid\n",
    "pred_col = 'tree4_preds'\n",
    "plt.scatter(df[df[pred_col] == 0][0], df[df[pred_col] == 0][1])\n",
    "plt.scatter(df[df[pred_col] == 1][0], df[df[pred_col] == 1][1])\n",
    "\n",
    "plt.xlabel('feature 0')\n",
    "plt.ylabel('feature 1')\n",
    "plt.legend([arr1, arr2], [0,1], loc=(1.04,0))"
   ]
  },
  {
   "cell_type": "code",
   "execution_count": null,
   "metadata": {},
   "outputs": [],
   "source": [
    "# (3)\n",
    "# fifth tree\n",
    "# predict using model\n",
    "preds = []\n",
    "preds.append(predict_test(df_grid, trees[4]))\n",
    "\n",
    "df_grid['tree5_preds'] = preds[0]"
   ]
  },
  {
   "cell_type": "code",
   "execution_count": null,
   "metadata": {
    "scrolled": true
   },
   "outputs": [],
   "source": [
    "# (3)\n",
    "# fifth tree\n",
    "\n",
    "df = df_grid\n",
    "pred_col = 'tree5_preds'\n",
    "plt.scatter(df[df[pred_col] == 0][0], df[df[pred_col] == 0][1], s=0.1)\n",
    "plt.scatter(df[df[pred_col] == 1][0], df[df[pred_col] == 1][1], s=0.1)\n",
    "\n",
    "plt.xlabel('feature 0')\n",
    "plt.ylabel('feature 1')\n",
    "plt.legend([arr1, arr2], [0,1], loc=(1.04,0))"
   ]
  },
  {
   "cell_type": "code",
   "execution_count": 209,
   "metadata": {},
   "outputs": [
    {
     "data": {
      "text/plain": [
       "9000000"
      ]
     },
     "execution_count": 209,
     "metadata": {},
     "output_type": "execute_result"
    }
   ],
   "source": [
    "len(preds[0])"
   ]
  },
  {
   "cell_type": "code",
   "execution_count": 214,
   "metadata": {},
   "outputs": [
    {
     "name": "stderr",
     "output_type": "stream",
     "text": [
      "C:\\ProgramData\\Anaconda3\\lib\\site-packages\\ipykernel_launcher.py:3: SettingWithCopyWarning: \n",
      "A value is trying to be set on a copy of a slice from a DataFrame.\n",
      "Try using .loc[row_indexer,col_indexer] = value instead\n",
      "\n",
      "See the caveats in the documentation: https://pandas.pydata.org/pandas-docs/stable/user_guide/indexing.html#returning-a-view-versus-a-copy\n",
      "  This is separate from the ipykernel package so we can avoid doing imports until\n"
     ]
    },
    {
     "data": {
      "text/plain": [
       "<matplotlib.legend.Legend at 0x20a039862c8>"
      ]
     },
     "execution_count": 214,
     "metadata": {},
     "output_type": "execute_result"
    },
    {
     "data": {
      "image/png": "[encoded data removed]",
      "text/plain": [
       "<Figure size 432x288 with 1 Axes>"
      ]
     },
     "metadata": {
      "needs_background": "light"
     },
     "output_type": "display_data"
    }
   ],
   "source": [
    "df = Dbig_test\n",
    "pred_col = 'preds4'\n",
    "df[pred_col] = preds_trees[4]\n",
    "plt.scatter(df[df[pred_col] == 0][0], df[df[pred_col] == 0][1])\n",
    "plt.scatter(df[df[pred_col] == 1][0], df[df[pred_col] == 1][1])\n",
    "\n",
    "plt.xlabel('feature 0')\n",
    "plt.ylabel('feature 1')\n",
    "plt.legend([arr1, arr2], [0,1], loc=(1.04,0))"
   ]
  },
  {
   "cell_type": "code",
   "execution_count": 43,
   "metadata": {
    "id": "uDCCSo9doEK5"
   },
   "outputs": [],
   "source": [
    "import pickle"
   ]
  },
  {
   "cell_type": "code",
   "execution_count": 46,
   "metadata": {
    "id": "RofK6_NLoI9g"
   },
   "outputs": [],
   "source": [
    "pickle.dump(trees, open('2_7trees.pkl', 'wb'))"
   ]
  },
  {
   "cell_type": "code",
   "execution_count": 52,
   "metadata": {
    "colab": {
     "base_uri": "https://localhost:8080/"
    },
    "id": "lp2zTGRkqcV1",
    "outputId": "62b550e5-8d7a-4d3b-edda-01e01fca714a"
   },
   "outputs": [
    {
     "data": {
      "text/plain": [
       "{'best_entropy': 1,\n",
       " 'best_gain': 0.21059247315589413,\n",
       " 'c': -0.419392,\n",
       " 'col': 1,\n",
       " 'left': {'best_entropy': 0,\n",
       "  'best_gain': -1000,\n",
       "  'c': 0,\n",
       "  'col': 0,\n",
       "  'left': 1,\n",
       "  'right': 1},\n",
       " 'right': {'best_entropy': 1,\n",
       "  'best_gain': 0.3063165949447213,\n",
       "  'c': 1.010202,\n",
       "  'col': 1,\n",
       "  'left': {'best_entropy': 1,\n",
       "   'best_gain': 0.4630221741820373,\n",
       "   'c': 0.7567520000000001,\n",
       "   'col': 0,\n",
       "   'left': {'best_entropy': 0,\n",
       "    'best_gain': 0.2373974097831018,\n",
       "    'c': -1.321424,\n",
       "    'col': 0,\n",
       "    'left': 1,\n",
       "    'right': 0},\n",
       "   'right': {'best_entropy': 0,\n",
       "    'best_gain': -1000,\n",
       "    'c': 0,\n",
       "    'col': 0,\n",
       "    'left': 1,\n",
       "    'right': 1}},\n",
       "  'right': {'best_entropy': 0,\n",
       "   'best_gain': -1000,\n",
       "   'c': 0,\n",
       "   'col': 0,\n",
       "   'left': 1,\n",
       "   'right': 1}}}"
      ]
     },
     "execution_count": 52,
     "metadata": {},
     "output_type": "execute_result"
    }
   ],
   "source": [
    "trees[0]"
   ]
  },
  {
   "cell_type": "markdown",
   "metadata": {
    "id": "vnoQ6kpFYZ5o"
   },
   "source": [
    "#3 sklearn"
   ]
  },
  {
   "cell_type": "code",
   "execution_count": 142,
   "metadata": {
    "id": "1oWsgUbgYctt"
   },
   "outputs": [],
   "source": [
    "from sklearn.tree import DecisionTreeClassifier\n",
    "from sklearn.metrics import accuracy_score\n",
    "from sklearn.metrics import mean_squared_error"
   ]
  },
  {
   "cell_type": "code",
   "execution_count": 34,
   "metadata": {
    "id": "EVfTxLyHY5Nr"
   },
   "outputs": [],
   "source": [
    "results = []\n",
    "for D in D_sizes:\n",
    "  clf = DecisionTreeClassifier()\n",
    "  clf.fit(D[[0,1]], D[2])\n",
    "  preds = clf.predict(Dbig_test[[0,1]])\n",
    "\n",
    "  test_err = mean_squared_error(Dbig_test[2],preds)\n",
    "  nodes = clf.tree_.node_count\n",
    "  results.append([len(D), nodes,  test_err])"
   ]
  },
  {
   "cell_type": "code",
   "execution_count": 35,
   "metadata": {
    "id": "Q_CtaZxWZKzB"
   },
   "outputs": [],
   "source": [
    "df_results = pd.DataFrame(results, columns = ['n', 'nodes', 'err'])"
   ]
  },
  {
   "cell_type": "code",
   "execution_count": 36,
   "metadata": {
    "colab": {
     "base_uri": "https://localhost:8080/",
     "height": 205
    },
    "id": "8yK-fCkGePVo",
    "outputId": "3591442b-7523-4b02-d8e5-5b716ae3565d"
   },
   "outputs": [
    {
     "data": {
      "text/html": [
       "<div>\n",
       "<style scoped>\n",
       "    .dataframe tbody tr th:only-of-type {\n",
       "        vertical-align: middle;\n",
       "    }\n",
       "\n",
       "    .dataframe tbody tr th {\n",
       "        vertical-align: top;\n",
       "    }\n",
       "\n",
       "    .dataframe thead th {\n",
       "        text-align: right;\n",
       "    }\n",
       "</style>\n",
       "<table border=\"1\" class=\"dataframe\">\n",
       "  <thead>\n",
       "    <tr style=\"text-align: right;\">\n",
       "      <th></th>\n",
       "      <th>n</th>\n",
       "      <th>nodes</th>\n",
       "      <th>err</th>\n",
       "    </tr>\n",
       "  </thead>\n",
       "  <tbody>\n",
       "    <tr>\n",
       "      <th>0</th>\n",
       "      <td>32</td>\n",
       "      <td>9</td>\n",
       "      <td>0.101770</td>\n",
       "    </tr>\n",
       "    <tr>\n",
       "      <th>1</th>\n",
       "      <td>128</td>\n",
       "      <td>21</td>\n",
       "      <td>0.107301</td>\n",
       "    </tr>\n",
       "    <tr>\n",
       "      <th>2</th>\n",
       "      <td>512</td>\n",
       "      <td>59</td>\n",
       "      <td>0.034845</td>\n",
       "    </tr>\n",
       "    <tr>\n",
       "      <th>3</th>\n",
       "      <td>2048</td>\n",
       "      <td>105</td>\n",
       "      <td>0.021571</td>\n",
       "    </tr>\n",
       "    <tr>\n",
       "      <th>4</th>\n",
       "      <td>8192</td>\n",
       "      <td>229</td>\n",
       "      <td>0.016593</td>\n",
       "    </tr>\n",
       "  </tbody>\n",
       "</table>\n",
       "</div>"
      ],
      "text/plain": [
       "      n  nodes       err\n",
       "0    32      9  0.101770\n",
       "1   128     21  0.107301\n",
       "2   512     59  0.034845\n",
       "3  2048    105  0.021571\n",
       "4  8192    229  0.016593"
      ]
     },
     "execution_count": 36,
     "metadata": {},
     "output_type": "execute_result"
    }
   ],
   "source": [
    "df_results"
   ]
  },
  {
   "cell_type": "code",
   "execution_count": 23,
   "metadata": {
    "colab": {
     "base_uri": "https://localhost:8080/",
     "height": 296
    },
    "id": "Sv4bEpe3eQEA",
    "outputId": "15977b45-9ae2-4bf1-9e0c-64e145a4b797"
   },
   "outputs": [
    {
     "data": {
      "text/plain": [
       "Text(0, 0.5, 'test error rate')"
      ]
     },
     "execution_count": 23,
     "metadata": {},
     "output_type": "execute_result"
    },
    {
     "data": {
      "image/png": "[encoded data removed]",
      "text/plain": [
       "<Figure size 432x288 with 1 Axes>"
      ]
     },
     "metadata": {
      "needs_background": "light"
     },
     "output_type": "display_data"
    }
   ],
   "source": [
    "plt.plot(df_results['n'], df_results['err'])\n",
    "plt.xlabel('number of training samples')\n",
    "plt.ylabel('test error rate')"
   ]
  },
  {
   "cell_type": "markdown",
   "metadata": {
    "id": "Q1QOD5wxfIkT"
   },
   "source": [
    "#4 Lagrange"
   ]
  },
  {
   "cell_type": "markdown",
   "metadata": {
    "id": "ypfH4QkFD0Gu"
   },
   "source": [
    "pseudocode https://www.codesansar.com/numerical-methods/lagrange-interpolation-method-pseudocode.htm"
   ]
  },
  {
   "cell_type": "code",
   "execution_count": 12,
   "metadata": {
    "id": "oT0UJh4efqG8"
   },
   "outputs": [],
   "source": [
    "from scipy.interpolate import lagrange\n",
    "import numpy.polynomial.polynomial as poly\n",
    "from sklearn.metrics import mean_squared_error"
   ]
  },
  {
   "cell_type": "code",
   "execution_count": 4,
   "metadata": {
    "id": "br3dV6ZYeXC3"
   },
   "outputs": [],
   "source": [
    "# [a,b] = [0,1)\n",
    "x = np.random.rand(100)\n",
    "y = np.sin(x)"
   ]
  },
  {
   "cell_type": "code",
   "execution_count": 6,
   "metadata": {
    "id": "2FLsQioxDG1z"
   },
   "outputs": [],
   "source": [
    "def lagrange_interpolation(x,y, xp):\n",
    "  yp = 0 #initialize\n",
    "  n = len(x)\n",
    "  for i in range(n):\n",
    "    p = 1\n",
    "    for j in range(n):\n",
    "      if i != j:\n",
    "        p = p*(xp - x[j])/(x[i] - x[j])\n",
    "    yp = yp + p*y[i]\n",
    "  return yp"
   ]
  },
  {
   "cell_type": "code",
   "execution_count": 7,
   "metadata": {
    "id": "bDNR5OIfBAFz"
   },
   "outputs": [],
   "source": [
    "preds = lagrange_interpolation(x,y,x)"
   ]
  },
  {
   "cell_type": "code",
   "execution_count": 13,
   "metadata": {
    "colab": {
     "base_uri": "https://localhost:8080/"
    },
    "id": "qePZUtsMBVrx",
    "outputId": "d464d05e-7e25-4862-8508-9055715acc5f"
   },
   "outputs": [
    {
     "data": {
      "text/plain": [
       "0.0"
      ]
     },
     "execution_count": 13,
     "metadata": {},
     "output_type": "execute_result"
    }
   ],
   "source": [
    "# train error\n",
    "mean_squared_error(y, preds)"
   ]
  },
  {
   "cell_type": "code",
   "execution_count": 14,
   "metadata": {
    "id": "jqHb0CwQgVp1"
   },
   "outputs": [],
   "source": [
    "x_test = np.random.rand(100)\n",
    "y_test = np.sin(x_test)"
   ]
  },
  {
   "cell_type": "code",
   "execution_count": 15,
   "metadata": {
    "id": "Z5UP_hZ0frA0"
   },
   "outputs": [],
   "source": [
    "preds_test = lagrange_interpolation(x,y, x_test)"
   ]
  },
  {
   "cell_type": "code",
   "execution_count": 17,
   "metadata": {
    "colab": {
     "base_uri": "https://localhost:8080/"
    },
    "id": "lq9MhbrGtiKu",
    "outputId": "d4789208-776b-4351-b9a8-202cfc75bdef"
   },
   "outputs": [
    {
     "data": {
      "text/plain": [
       "3.810675809007116e+35"
      ]
     },
     "execution_count": 17,
     "metadata": {},
     "output_type": "execute_result"
    }
   ],
   "source": [
    "mean_squared_error(preds_test, y_test)"
   ]
  },
  {
   "cell_type": "code",
   "execution_count": 18,
   "metadata": {
    "colab": {
     "base_uri": "https://localhost:8080/"
    },
    "id": "AVzit9KQiSkd",
    "outputId": "3e43ec6d-bc40-418c-dd23-4e8f64e0b4cb"
   },
   "outputs": [
    {
     "name": "stdout",
     "output_type": "stream",
     "text": [
      "1.5182103698898465e+37\n"
     ]
    }
   ],
   "source": [
    "noise_001 = np.random.normal(scale = 0.01, size = 100)\n",
    "x_noise_001 = x_test + noise_001\n",
    "y_noise_001 = np.sin(x_noise_001)\n",
    "\n",
    "preds_test_001 = lagrange_interpolation(x,y, x_noise_001)\n",
    "print(mean_squared_error(preds_test_001, y_noise_001))"
   ]
  },
  {
   "cell_type": "code",
   "execution_count": 26,
   "metadata": {
    "colab": {
     "base_uri": "https://localhost:8080/"
    },
    "id": "yK7tbl6oN3RD",
    "outputId": "89ce781a-1316-4b2d-c554-6cb7e7c97d14"
   },
   "outputs": [
    {
     "name": "stdout",
     "output_type": "stream",
     "text": [
      "5.191670669931205e+71\n"
     ]
    }
   ],
   "source": [
    "noise_01 = np.random.normal(scale = 0.1, size = 100)\n",
    "x_noise_01 = x_test + noise_01\n",
    "y_noise_01 = np.sin(x_noise_01)\n",
    "\n",
    "preds_test_01 = lagrange_interpolation(x,y, x_noise_01)\n",
    "print(mean_squared_error(preds_test_01, y_noise_01))"
   ]
  },
  {
   "cell_type": "code",
   "execution_count": 21,
   "metadata": {
    "colab": {
     "base_uri": "https://localhost:8080/"
    },
    "id": "MZgxNCkeKBEE",
    "outputId": "bf1ddcab-6484-49eb-9d7d-a36d58d61b69"
   },
   "outputs": [
    {
     "name": "stdout",
     "output_type": "stream",
     "text": [
      "6.479323531959797e+197\n"
     ]
    }
   ],
   "source": [
    "noise_1 = np.random.normal(scale = 1, size = 100)\n",
    "x_noise_1 = x_test + noise_1\n",
    "y_noise_1 = np.sin(x_noise_1)\n",
    "\n",
    "preds_test_1 = lagrange_interpolation(x,y, x_noise_1)\n",
    "print(mean_squared_error(preds_test_1,y_noise_1))"
   ]
  },
  {
   "cell_type": "code",
   "execution_count": null,
   "metadata": {
    "id": "CZzpnYx8KDhk"
   },
   "outputs": [],
   "source": []
  },
  {
   "cell_type": "markdown",
   "metadata": {
    "id": "knVH-D5lLK1j"
   },
   "source": [
    "I observe that the error increases as the standard deviation increases for the noise. "
   ]
  }
 ],
 "metadata": {
  "colab": {
   "collapsed_sections": [],
   "name": "CS760 HW2.ipynb",
   "provenance": [],
   "toc_visible": true
  },
  "kernelspec": {
   "display_name": "Python 3",
   "language": "python",
   "name": "python3"
  },
  "language_info": {
   "codemirror_mode": {
    "name": "ipython",
    "version": 3
   },
   "file_extension": ".py",
   "mimetype": "text/x-python",
   "name": "python",
   "nbconvert_exporter": "python",
   "pygments_lexer": "ipython3",
   "version": "3.7.9"
  },
  "toc": {
   "base_numbering": 1,
   "nav_menu": {},
   "number_sections": true,
   "sideBar": true,
   "skip_h1_title": false,
   "title_cell": "Table of Contents",
   "title_sidebar": "Contents",
   "toc_cell": false,
   "toc_position": {},
   "toc_section_display": true,
   "toc_window_display": false
  },
  "varInspector": {
   "cols": {
    "lenName": 16,
    "lenType": 16,
    "lenVar": 40
   },
   "kernels_config": {
    "python": {
     "delete_cmd_postfix": "",
     "delete_cmd_prefix": "del ",
     "library": "var_list.py",
     "varRefreshCmd": "print(var_dic_list())"
    },
    "r": {
     "delete_cmd_postfix": ") ",
     "delete_cmd_prefix": "rm(",
     "library": "var_list.r",
     "varRefreshCmd": "cat(var_dic_list()) "
    }
   },
   "types_to_exclude": [
    "module",
    "function",
    "builtin_function_or_method",
    "instance",
    "_Feature"
   ],
   "window_display": false
  }
 },
 "nbformat": 4,
 "nbformat_minor": 1
}
